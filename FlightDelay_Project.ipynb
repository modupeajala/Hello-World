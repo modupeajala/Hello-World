{
  "nbformat": 4,
  "nbformat_minor": 0,
  "metadata": {
    "colab": {
      "name": "FlightDelay Project.ipynb",
      "provenance": [],
      "collapsed_sections": [
        "T0RgOKFIFC7G",
        "mimIWbcBDP5L",
        "kz8i0lhVX2W0",
        "KzF-P4BSqxnk",
        "42uG96XBKKl2",
        "-QnW6CzgYDq1",
        "LjpFhVPKhjcZ",
        "JA0s3yYoh_5F",
        "hMJ7RscKUlMV"
      ],
      "include_colab_link": true
    },
    "kernelspec": {
      "name": "python3",
      "display_name": "Python 3"
    }
  },
  "cells": [
    {
      "cell_type": "markdown",
      "metadata": {
        "id": "view-in-github",
        "colab_type": "text"
      },
      "source": [
        "<a href=\"https://colab.research.google.com/github/modupeajala/Hello-World/blob/master/FlightDelay_Project.ipynb\" target=\"_parent\"><img src=\"https://colab.research.google.com/assets/colab-badge.svg\" alt=\"Open In Colab\"/></a>"
      ]
    },
    {
      "cell_type": "markdown",
      "metadata": {
        "id": "RDopaW7--pbF",
        "colab_type": "text"
      },
      "source": [
        "## Modupe Ajala\n",
        "\n"
      ]
    },
    {
      "cell_type": "markdown",
      "metadata": {
        "id": "rg8JRVpi-9pn",
        "colab_type": "text"
      },
      "source": [
        "##Machine Learning on the FlightDelay dataset"
      ]
    },
    {
      "cell_type": "markdown",
      "metadata": {
        "id": "w0dvU177Ecjl",
        "colab_type": "text"
      },
      "source": [
        "##### The dataset FlightDelayData.xlsx provides information on all commercial flights departing from Washington, D.C. area and arriving at New York during January 2004. For each flight, there is information on the departure and arrival airports, the distance of the route, the scheduled time and date of the flight, and so on. "
      ]
    },
    {
      "cell_type": "markdown",
      "metadata": {
        "id": "RShrL3Ja_SJq",
        "colab_type": "text"
      },
      "source": [
        "### Data dictionary\n",
        "\n",
        "CRS_DEP_TIME - This is the scheduled departure time\n",
        "\n",
        "CARRIER - This is the airline\n",
        "\n",
        "DEP_TIME - This is the actual departure time\n",
        "\n",
        "DEST - This is the destination airport in NY (JFK, \n",
        "LGA, EWR)\n",
        "\n",
        "DISTANCE - Flight distance in miles\n",
        "\n",
        "FL_DATE - This is the flight date\n",
        "\n",
        "FL_NUM - This is the flight number\n",
        "\n",
        "ORIGIN - Departure airport in DC (DCA, BWI)\n",
        "\n",
        "Weather - The weather was inclement (1) or not (0)\n",
        "\n",
        "DAY_WEEK - DAY of the WEEK. (1) monday (2) tuesday\n",
        "\n",
        "DAY_OF_MONTH - DAY OF the MONTH\n",
        "\n",
        "TAIL_NUM - This number is airplane specific\n",
        "\n",
        "Flight Status - Weather the flight was delayed or ontime. defined as arriving within 15 minutes of scheduled. This is our target variable"
      ]
    },
    {
      "cell_type": "markdown",
      "metadata": {
        "id": "T0RgOKFIFC7G",
        "colab_type": "text"
      },
      "source": [
        "# Setup\n",
        "\n",
        "##### We will install some common data science libraries. Some of these may already be installed, which is fine."
      ]
    },
    {
      "cell_type": "code",
      "metadata": {
        "id": "MmGL1z8VFNfX",
        "colab_type": "code",
        "outputId": "6097cec2-9053-47a9-9821-ca860bc175f7",
        "colab": {
          "base_uri": "https://localhost:8080/",
          "height": 802
        }
      },
      "source": [
        "!pip install --upgrade pip\n",
        "!pip install numpy\n",
        "!pip install scipy\n",
        "!pip install scikit-learn\n",
        "!pip install matplotlib\n",
        "!pip install pandas\n",
        "!pip install pillow\n",
        "!pip install imageio\n",
        "!pip install joblib\n",
        "!pip install graphviz\n",
        "!pip install six\n",
        "!pip install category_encoders\n",
        "!pip install tensorflow\n",
        "!pip install tensorflow-gpu"
      ],
      "execution_count": 0,
      "outputs": [
        {
          "output_type": "stream",
          "text": [
            "Requirement already up-to-date: pip in /usr/local/lib/python3.6/dist-packages (19.3.1)\n",
            "Requirement already satisfied: numpy in /usr/local/lib/python3.6/dist-packages (1.17.3)\n",
            "Requirement already satisfied: scipy in /usr/local/lib/python3.6/dist-packages (1.3.1)\n",
            "Requirement already satisfied: numpy>=1.13.3 in /usr/local/lib/python3.6/dist-packages (from scipy) (1.17.3)\n",
            "Requirement already satisfied: scikit-learn in /usr/local/lib/python3.6/dist-packages (0.21.3)\n",
            "Requirement already satisfied: numpy>=1.11.0 in /usr/local/lib/python3.6/dist-packages (from scikit-learn) (1.17.3)\n",
            "Requirement already satisfied: scipy>=0.17.0 in /usr/local/lib/python3.6/dist-packages (from scikit-learn) (1.3.1)\n",
            "Requirement already satisfied: joblib>=0.11 in /usr/local/lib/python3.6/dist-packages (from scikit-learn) (0.14.0)\n",
            "Requirement already satisfied: matplotlib in /usr/local/lib/python3.6/dist-packages (3.1.1)\n",
            "Requirement already satisfied: pyparsing!=2.0.4,!=2.1.2,!=2.1.6,>=2.0.1 in /usr/local/lib/python3.6/dist-packages (from matplotlib) (2.4.2)\n",
            "Requirement already satisfied: kiwisolver>=1.0.1 in /usr/local/lib/python3.6/dist-packages (from matplotlib) (1.1.0)\n",
            "Requirement already satisfied: cycler>=0.10 in /usr/local/lib/python3.6/dist-packages (from matplotlib) (0.10.0)\n",
            "Requirement already satisfied: python-dateutil>=2.1 in /usr/local/lib/python3.6/dist-packages (from matplotlib) (2.6.1)\n",
            "Requirement already satisfied: numpy>=1.11 in /usr/local/lib/python3.6/dist-packages (from matplotlib) (1.17.3)\n",
            "Requirement already satisfied: setuptools in /usr/local/lib/python3.6/dist-packages (from kiwisolver>=1.0.1->matplotlib) (41.4.0)\n",
            "Requirement already satisfied: six in /usr/local/lib/python3.6/dist-packages (from cycler>=0.10->matplotlib) (1.12.0)\n",
            "Requirement already satisfied: pandas in /usr/local/lib/python3.6/dist-packages (0.25.2)\n",
            "Requirement already satisfied: pytz>=2017.2 in /usr/local/lib/python3.6/dist-packages (from pandas) (2018.9)\n",
            "Requirement already satisfied: python-dateutil>=2.6.1 in /usr/local/lib/python3.6/dist-packages (from pandas) (2.6.1)\n",
            "Requirement already satisfied: numpy>=1.13.3 in /usr/local/lib/python3.6/dist-packages (from pandas) (1.17.3)\n",
            "Requirement already satisfied: six>=1.5 in /usr/local/lib/python3.6/dist-packages (from python-dateutil>=2.6.1->pandas) (1.12.0)\n",
            "Requirement already satisfied: pillow in /usr/local/lib/python3.6/dist-packages (4.3.0)\n",
            "Requirement already satisfied: olefile in /usr/local/lib/python3.6/dist-packages (from pillow) (0.46)\n",
            "Requirement already satisfied: imageio in /usr/local/lib/python3.6/dist-packages (2.4.1)\n",
            "Requirement already satisfied: pillow in /usr/local/lib/python3.6/dist-packages (from imageio) (4.3.0)\n",
            "Requirement already satisfied: numpy in /usr/local/lib/python3.6/dist-packages (from imageio) (1.17.3)\n",
            "Requirement already satisfied: olefile in /usr/local/lib/python3.6/dist-packages (from pillow->imageio) (0.46)\n",
            "Requirement already satisfied: joblib in /usr/local/lib/python3.6/dist-packages (0.14.0)\n",
            "Requirement already satisfied: graphviz in /usr/local/lib/python3.6/dist-packages (0.10.1)\n",
            "Requirement already satisfied: six in /usr/local/lib/python3.6/dist-packages (1.12.0)\n",
            "Collecting category_encoders\n",
            "\u001b[?25l  Downloading https://files.pythonhosted.org/packages/a0/52/c54191ad3782de633ea3d6ee3bb2837bda0cf3bc97644bb6375cf14150a0/category_encoders-2.1.0-py2.py3-none-any.whl (100kB)\n",
            "\u001b[K     |████████████████████████████████| 102kB 2.1MB/s \n",
            "\u001b[?25hRequirement already satisfied: numpy>=1.11.3 in /usr/local/lib/python3.6/dist-packages (from category_encoders) (1.17.3)\n",
            "Requirement already satisfied: statsmodels>=0.6.1 in /usr/local/lib/python3.6/dist-packages (from category_encoders) (0.10.1)\n",
            "Requirement already satisfied: pandas>=0.21.1 in /usr/local/lib/python3.6/dist-packages (from category_encoders) (0.25.2)\n",
            "Requirement already satisfied: scikit-learn>=0.20.0 in /usr/local/lib/python3.6/dist-packages (from category_encoders) (0.21.3)\n",
            "Requirement already satisfied: scipy>=0.19.0 in /usr/local/lib/python3.6/dist-packages (from category_encoders) (1.3.1)\n",
            "Requirement already satisfied: patsy>=0.4.1 in /usr/local/lib/python3.6/dist-packages (from category_encoders) (0.5.1)\n",
            "Requirement already satisfied: pytz>=2017.2 in /usr/local/lib/python3.6/dist-packages (from pandas>=0.21.1->category_encoders) (2018.9)\n",
            "Requirement already satisfied: python-dateutil>=2.6.1 in /usr/local/lib/python3.6/dist-packages (from pandas>=0.21.1->category_encoders) (2.6.1)\n",
            "Requirement already satisfied: joblib>=0.11 in /usr/local/lib/python3.6/dist-packages (from scikit-learn>=0.20.0->category_encoders) (0.14.0)\n",
            "Requirement already satisfied: six in /usr/local/lib/python3.6/dist-packages (from patsy>=0.4.1->category_encoders) (1.12.0)\n",
            "Installing collected packages: category-encoders\n",
            "Successfully installed category-encoders-2.1.0\n"
          ],
          "name": "stdout"
        }
      ]
    },
    {
      "cell_type": "code",
      "metadata": {
        "id": "L9fKVd_pFeQe",
        "colab_type": "code",
        "colab": {}
      },
      "source": [
        "# Common imports\n",
        "\n",
        "# Python ≥3.5 is required\n",
        "import sys\n",
        "assert sys.version_info >= (3, 5)\n",
        "\n",
        "# Scikit-Learn ≥0.20 is required\n",
        "import sklearn\n",
        "assert sklearn.__version__ >= \"0.20\"\n",
        "\n",
        "# Common imports\n",
        "import os\n",
        "import numpy as np\n",
        "from scipy import stats\n",
        "import pandas as pd\n",
        "import matplotlib.pyplot as plt\n",
        "import seaborn as sns\n",
        "\n",
        "sns.set(style=\"darkgrid\") # set seaborn default style\n",
        "\n",
        "# to make this notebook's output identical/stable across runs\n",
        "np.random.seed(42)\n",
        "\n",
        "# set up numpy to display precision upto 3 decimal places and suppresses the use of scientific notation for small numbers\n",
        "#np.set_printoptions(precision=3, suppress=True)\n",
        "np.set_printoptions(formatter={'float': lambda x: \"{0:0.3f}\".format(x)})\n",
        "\n",
        "pd.set_option('display.max_columns', None) # show all columns in a Pandas DataFrame\n",
        "\n",
        "# To plot pretty figures\n",
        "%matplotlib inline\n",
        "import matplotlib as mpl\n",
        "import matplotlib.pyplot as plt\n",
        "mpl.rc('axes', labelsize=14)\n",
        "mpl.rc('xtick', labelsize=12)\n",
        "mpl.rc('ytick', labelsize=12)\n",
        "\n",
        "# Where to save the data and figures\n",
        "PROJECT_ROOT_DIR = \".\"\n",
        "IMAGES_DIR = \"images\"\n",
        "DATA_DIR = \"data\"\n",
        "SUB_DIR = \"dsb-churn\" # NOTE: update this for each project\n",
        "IMAGES_PATH = os.path.join(PROJECT_ROOT_DIR, IMAGES_DIR, SUB_DIR)\n",
        "DATA_PATH = os.path.join(PROJECT_ROOT_DIR, DATA_DIR, SUB_DIR)\n",
        "os.makedirs(IMAGES_PATH, exist_ok=True)\n",
        "os.makedirs(DATA_PATH, exist_ok=True)\n",
        "\n",
        "# Function for saving figures\n",
        "def save_fig(fig_id, tight_layout=True, fig_extension=\"png\", resolution=300):\n",
        "    path = os.path.join(IMAGES_PATH, fig_id + \".\" + fig_extension)\n",
        "    print(\"Saving figure\", fig_id)\n",
        "    if tight_layout:\n",
        "        plt.tight_layout()\n",
        "    plt.savefig(path, format=fig_extension, dpi=resolution)\n",
        "\n",
        "# Function for saving data downloaded from a URL\n",
        "from six.moves import urllib\n",
        "def save_data(file_url, file_name):\n",
        "    path = os.path.join(DATA_PATH, file_name)\n",
        "    print(\"Saving data file\", file_name)\n",
        "    urllib.request.urlretrieve(file_url, path)\n",
        "\n",
        "# Ignore useless warnings (see SciPy issue #5998)\n",
        "import warnings\n",
        "warnings.filterwarnings(action=\"ignore\", message=\"^internal gelsd\")"
      ],
      "execution_count": 0,
      "outputs": []
    },
    {
      "cell_type": "code",
      "metadata": {
        "id": "8iBFZDAkFvO5",
        "colab_type": "code",
        "outputId": "8f6676c3-91c4-4852-b7bd-0635f31db336",
        "colab": {
          "base_uri": "https://localhost:8080/",
          "height": 122
        }
      },
      "source": [
        "from google.colab import drive\n",
        "drive.mount('/content/drive')"
      ],
      "execution_count": 0,
      "outputs": [
        {
          "output_type": "stream",
          "text": [
            "Go to this URL in a browser: https://accounts.google.com/o/oauth2/auth?client_id=947318989803-6bn6qk8qdgf4n4g3pfee6491hc0brc4i.apps.googleusercontent.com&redirect_uri=urn%3Aietf%3Awg%3Aoauth%3A2.0%3Aoob&scope=email%20https%3A%2F%2Fwww.googleapis.com%2Fauth%2Fdocs.test%20https%3A%2F%2Fwww.googleapis.com%2Fauth%2Fdrive%20https%3A%2F%2Fwww.googleapis.com%2Fauth%2Fdrive.photos.readonly%20https%3A%2F%2Fwww.googleapis.com%2Fauth%2Fpeopleapi.readonly&response_type=code\n",
            "\n",
            "Enter your authorization code:\n",
            "··········\n",
            "Mounted at /content/drive\n"
          ],
          "name": "stdout"
        }
      ]
    },
    {
      "cell_type": "markdown",
      "metadata": {
        "id": "mimIWbcBDP5L",
        "colab_type": "text"
      },
      "source": [
        "#Question 1\n",
        "\n",
        "Load the data from the source file and set up the target y and predictors X as expected\n",
        "by scikit-learn. \n",
        "\n"
      ]
    },
    {
      "cell_type": "markdown",
      "metadata": {
        "id": "ukLXtRvbDHR3",
        "colab_type": "text"
      },
      "source": [
        "### Data Loading\n"
      ]
    },
    {
      "cell_type": "code",
      "metadata": {
        "id": "1vUQZc9bCbUR",
        "colab_type": "code",
        "colab": {}
      },
      "source": [
        "import pandas as pd"
      ],
      "execution_count": 0,
      "outputs": []
    },
    {
      "cell_type": "code",
      "metadata": {
        "id": "easOemUR-ooi",
        "colab_type": "code",
        "colab": {}
      },
      "source": [
        "flight = pd.read_excel('/content/drive/My Drive/Colab Notebooks/MIST.6160.061/FlightDelays.xlsx')"
      ],
      "execution_count": 0,
      "outputs": []
    },
    {
      "cell_type": "code",
      "metadata": {
        "id": "jqLIyIgjIS4k",
        "colab_type": "code",
        "outputId": "e1e81836-c1a1-4ab0-9be0-80512ad35c72",
        "colab": {
          "base_uri": "https://localhost:8080/",
          "height": 309
        }
      },
      "source": [
        "flight.head()"
      ],
      "execution_count": 0,
      "outputs": [
        {
          "output_type": "execute_result",
          "data": {
            "text/html": [
              "<div>\n",
              "<style scoped>\n",
              "    .dataframe tbody tr th:only-of-type {\n",
              "        vertical-align: middle;\n",
              "    }\n",
              "\n",
              "    .dataframe tbody tr th {\n",
              "        vertical-align: top;\n",
              "    }\n",
              "\n",
              "    .dataframe thead th {\n",
              "        text-align: right;\n",
              "    }\n",
              "</style>\n",
              "<table border=\"1\" class=\"dataframe\">\n",
              "  <thead>\n",
              "    <tr style=\"text-align: right;\">\n",
              "      <th></th>\n",
              "      <th>CRS_DEP_TIME</th>\n",
              "      <th>CARRIER</th>\n",
              "      <th>DEP_TIME</th>\n",
              "      <th>DEST</th>\n",
              "      <th>DISTANCE</th>\n",
              "      <th>FL_DATE</th>\n",
              "      <th>FL_NUM</th>\n",
              "      <th>ORIGIN</th>\n",
              "      <th>Weather</th>\n",
              "      <th>DAY_WEEK</th>\n",
              "      <th>DAY_OF_MONTH</th>\n",
              "      <th>TAIL_NUM</th>\n",
              "      <th>Target</th>\n",
              "    </tr>\n",
              "  </thead>\n",
              "  <tbody>\n",
              "    <tr>\n",
              "      <th>0</th>\n",
              "      <td>1455</td>\n",
              "      <td>OH</td>\n",
              "      <td>1455</td>\n",
              "      <td>JFK</td>\n",
              "      <td>184</td>\n",
              "      <td>2004-01-01</td>\n",
              "      <td>5935</td>\n",
              "      <td>BWI</td>\n",
              "      <td>0</td>\n",
              "      <td>4</td>\n",
              "      <td>1</td>\n",
              "      <td>N940CA</td>\n",
              "      <td>ontime</td>\n",
              "    </tr>\n",
              "    <tr>\n",
              "      <th>1</th>\n",
              "      <td>1640</td>\n",
              "      <td>DH</td>\n",
              "      <td>1640</td>\n",
              "      <td>JFK</td>\n",
              "      <td>213</td>\n",
              "      <td>2004-01-01</td>\n",
              "      <td>6155</td>\n",
              "      <td>DCA</td>\n",
              "      <td>0</td>\n",
              "      <td>4</td>\n",
              "      <td>1</td>\n",
              "      <td>N405FJ</td>\n",
              "      <td>ontime</td>\n",
              "    </tr>\n",
              "    <tr>\n",
              "      <th>2</th>\n",
              "      <td>1245</td>\n",
              "      <td>DH</td>\n",
              "      <td>1245</td>\n",
              "      <td>LGA</td>\n",
              "      <td>229</td>\n",
              "      <td>2004-01-01</td>\n",
              "      <td>7208</td>\n",
              "      <td>IAD</td>\n",
              "      <td>0</td>\n",
              "      <td>4</td>\n",
              "      <td>1</td>\n",
              "      <td>N695BR</td>\n",
              "      <td>ontime</td>\n",
              "    </tr>\n",
              "    <tr>\n",
              "      <th>3</th>\n",
              "      <td>1715</td>\n",
              "      <td>DH</td>\n",
              "      <td>1709</td>\n",
              "      <td>LGA</td>\n",
              "      <td>229</td>\n",
              "      <td>2004-01-01</td>\n",
              "      <td>7215</td>\n",
              "      <td>IAD</td>\n",
              "      <td>0</td>\n",
              "      <td>4</td>\n",
              "      <td>1</td>\n",
              "      <td>N662BR</td>\n",
              "      <td>ontime</td>\n",
              "    </tr>\n",
              "    <tr>\n",
              "      <th>4</th>\n",
              "      <td>1039</td>\n",
              "      <td>DH</td>\n",
              "      <td>1035</td>\n",
              "      <td>LGA</td>\n",
              "      <td>229</td>\n",
              "      <td>2004-01-01</td>\n",
              "      <td>7792</td>\n",
              "      <td>IAD</td>\n",
              "      <td>0</td>\n",
              "      <td>4</td>\n",
              "      <td>1</td>\n",
              "      <td>N698BR</td>\n",
              "      <td>ontime</td>\n",
              "    </tr>\n",
              "  </tbody>\n",
              "</table>\n",
              "</div>"
            ],
            "text/plain": [
              "   CRS_DEP_TIME CARRIER  DEP_TIME DEST  DISTANCE    FL_DATE  FL_NUM ORIGIN  \\\n",
              "0          1455      OH      1455  JFK       184 2004-01-01    5935    BWI   \n",
              "1          1640      DH      1640  JFK       213 2004-01-01    6155    DCA   \n",
              "2          1245      DH      1245  LGA       229 2004-01-01    7208    IAD   \n",
              "3          1715      DH      1709  LGA       229 2004-01-01    7215    IAD   \n",
              "4          1039      DH      1035  LGA       229 2004-01-01    7792    IAD   \n",
              "\n",
              "   Weather  DAY_WEEK  DAY_OF_MONTH TAIL_NUM  Target  \n",
              "0        0         4             1   N940CA  ontime  \n",
              "1        0         4             1   N405FJ  ontime  \n",
              "2        0         4             1   N695BR  ontime  \n",
              "3        0         4             1   N662BR  ontime  \n",
              "4        0         4             1   N698BR  ontime  "
            ]
          },
          "metadata": {
            "tags": []
          },
          "execution_count": 155
        }
      ]
    },
    {
      "cell_type": "markdown",
      "metadata": {
        "id": "lobsYijzIpm6",
        "colab_type": "text"
      },
      "source": [
        "## Data Understanding"
      ]
    },
    {
      "cell_type": "code",
      "metadata": {
        "id": "qsVCe2UZIdsZ",
        "colab_type": "code",
        "outputId": "82b46a52-0574-4879-88f4-8426e2806ddb",
        "colab": {
          "base_uri": "https://localhost:8080/",
          "height": 323
        }
      },
      "source": [
        "flight.info()"
      ],
      "execution_count": 0,
      "outputs": [
        {
          "output_type": "stream",
          "text": [
            "<class 'pandas.core.frame.DataFrame'>\n",
            "RangeIndex: 2201 entries, 0 to 2200\n",
            "Data columns (total 13 columns):\n",
            "CRS_DEP_TIME    2201 non-null int64\n",
            "CARRIER         2201 non-null object\n",
            "DEP_TIME        2201 non-null int64\n",
            "DEST            2201 non-null object\n",
            "DISTANCE        2201 non-null int64\n",
            "FL_DATE         2201 non-null datetime64[ns]\n",
            "FL_NUM          2201 non-null int64\n",
            "ORIGIN          2201 non-null object\n",
            "Weather         2201 non-null int64\n",
            "DAY_WEEK        2201 non-null int64\n",
            "DAY_OF_MONTH    2201 non-null int64\n",
            "TAIL_NUM        2201 non-null object\n",
            "Target          2201 non-null object\n",
            "dtypes: datetime64[ns](1), int64(7), object(5)\n",
            "memory usage: 223.7+ KB\n"
          ],
          "name": "stdout"
        }
      ]
    },
    {
      "cell_type": "code",
      "metadata": {
        "id": "daBluHYULA_L",
        "colab_type": "code",
        "outputId": "e1b70c65-98fe-4ad6-8a17-99b49baa8454",
        "colab": {
          "base_uri": "https://localhost:8080/",
          "height": 34
        }
      },
      "source": [
        "flight.shape"
      ],
      "execution_count": 0,
      "outputs": [
        {
          "output_type": "execute_result",
          "data": {
            "text/plain": [
              "(2201, 13)"
            ]
          },
          "metadata": {
            "tags": []
          },
          "execution_count": 157
        }
      ]
    },
    {
      "cell_type": "markdown",
      "metadata": {
        "id": "jKzuIbDhLZ-T",
        "colab_type": "text"
      },
      "source": [
        "### Observations:\n",
        "- There are no missing values in this dataset.\n",
        "- All variables are either of type `object` or `int64` or `datetime64`"
      ]
    },
    {
      "cell_type": "code",
      "metadata": {
        "id": "SkycBGILLG-Z",
        "colab_type": "code",
        "outputId": "6017e99c-7fa5-41f1-ae93-09d4d17ce769",
        "colab": {
          "base_uri": "https://localhost:8080/",
          "height": 204
        }
      },
      "source": [
        "flight.select_dtypes(include='object').describe().T"
      ],
      "execution_count": 0,
      "outputs": [
        {
          "output_type": "execute_result",
          "data": {
            "text/html": [
              "<div>\n",
              "<style scoped>\n",
              "    .dataframe tbody tr th:only-of-type {\n",
              "        vertical-align: middle;\n",
              "    }\n",
              "\n",
              "    .dataframe tbody tr th {\n",
              "        vertical-align: top;\n",
              "    }\n",
              "\n",
              "    .dataframe thead th {\n",
              "        text-align: right;\n",
              "    }\n",
              "</style>\n",
              "<table border=\"1\" class=\"dataframe\">\n",
              "  <thead>\n",
              "    <tr style=\"text-align: right;\">\n",
              "      <th></th>\n",
              "      <th>count</th>\n",
              "      <th>unique</th>\n",
              "      <th>top</th>\n",
              "      <th>freq</th>\n",
              "    </tr>\n",
              "  </thead>\n",
              "  <tbody>\n",
              "    <tr>\n",
              "      <th>CARRIER</th>\n",
              "      <td>2201</td>\n",
              "      <td>8</td>\n",
              "      <td>DH</td>\n",
              "      <td>551</td>\n",
              "    </tr>\n",
              "    <tr>\n",
              "      <th>DEST</th>\n",
              "      <td>2201</td>\n",
              "      <td>3</td>\n",
              "      <td>LGA</td>\n",
              "      <td>1150</td>\n",
              "    </tr>\n",
              "    <tr>\n",
              "      <th>ORIGIN</th>\n",
              "      <td>2201</td>\n",
              "      <td>3</td>\n",
              "      <td>DCA</td>\n",
              "      <td>1370</td>\n",
              "    </tr>\n",
              "    <tr>\n",
              "      <th>TAIL_NUM</th>\n",
              "      <td>2201</td>\n",
              "      <td>549</td>\n",
              "      <td>N225DL</td>\n",
              "      <td>65</td>\n",
              "    </tr>\n",
              "    <tr>\n",
              "      <th>Target</th>\n",
              "      <td>2201</td>\n",
              "      <td>2</td>\n",
              "      <td>ontime</td>\n",
              "      <td>1773</td>\n",
              "    </tr>\n",
              "  </tbody>\n",
              "</table>\n",
              "</div>"
            ],
            "text/plain": [
              "         count unique     top  freq\n",
              "CARRIER   2201      8      DH   551\n",
              "DEST      2201      3     LGA  1150\n",
              "ORIGIN    2201      3     DCA  1370\n",
              "TAIL_NUM  2201    549  N225DL    65\n",
              "Target    2201      2  ontime  1773"
            ]
          },
          "metadata": {
            "tags": []
          },
          "execution_count": 158
        }
      ]
    },
    {
      "cell_type": "code",
      "metadata": {
        "id": "t2FaYBhRMWoR",
        "colab_type": "code",
        "outputId": "d15e1076-0595-4545-8fa8-ef929ef4fcf5",
        "colab": {
          "base_uri": "https://localhost:8080/",
          "height": 266
        }
      },
      "source": [
        "flight.select_dtypes(include='int64').describe().T"
      ],
      "execution_count": 0,
      "outputs": [
        {
          "output_type": "execute_result",
          "data": {
            "text/html": [
              "<div>\n",
              "<style scoped>\n",
              "    .dataframe tbody tr th:only-of-type {\n",
              "        vertical-align: middle;\n",
              "    }\n",
              "\n",
              "    .dataframe tbody tr th {\n",
              "        vertical-align: top;\n",
              "    }\n",
              "\n",
              "    .dataframe thead th {\n",
              "        text-align: right;\n",
              "    }\n",
              "</style>\n",
              "<table border=\"1\" class=\"dataframe\">\n",
              "  <thead>\n",
              "    <tr style=\"text-align: right;\">\n",
              "      <th></th>\n",
              "      <th>count</th>\n",
              "      <th>mean</th>\n",
              "      <th>std</th>\n",
              "      <th>min</th>\n",
              "      <th>25%</th>\n",
              "      <th>50%</th>\n",
              "      <th>75%</th>\n",
              "      <th>max</th>\n",
              "    </tr>\n",
              "  </thead>\n",
              "  <tbody>\n",
              "    <tr>\n",
              "      <th>CRS_DEP_TIME</th>\n",
              "      <td>2201.0</td>\n",
              "      <td>1371.938664</td>\n",
              "      <td>432.697149</td>\n",
              "      <td>600.0</td>\n",
              "      <td>1000.0</td>\n",
              "      <td>1455.0</td>\n",
              "      <td>1710.0</td>\n",
              "      <td>2130.0</td>\n",
              "    </tr>\n",
              "    <tr>\n",
              "      <th>DEP_TIME</th>\n",
              "      <td>2201.0</td>\n",
              "      <td>1369.298955</td>\n",
              "      <td>442.462754</td>\n",
              "      <td>10.0</td>\n",
              "      <td>1004.0</td>\n",
              "      <td>1450.0</td>\n",
              "      <td>1709.0</td>\n",
              "      <td>2330.0</td>\n",
              "    </tr>\n",
              "    <tr>\n",
              "      <th>DISTANCE</th>\n",
              "      <td>2201.0</td>\n",
              "      <td>211.871422</td>\n",
              "      <td>13.316815</td>\n",
              "      <td>169.0</td>\n",
              "      <td>213.0</td>\n",
              "      <td>214.0</td>\n",
              "      <td>214.0</td>\n",
              "      <td>229.0</td>\n",
              "    </tr>\n",
              "    <tr>\n",
              "      <th>FL_NUM</th>\n",
              "      <td>2201.0</td>\n",
              "      <td>3815.086324</td>\n",
              "      <td>2409.750224</td>\n",
              "      <td>746.0</td>\n",
              "      <td>2156.0</td>\n",
              "      <td>2385.0</td>\n",
              "      <td>6155.0</td>\n",
              "      <td>7924.0</td>\n",
              "    </tr>\n",
              "    <tr>\n",
              "      <th>Weather</th>\n",
              "      <td>2201.0</td>\n",
              "      <td>0.014539</td>\n",
              "      <td>0.119725</td>\n",
              "      <td>0.0</td>\n",
              "      <td>0.0</td>\n",
              "      <td>0.0</td>\n",
              "      <td>0.0</td>\n",
              "      <td>1.0</td>\n",
              "    </tr>\n",
              "    <tr>\n",
              "      <th>DAY_WEEK</th>\n",
              "      <td>2201.0</td>\n",
              "      <td>3.905498</td>\n",
              "      <td>1.903149</td>\n",
              "      <td>1.0</td>\n",
              "      <td>2.0</td>\n",
              "      <td>4.0</td>\n",
              "      <td>5.0</td>\n",
              "      <td>7.0</td>\n",
              "    </tr>\n",
              "    <tr>\n",
              "      <th>DAY_OF_MONTH</th>\n",
              "      <td>2201.0</td>\n",
              "      <td>16.024989</td>\n",
              "      <td>8.677390</td>\n",
              "      <td>1.0</td>\n",
              "      <td>8.0</td>\n",
              "      <td>16.0</td>\n",
              "      <td>23.0</td>\n",
              "      <td>31.0</td>\n",
              "    </tr>\n",
              "  </tbody>\n",
              "</table>\n",
              "</div>"
            ],
            "text/plain": [
              "               count         mean          std    min     25%     50%     75%  \\\n",
              "CRS_DEP_TIME  2201.0  1371.938664   432.697149  600.0  1000.0  1455.0  1710.0   \n",
              "DEP_TIME      2201.0  1369.298955   442.462754   10.0  1004.0  1450.0  1709.0   \n",
              "DISTANCE      2201.0   211.871422    13.316815  169.0   213.0   214.0   214.0   \n",
              "FL_NUM        2201.0  3815.086324  2409.750224  746.0  2156.0  2385.0  6155.0   \n",
              "Weather       2201.0     0.014539     0.119725    0.0     0.0     0.0     0.0   \n",
              "DAY_WEEK      2201.0     3.905498     1.903149    1.0     2.0     4.0     5.0   \n",
              "DAY_OF_MONTH  2201.0    16.024989     8.677390    1.0     8.0    16.0    23.0   \n",
              "\n",
              "                 max  \n",
              "CRS_DEP_TIME  2130.0  \n",
              "DEP_TIME      2330.0  \n",
              "DISTANCE       229.0  \n",
              "FL_NUM        7924.0  \n",
              "Weather          1.0  \n",
              "DAY_WEEK         7.0  \n",
              "DAY_OF_MONTH    31.0  "
            ]
          },
          "metadata": {
            "tags": []
          },
          "execution_count": 159
        }
      ]
    },
    {
      "cell_type": "code",
      "metadata": {
        "id": "0Q1abt11Mlxp",
        "colab_type": "code",
        "outputId": "511916df-3fbd-4a51-b36f-ad3d792e8fda",
        "colab": {
          "base_uri": "https://localhost:8080/",
          "height": 80
        }
      },
      "source": [
        "flight.select_dtypes(include='datetime64').describe().T"
      ],
      "execution_count": 0,
      "outputs": [
        {
          "output_type": "execute_result",
          "data": {
            "text/html": [
              "<div>\n",
              "<style scoped>\n",
              "    .dataframe tbody tr th:only-of-type {\n",
              "        vertical-align: middle;\n",
              "    }\n",
              "\n",
              "    .dataframe tbody tr th {\n",
              "        vertical-align: top;\n",
              "    }\n",
              "\n",
              "    .dataframe thead th {\n",
              "        text-align: right;\n",
              "    }\n",
              "</style>\n",
              "<table border=\"1\" class=\"dataframe\">\n",
              "  <thead>\n",
              "    <tr style=\"text-align: right;\">\n",
              "      <th></th>\n",
              "      <th>count</th>\n",
              "      <th>unique</th>\n",
              "      <th>top</th>\n",
              "      <th>freq</th>\n",
              "      <th>first</th>\n",
              "      <th>last</th>\n",
              "    </tr>\n",
              "  </thead>\n",
              "  <tbody>\n",
              "    <tr>\n",
              "      <th>FL_DATE</th>\n",
              "      <td>2201</td>\n",
              "      <td>31</td>\n",
              "      <td>2004-01-22</td>\n",
              "      <td>86</td>\n",
              "      <td>2004-01-01</td>\n",
              "      <td>2004-01-31</td>\n",
              "    </tr>\n",
              "  </tbody>\n",
              "</table>\n",
              "</div>"
            ],
            "text/plain": [
              "        count unique        top freq      first       last\n",
              "FL_DATE  2201     31 2004-01-22   86 2004-01-01 2004-01-31"
            ]
          },
          "metadata": {
            "tags": []
          },
          "execution_count": 160
        }
      ]
    },
    {
      "cell_type": "markdown",
      "metadata": {
        "id": "6RyCWLsqV_mz",
        "colab_type": "text"
      },
      "source": [
        "### Observation:\n",
        "\n",
        "- It is best to do any further data exploration after the test (holdout) set is removed from the data so that our observations do not influence (leak) the model building and evaluation."
      ]
    },
    {
      "cell_type": "markdown",
      "metadata": {
        "id": "kibu0Uoq6JYp",
        "colab_type": "text"
      },
      "source": [
        "Separate the predictors and the labels\n",
        "\n",
        "We need to setup the X (DataFrame) and y (series) appropriately for using `scikit-learn` API"
      ]
    },
    {
      "cell_type": "code",
      "metadata": {
        "id": "upZGUT4n516s",
        "colab_type": "code",
        "colab": {}
      },
      "source": [
        "data = flight.drop('Target', axis=1) \n",
        "data_labels = flight['Target'].copy()"
      ],
      "execution_count": 0,
      "outputs": []
    },
    {
      "cell_type": "markdown",
      "metadata": {
        "id": "kz8i0lhVX2W0",
        "colab_type": "text"
      },
      "source": [
        "#Question 2\n",
        "\n",
        "Create a train-test 80-20 split of the data while maintaining the same target value proportion in each of the training and testing partition.\n",
        "\n",
        "use the training partition for the\n",
        "subsequent analysis and then finally use the testing at the last step for final validation using the best\n",
        "model found. "
      ]
    },
    {
      "cell_type": "markdown",
      "metadata": {
        "id": "lxQ97cmBXIAy",
        "colab_type": "text"
      },
      "source": [
        "## Create a Train-Test Split\n",
        "\n",
        "- Test data will be the \"hold out\" dataset.\n",
        "- We will later perform model validation and selection only on the training portion.\n",
        "- We will use **stratified sampling** strategy."
      ]
    },
    {
      "cell_type": "code",
      "metadata": {
        "id": "Ky6ibnr1YU7N",
        "colab_type": "code",
        "colab": {}
      },
      "source": [
        "data = flight"
      ],
      "execution_count": 0,
      "outputs": []
    },
    {
      "cell_type": "code",
      "metadata": {
        "id": "NenE0UYMZ0Nx",
        "colab_type": "code",
        "outputId": "0ce0b15d-9f66-4f60-cf5a-1669a22ab1af",
        "colab": {
          "base_uri": "https://localhost:8080/",
          "height": 34
        }
      },
      "source": [
        "data.shape"
      ],
      "execution_count": 0,
      "outputs": [
        {
          "output_type": "execute_result",
          "data": {
            "text/plain": [
              "(2201, 13)"
            ]
          },
          "metadata": {
            "tags": []
          },
          "execution_count": 162
        }
      ]
    },
    {
      "cell_type": "code",
      "metadata": {
        "id": "SqDmpPg6XHb5",
        "colab_type": "code",
        "colab": {}
      },
      "source": [
        "from sklearn.model_selection import StratifiedShuffleSplit\n",
        "\n",
        "split = StratifiedShuffleSplit(n_splits=1, test_size=0.2, random_state=42)\n",
        "\n",
        "for train_index, test_index in split.split(data, data['Target']):\n",
        "    strat_train_set = data.loc[train_index]\n",
        "    strat_test_set = data.loc[test_index]"
      ],
      "execution_count": 0,
      "outputs": []
    },
    {
      "cell_type": "code",
      "metadata": {
        "id": "kBRBpMCxjSfb",
        "colab_type": "code",
        "outputId": "89cf7b00-f96f-4de0-d2c7-f526ef84e642",
        "colab": {
          "base_uri": "https://localhost:8080/",
          "height": 68
        }
      },
      "source": [
        "strat_test_set['Target'].value_counts() / len(strat_test_set)"
      ],
      "execution_count": 0,
      "outputs": [
        {
          "output_type": "execute_result",
          "data": {
            "text/plain": [
              "ontime     0.804989\n",
              "delayed    0.195011\n",
              "Name: Target, dtype: float64"
            ]
          },
          "metadata": {
            "tags": []
          },
          "execution_count": 164
        }
      ]
    },
    {
      "cell_type": "code",
      "metadata": {
        "id": "FqSpPvyscsXy",
        "colab_type": "code",
        "outputId": "9464fc1c-4b46-4a2a-e8c8-9e34bb7d1011",
        "colab": {
          "base_uri": "https://localhost:8080/",
          "height": 68
        }
      },
      "source": [
        "data['Target'].value_counts() / len(data)"
      ],
      "execution_count": 0,
      "outputs": [
        {
          "output_type": "execute_result",
          "data": {
            "text/plain": [
              "ontime     0.805543\n",
              "delayed    0.194457\n",
              "Name: Target, dtype: float64"
            ]
          },
          "metadata": {
            "tags": []
          },
          "execution_count": 165
        }
      ]
    },
    {
      "cell_type": "markdown",
      "metadata": {
        "id": "deiNSs8XlcHR",
        "colab_type": "text"
      },
      "source": [
        "### Observations:\n",
        "- With stratified sampling, training and test data splits have the same distribution of the target classes (`ontime` and `delayed`)"
      ]
    },
    {
      "cell_type": "code",
      "metadata": {
        "id": "ZFG3T29mkvkt",
        "colab_type": "code",
        "outputId": "d5546453-d1a3-48b5-d4e6-b57ce921eb3d",
        "colab": {
          "base_uri": "https://localhost:8080/",
          "height": 323
        }
      },
      "source": [
        "data = strat_train_set\n",
        "data.info()"
      ],
      "execution_count": 0,
      "outputs": [
        {
          "output_type": "stream",
          "text": [
            "<class 'pandas.core.frame.DataFrame'>\n",
            "Int64Index: 1760 entries, 1233 to 1081\n",
            "Data columns (total 13 columns):\n",
            "CRS_DEP_TIME    1760 non-null int64\n",
            "CARRIER         1760 non-null object\n",
            "DEP_TIME        1760 non-null int64\n",
            "DEST            1760 non-null object\n",
            "DISTANCE        1760 non-null int64\n",
            "FL_DATE         1760 non-null datetime64[ns]\n",
            "FL_NUM          1760 non-null int64\n",
            "ORIGIN          1760 non-null object\n",
            "Weather         1760 non-null int64\n",
            "DAY_WEEK        1760 non-null int64\n",
            "DAY_OF_MONTH    1760 non-null int64\n",
            "TAIL_NUM        1760 non-null object\n",
            "Target          1760 non-null object\n",
            "dtypes: datetime64[ns](1), int64(7), object(5)\n",
            "memory usage: 192.5+ KB\n"
          ],
          "name": "stdout"
        }
      ]
    },
    {
      "cell_type": "code",
      "metadata": {
        "id": "vScPKyPul8AJ",
        "colab_type": "code",
        "outputId": "a92afe04-5826-4c96-adeb-305a544c71f4",
        "colab": {
          "base_uri": "https://localhost:8080/",
          "height": 323
        }
      },
      "source": [
        "test_data = strat_test_set\n",
        "test_data.info()"
      ],
      "execution_count": 0,
      "outputs": [
        {
          "output_type": "stream",
          "text": [
            "<class 'pandas.core.frame.DataFrame'>\n",
            "Int64Index: 441 entries, 1768 to 2037\n",
            "Data columns (total 13 columns):\n",
            "CRS_DEP_TIME    441 non-null int64\n",
            "CARRIER         441 non-null object\n",
            "DEP_TIME        441 non-null int64\n",
            "DEST            441 non-null object\n",
            "DISTANCE        441 non-null int64\n",
            "FL_DATE         441 non-null datetime64[ns]\n",
            "FL_NUM          441 non-null int64\n",
            "ORIGIN          441 non-null object\n",
            "Weather         441 non-null int64\n",
            "DAY_WEEK        441 non-null int64\n",
            "DAY_OF_MONTH    441 non-null int64\n",
            "TAIL_NUM        441 non-null object\n",
            "Target          441 non-null object\n",
            "dtypes: datetime64[ns](1), int64(7), object(5)\n",
            "memory usage: 48.2+ KB\n"
          ],
          "name": "stdout"
        }
      ]
    },
    {
      "cell_type": "markdown",
      "metadata": {
        "id": "0f2S-AfwnSF6",
        "colab_type": "text"
      },
      "source": [
        "##visualize the data to gain insights"
      ]
    },
    {
      "cell_type": "code",
      "metadata": {
        "id": "We978QBjmK26",
        "colab_type": "code",
        "outputId": "6bb4bbce-8e35-4f1a-b7f6-73b7d0b70148",
        "colab": {
          "base_uri": "https://localhost:8080/",
          "height": 306
        }
      },
      "source": [
        "ax = sns.countplot(y=\"Weather\", hue='Target', data=data)\n",
        "\n",
        "# Put the legend out of the figure\n",
        "plt.legend(bbox_to_anchor=(1.05, 1), loc=2, borderaxespad=0.)"
      ],
      "execution_count": 0,
      "outputs": [
        {
          "output_type": "execute_result",
          "data": {
            "text/plain": [
              "<matplotlib.legend.Legend at 0x7f707d9717f0>"
            ]
          },
          "metadata": {
            "tags": []
          },
          "execution_count": 168
        },
        {
          "output_type": "display_data",
          "data": {
            "image/png": "[encoded data removed]",
            "text/plain": [
              "<Figure size 432x288 with 1 Axes>"
            ]
          },
          "metadata": {
            "tags": []
          }
        }
      ]
    },
    {
      "cell_type": "markdown",
      "metadata": {
        "id": "ZtQLK54rnnpa",
        "colab_type": "text"
      },
      "source": [
        "### Observations:\n",
        "from the plot above, we can see that when the weather is not inclement or when weather is stable (0) most flights arrive ontime. But we don't see any ontime arrival when the weather is bad. This shows a high correlation between weather and flight status"
      ]
    },
    {
      "cell_type": "code",
      "metadata": {
        "id": "WI3cF1QsnMFf",
        "colab_type": "code",
        "outputId": "ccf33a81-ac9a-4ca6-9dab-a80f90805d1d",
        "colab": {
          "base_uri": "https://localhost:8080/",
          "height": 306
        }
      },
      "source": [
        "ax = sns.countplot(y=\"DEST\", hue='Target', data=data)\n",
        "\n",
        "# Put the legend out of the figure\n",
        "plt.legend(bbox_to_anchor=(1.05, 1), loc=2, borderaxespad=0.)"
      ],
      "execution_count": 0,
      "outputs": [
        {
          "output_type": "execute_result",
          "data": {
            "text/plain": [
              "<matplotlib.legend.Legend at 0x7f705f07d630>"
            ]
          },
          "metadata": {
            "tags": []
          },
          "execution_count": 169
        },
        {
          "output_type": "display_data",
          "data": {
            "image/png": "[encoded data removed]",
            "text/plain": [
              "<Figure size 432x288 with 1 Axes>"
            ]
          },
          "metadata": {
            "tags": []
          }
        }
      ]
    },
    {
      "cell_type": "markdown",
      "metadata": {
        "id": "D9--6slppCUL",
        "colab_type": "text"
      },
      "source": [
        "### Observations:\n",
        "Flights to LGA (LaGuardia Airport) have the highest ontime arrival"
      ]
    },
    {
      "cell_type": "markdown",
      "metadata": {
        "id": "KzF-P4BSqxnk",
        "colab_type": "text"
      },
      "source": [
        "#Question 3\n",
        "\n",
        "Data Preprocessing & Feature Selection/Engineering"
      ]
    },
    {
      "cell_type": "markdown",
      "metadata": {
        "id": "g1kxY2M1rX8Q",
        "colab_type": "text"
      },
      "source": [
        "A. The data set contains no missing value"
      ]
    },
    {
      "cell_type": "markdown",
      "metadata": {
        "id": "6hLLvDN5vhAY",
        "colab_type": "text"
      },
      "source": [
        "if we had missing data, we can use some of the codes below to deal with them"
      ]
    },
    {
      "cell_type": "code",
      "metadata": {
        "id": "Fq-InO_ivYWA",
        "colab_type": "code",
        "outputId": "2f95ad33-9887-4fd4-ed66-9e708b1f3780",
        "colab": {
          "base_uri": "https://localhost:8080/",
          "height": 255
        }
      },
      "source": [
        "data.isnull().sum()"
      ],
      "execution_count": 0,
      "outputs": [
        {
          "output_type": "execute_result",
          "data": {
            "text/plain": [
              "CRS_DEP_TIME    0\n",
              "CARRIER         0\n",
              "DEP_TIME        0\n",
              "DEST            0\n",
              "DISTANCE        0\n",
              "FL_DATE         0\n",
              "FL_NUM          0\n",
              "ORIGIN          0\n",
              "Weather         0\n",
              "DAY_WEEK        0\n",
              "DAY_OF_MONTH    0\n",
              "TAIL_NUM        0\n",
              "Target          0\n",
              "dtype: int64"
            ]
          },
          "metadata": {
            "tags": []
          },
          "execution_count": 21
        }
      ]
    },
    {
      "cell_type": "code",
      "metadata": {
        "id": "j5NZlu0luWuw",
        "colab_type": "code",
        "colab": {}
      },
      "source": [
        "data.dropna"
      ],
      "execution_count": 0,
      "outputs": []
    },
    {
      "cell_type": "code",
      "metadata": {
        "id": "_BuOw5RbulXb",
        "colab_type": "code",
        "outputId": "94460acd-e9ee-49a7-aecf-a457df0e9c05",
        "colab": {
          "base_uri": "https://localhost:8080/",
          "height": 34
        }
      },
      "source": [
        "data.shape"
      ],
      "execution_count": 0,
      "outputs": [
        {
          "output_type": "execute_result",
          "data": {
            "text/plain": [
              "(1760, 13)"
            ]
          },
          "metadata": {
            "tags": []
          },
          "execution_count": 24
        }
      ]
    },
    {
      "cell_type": "markdown",
      "metadata": {
        "id": "oytqIDbAy3bU",
        "colab_type": "text"
      },
      "source": [
        "##3B"
      ]
    },
    {
      "cell_type": "markdown",
      "metadata": {
        "id": "1Ob9vPURsKZL",
        "colab_type": "text"
      },
      "source": [
        "#### 1. The variable DEP_TIME (actual departure time) cannot be used for predicting new flights. Why? Briefly explain. \n",
        "\n",
        "The actual departure time cannot single-handedly be used to make future flight predictions because it will not give a correct result. we have to take into account the scheduled departure time, that way we know if there was a delay and can accurately classify the flight"
      ]
    },
    {
      "cell_type": "markdown",
      "metadata": {
        "id": "2NhgQcLHy0tv",
        "colab_type": "text"
      },
      "source": [
        "####2. Create a new categorical variable by binning the scheduled departure time (CRS_DEP_TIME) into 2-hour bins. "
      ]
    },
    {
      "cell_type": "code",
      "metadata": {
        "id": "gkCzzSpH0CFj",
        "colab_type": "code",
        "colab": {}
      },
      "source": [
        "data['sched_dep_time'] = pd.cut(x=data['CRS_DEP_TIME'], bins=[0, 2, 4, 6, 8, 10, 12, 14, 16, 18, 20, 22, 24])"
      ],
      "execution_count": 0,
      "outputs": []
    },
    {
      "cell_type": "code",
      "metadata": {
        "id": "cwvWHF3ablnd",
        "colab_type": "code",
        "colab": {}
      },
      "source": [
        "hours = pd.to_datetime(data['CRS_DEP_TIME']).dt.hour\n",
        "\n",
        "data['sched_dep_time'] = pd.cut(hours, \n",
        "                    bins=[0, 2, 4, 6, 8, 10, 12, 14, 16, 18, 20, 22, 24], \n",
        "                  include_lowest=True )"
      ],
      "execution_count": 0,
      "outputs": []
    },
    {
      "cell_type": "code",
      "metadata": {
        "id": "8sigYxeabtvh",
        "colab_type": "code",
        "outputId": "29ed7187-5fbd-49c0-c705-b3173bedddfd",
        "colab": {
          "base_uri": "https://localhost:8080/",
          "height": 476
        }
      },
      "source": [
        "print (data)"
      ],
      "execution_count": 0,
      "outputs": [
        {
          "output_type": "stream",
          "text": [
            "      CRS_DEP_TIME CARRIER  DEP_TIME DEST  DISTANCE    FL_DATE  FL_NUM ORIGIN  \\\n",
            "1233           925      MQ       919  JFK       213 2004-01-18    4771    DCA   \n",
            "992           1900      CO      1915  EWR       199 2004-01-14     816    DCA   \n",
            "1558          1700      MQ      1652  LGA       214 2004-01-22    4972    DCA   \n",
            "2009          1630      DL      1629  LGA       214 2004-01-29    1760    DCA   \n",
            "1486          1700      US      1658  LGA       214 2004-01-21    2180    DCA   \n",
            "...            ...     ...       ...  ...       ...        ...     ...    ...   \n",
            "145           1720      RU      1714  EWR       169 2004-01-03    2675    BWI   \n",
            "941           1610      DH      1631  JFK       228 2004-01-14    7816    IAD   \n",
            "1754          1630      DL      1633  LGA       214 2004-01-25    1760    DCA   \n",
            "1297          1100      MQ      1100  LGA       214 2004-01-19    4960    DCA   \n",
            "1081          1455      OH      1455  JFK       184 2004-01-16    5935    BWI   \n",
            "\n",
            "      Weather  DAY_WEEK  DAY_OF_MONTH TAIL_NUM  Target sched_dep_time  \n",
            "1233        0         7            18   N719MQ  ontime  (-0.001, 2.0]  \n",
            "992         0         3            14   N14667  ontime  (-0.001, 2.0]  \n",
            "1558        0         4            22   N814MQ  ontime  (-0.001, 2.0]  \n",
            "2009        0         4            29   N225DL  ontime  (-0.001, 2.0]  \n",
            "1486        0         3            21   N744UW  ontime  (-0.001, 2.0]  \n",
            "...       ...       ...           ...      ...     ...            ...  \n",
            "145         0         6             3   N15574  ontime  (-0.001, 2.0]  \n",
            "941         0         3            14   N315UE  ontime  (-0.001, 2.0]  \n",
            "1754        0         7            25   N231DN  ontime  (-0.001, 2.0]  \n",
            "1297        0         1            19   N722MQ  ontime  (-0.001, 2.0]  \n",
            "1081        0         5            16   N924CA  ontime  (-0.001, 2.0]  \n",
            "\n",
            "[1760 rows x 14 columns]\n"
          ],
          "name": "stdout"
        }
      ]
    },
    {
      "cell_type": "code",
      "metadata": {
        "id": "10URovzP7tgR",
        "colab_type": "code",
        "colab": {}
      },
      "source": [
        "hours = pd.to_datetime(test_data['CRS_DEP_TIME']).dt.hour\n",
        "\n",
        "test_data['sched_dep_time'] = pd.cut(hours, \n",
        "                    bins=[0, 2, 4, 6, 8, 10, 12, 14, 16, 18, 20, 22, 24], \n",
        "                  include_lowest=True )"
      ],
      "execution_count": 0,
      "outputs": []
    },
    {
      "cell_type": "code",
      "metadata": {
        "id": "X6Df1OaI7yjQ",
        "colab_type": "code",
        "outputId": "004d5f7f-e575-42c2-e4c2-87c2f6d9cee2",
        "colab": {
          "base_uri": "https://localhost:8080/",
          "height": 476
        }
      },
      "source": [
        "print (test_data)"
      ],
      "execution_count": 0,
      "outputs": [
        {
          "output_type": "stream",
          "text": [
            "      CRS_DEP_TIME CARRIER  DEP_TIME DEST  DISTANCE    FL_DATE  FL_NUM ORIGIN  \\\n",
            "1768          1000      US       954  LGA       214 2004-01-25    2166    DCA   \n",
            "1867          1245      DH      1409  LGA       229 2004-01-27    7208    IAD   \n",
            "456           1710      DH      1725  EWR       213 2004-01-07    7302    IAD   \n",
            "1657          2100      US      2055  LGA       214 2004-01-23    2188    DCA   \n",
            "1530          1610      DH      1607  JFK       228 2004-01-22    7816    IAD   \n",
            "...            ...     ...       ...  ...       ...        ...     ...    ...   \n",
            "2041          2100      US      2055  LGA       214 2004-01-29    2188    DCA   \n",
            "1508          1630      RU      1648  EWR       199 2004-01-21    2181    DCA   \n",
            "778           1030      DL      1028  LGA       214 2004-01-12    1748    DCA   \n",
            "1788          1710      DH      1720  EWR       213 2004-01-25    7302    IAD   \n",
            "2037          1700      US      1659  LGA       214 2004-01-29    2180    DCA   \n",
            "\n",
            "      Weather  DAY_WEEK  DAY_OF_MONTH TAIL_NUM   Target sched_dep_time  \n",
            "1768        0         7            25   N767UW   ontime  (-0.001, 2.0]  \n",
            "1867        1         2            27   N661BR  delayed  (-0.001, 2.0]  \n",
            "456         0         3             7   N696BR   ontime  (-0.001, 2.0]  \n",
            "1657        0         5            23   N768UW   ontime  (-0.001, 2.0]  \n",
            "1530        0         4            22   N324UE   ontime  (-0.001, 2.0]  \n",
            "...       ...       ...           ...      ...      ...            ...  \n",
            "2041        0         4            29   N711UW   ontime  (-0.001, 2.0]  \n",
            "1508        0         3            21   N36915  delayed  (-0.001, 2.0]  \n",
            "778         0         1            12   N223DZ   ontime  (-0.001, 2.0]  \n",
            "1788        0         7            25   N671BR   ontime  (-0.001, 2.0]  \n",
            "2037        0         4            29   N711UW   ontime  (-0.001, 2.0]  \n",
            "\n",
            "[441 rows x 14 columns]\n"
          ],
          "name": "stdout"
        }
      ]
    },
    {
      "cell_type": "markdown",
      "metadata": {
        "id": "IRxMA1S15aRF",
        "colab_type": "text"
      },
      "source": [
        "####3. Drop the original variable CRS_DEP_TIME from the data to be analyzed and keep the\n",
        "new categorical variable. "
      ]
    },
    {
      "cell_type": "code",
      "metadata": {
        "id": "40-7Fc-f0tfn",
        "colab_type": "code",
        "outputId": "b94769dc-1b5c-4a71-ce64-b01c924b59e5",
        "colab": {
          "base_uri": "https://localhost:8080/",
          "height": 609
        }
      },
      "source": [
        "data1= data.drop('CRS_DEP_TIME', axis =1)\n",
        "data1"
      ],
      "execution_count": 0,
      "outputs": [
        {
          "output_type": "execute_result",
          "data": {
            "text/html": [
              "<div>\n",
              "<style scoped>\n",
              "    .dataframe tbody tr th:only-of-type {\n",
              "        vertical-align: middle;\n",
              "    }\n",
              "\n",
              "    .dataframe tbody tr th {\n",
              "        vertical-align: top;\n",
              "    }\n",
              "\n",
              "    .dataframe thead th {\n",
              "        text-align: right;\n",
              "    }\n",
              "</style>\n",
              "<table border=\"1\" class=\"dataframe\">\n",
              "  <thead>\n",
              "    <tr style=\"text-align: right;\">\n",
              "      <th></th>\n",
              "      <th>CARRIER</th>\n",
              "      <th>DEP_TIME</th>\n",
              "      <th>DEST</th>\n",
              "      <th>DISTANCE</th>\n",
              "      <th>FL_DATE</th>\n",
              "      <th>FL_NUM</th>\n",
              "      <th>ORIGIN</th>\n",
              "      <th>Weather</th>\n",
              "      <th>DAY_WEEK</th>\n",
              "      <th>DAY_OF_MONTH</th>\n",
              "      <th>TAIL_NUM</th>\n",
              "      <th>Target</th>\n",
              "      <th>sched_dep_time</th>\n",
              "    </tr>\n",
              "  </thead>\n",
              "  <tbody>\n",
              "    <tr>\n",
              "      <th>1233</th>\n",
              "      <td>MQ</td>\n",
              "      <td>919</td>\n",
              "      <td>JFK</td>\n",
              "      <td>213</td>\n",
              "      <td>2004-01-18</td>\n",
              "      <td>4771</td>\n",
              "      <td>DCA</td>\n",
              "      <td>0</td>\n",
              "      <td>7</td>\n",
              "      <td>18</td>\n",
              "      <td>N719MQ</td>\n",
              "      <td>ontime</td>\n",
              "      <td>(-0.001, 2.0]</td>\n",
              "    </tr>\n",
              "    <tr>\n",
              "      <th>992</th>\n",
              "      <td>CO</td>\n",
              "      <td>1915</td>\n",
              "      <td>EWR</td>\n",
              "      <td>199</td>\n",
              "      <td>2004-01-14</td>\n",
              "      <td>816</td>\n",
              "      <td>DCA</td>\n",
              "      <td>0</td>\n",
              "      <td>3</td>\n",
              "      <td>14</td>\n",
              "      <td>N14667</td>\n",
              "      <td>ontime</td>\n",
              "      <td>(-0.001, 2.0]</td>\n",
              "    </tr>\n",
              "    <tr>\n",
              "      <th>1558</th>\n",
              "      <td>MQ</td>\n",
              "      <td>1652</td>\n",
              "      <td>LGA</td>\n",
              "      <td>214</td>\n",
              "      <td>2004-01-22</td>\n",
              "      <td>4972</td>\n",
              "      <td>DCA</td>\n",
              "      <td>0</td>\n",
              "      <td>4</td>\n",
              "      <td>22</td>\n",
              "      <td>N814MQ</td>\n",
              "      <td>ontime</td>\n",
              "      <td>(-0.001, 2.0]</td>\n",
              "    </tr>\n",
              "    <tr>\n",
              "      <th>2009</th>\n",
              "      <td>DL</td>\n",
              "      <td>1629</td>\n",
              "      <td>LGA</td>\n",
              "      <td>214</td>\n",
              "      <td>2004-01-29</td>\n",
              "      <td>1760</td>\n",
              "      <td>DCA</td>\n",
              "      <td>0</td>\n",
              "      <td>4</td>\n",
              "      <td>29</td>\n",
              "      <td>N225DL</td>\n",
              "      <td>ontime</td>\n",
              "      <td>(-0.001, 2.0]</td>\n",
              "    </tr>\n",
              "    <tr>\n",
              "      <th>1486</th>\n",
              "      <td>US</td>\n",
              "      <td>1658</td>\n",
              "      <td>LGA</td>\n",
              "      <td>214</td>\n",
              "      <td>2004-01-21</td>\n",
              "      <td>2180</td>\n",
              "      <td>DCA</td>\n",
              "      <td>0</td>\n",
              "      <td>3</td>\n",
              "      <td>21</td>\n",
              "      <td>N744UW</td>\n",
              "      <td>ontime</td>\n",
              "      <td>(-0.001, 2.0]</td>\n",
              "    </tr>\n",
              "    <tr>\n",
              "      <th>...</th>\n",
              "      <td>...</td>\n",
              "      <td>...</td>\n",
              "      <td>...</td>\n",
              "      <td>...</td>\n",
              "      <td>...</td>\n",
              "      <td>...</td>\n",
              "      <td>...</td>\n",
              "      <td>...</td>\n",
              "      <td>...</td>\n",
              "      <td>...</td>\n",
              "      <td>...</td>\n",
              "      <td>...</td>\n",
              "      <td>...</td>\n",
              "    </tr>\n",
              "    <tr>\n",
              "      <th>145</th>\n",
              "      <td>RU</td>\n",
              "      <td>1714</td>\n",
              "      <td>EWR</td>\n",
              "      <td>169</td>\n",
              "      <td>2004-01-03</td>\n",
              "      <td>2675</td>\n",
              "      <td>BWI</td>\n",
              "      <td>0</td>\n",
              "      <td>6</td>\n",
              "      <td>3</td>\n",
              "      <td>N15574</td>\n",
              "      <td>ontime</td>\n",
              "      <td>(-0.001, 2.0]</td>\n",
              "    </tr>\n",
              "    <tr>\n",
              "      <th>941</th>\n",
              "      <td>DH</td>\n",
              "      <td>1631</td>\n",
              "      <td>JFK</td>\n",
              "      <td>228</td>\n",
              "      <td>2004-01-14</td>\n",
              "      <td>7816</td>\n",
              "      <td>IAD</td>\n",
              "      <td>0</td>\n",
              "      <td>3</td>\n",
              "      <td>14</td>\n",
              "      <td>N315UE</td>\n",
              "      <td>ontime</td>\n",
              "      <td>(-0.001, 2.0]</td>\n",
              "    </tr>\n",
              "    <tr>\n",
              "      <th>1754</th>\n",
              "      <td>DL</td>\n",
              "      <td>1633</td>\n",
              "      <td>LGA</td>\n",
              "      <td>214</td>\n",
              "      <td>2004-01-25</td>\n",
              "      <td>1760</td>\n",
              "      <td>DCA</td>\n",
              "      <td>0</td>\n",
              "      <td>7</td>\n",
              "      <td>25</td>\n",
              "      <td>N231DN</td>\n",
              "      <td>ontime</td>\n",
              "      <td>(-0.001, 2.0]</td>\n",
              "    </tr>\n",
              "    <tr>\n",
              "      <th>1297</th>\n",
              "      <td>MQ</td>\n",
              "      <td>1100</td>\n",
              "      <td>LGA</td>\n",
              "      <td>214</td>\n",
              "      <td>2004-01-19</td>\n",
              "      <td>4960</td>\n",
              "      <td>DCA</td>\n",
              "      <td>0</td>\n",
              "      <td>1</td>\n",
              "      <td>19</td>\n",
              "      <td>N722MQ</td>\n",
              "      <td>ontime</td>\n",
              "      <td>(-0.001, 2.0]</td>\n",
              "    </tr>\n",
              "    <tr>\n",
              "      <th>1081</th>\n",
              "      <td>OH</td>\n",
              "      <td>1455</td>\n",
              "      <td>JFK</td>\n",
              "      <td>184</td>\n",
              "      <td>2004-01-16</td>\n",
              "      <td>5935</td>\n",
              "      <td>BWI</td>\n",
              "      <td>0</td>\n",
              "      <td>5</td>\n",
              "      <td>16</td>\n",
              "      <td>N924CA</td>\n",
              "      <td>ontime</td>\n",
              "      <td>(-0.001, 2.0]</td>\n",
              "    </tr>\n",
              "  </tbody>\n",
              "</table>\n",
              "<p>1760 rows × 13 columns</p>\n",
              "</div>"
            ],
            "text/plain": [
              "     CARRIER  DEP_TIME DEST  DISTANCE    FL_DATE  FL_NUM ORIGIN  Weather  \\\n",
              "1233      MQ       919  JFK       213 2004-01-18    4771    DCA        0   \n",
              "992       CO      1915  EWR       199 2004-01-14     816    DCA        0   \n",
              "1558      MQ      1652  LGA       214 2004-01-22    4972    DCA        0   \n",
              "2009      DL      1629  LGA       214 2004-01-29    1760    DCA        0   \n",
              "1486      US      1658  LGA       214 2004-01-21    2180    DCA        0   \n",
              "...      ...       ...  ...       ...        ...     ...    ...      ...   \n",
              "145       RU      1714  EWR       169 2004-01-03    2675    BWI        0   \n",
              "941       DH      1631  JFK       228 2004-01-14    7816    IAD        0   \n",
              "1754      DL      1633  LGA       214 2004-01-25    1760    DCA        0   \n",
              "1297      MQ      1100  LGA       214 2004-01-19    4960    DCA        0   \n",
              "1081      OH      1455  JFK       184 2004-01-16    5935    BWI        0   \n",
              "\n",
              "      DAY_WEEK  DAY_OF_MONTH TAIL_NUM  Target sched_dep_time  \n",
              "1233         7            18   N719MQ  ontime  (-0.001, 2.0]  \n",
              "992          3            14   N14667  ontime  (-0.001, 2.0]  \n",
              "1558         4            22   N814MQ  ontime  (-0.001, 2.0]  \n",
              "2009         4            29   N225DL  ontime  (-0.001, 2.0]  \n",
              "1486         3            21   N744UW  ontime  (-0.001, 2.0]  \n",
              "...        ...           ...      ...     ...            ...  \n",
              "145          6             3   N15574  ontime  (-0.001, 2.0]  \n",
              "941          3            14   N315UE  ontime  (-0.001, 2.0]  \n",
              "1754         7            25   N231DN  ontime  (-0.001, 2.0]  \n",
              "1297         1            19   N722MQ  ontime  (-0.001, 2.0]  \n",
              "1081         5            16   N924CA  ontime  (-0.001, 2.0]  \n",
              "\n",
              "[1760 rows x 13 columns]"
            ]
          },
          "metadata": {
            "tags": []
          },
          "execution_count": 179
        }
      ]
    },
    {
      "cell_type": "code",
      "metadata": {
        "id": "T1rEQQnM7_Ry",
        "colab_type": "code",
        "outputId": "62c150ae-0980-4740-ecc5-044d012ae166",
        "colab": {
          "base_uri": "https://localhost:8080/",
          "height": 609
        }
      },
      "source": [
        "test_data1= test_data.drop('CRS_DEP_TIME', axis =1)\n",
        "test_data1"
      ],
      "execution_count": 0,
      "outputs": [
        {
          "output_type": "execute_result",
          "data": {
            "text/html": [
              "<div>\n",
              "<style scoped>\n",
              "    .dataframe tbody tr th:only-of-type {\n",
              "        vertical-align: middle;\n",
              "    }\n",
              "\n",
              "    .dataframe tbody tr th {\n",
              "        vertical-align: top;\n",
              "    }\n",
              "\n",
              "    .dataframe thead th {\n",
              "        text-align: right;\n",
              "    }\n",
              "</style>\n",
              "<table border=\"1\" class=\"dataframe\">\n",
              "  <thead>\n",
              "    <tr style=\"text-align: right;\">\n",
              "      <th></th>\n",
              "      <th>CARRIER</th>\n",
              "      <th>DEP_TIME</th>\n",
              "      <th>DEST</th>\n",
              "      <th>DISTANCE</th>\n",
              "      <th>FL_DATE</th>\n",
              "      <th>FL_NUM</th>\n",
              "      <th>ORIGIN</th>\n",
              "      <th>Weather</th>\n",
              "      <th>DAY_WEEK</th>\n",
              "      <th>DAY_OF_MONTH</th>\n",
              "      <th>TAIL_NUM</th>\n",
              "      <th>Target</th>\n",
              "      <th>sched_dep_time</th>\n",
              "    </tr>\n",
              "  </thead>\n",
              "  <tbody>\n",
              "    <tr>\n",
              "      <th>1768</th>\n",
              "      <td>US</td>\n",
              "      <td>954</td>\n",
              "      <td>LGA</td>\n",
              "      <td>214</td>\n",
              "      <td>2004-01-25</td>\n",
              "      <td>2166</td>\n",
              "      <td>DCA</td>\n",
              "      <td>0</td>\n",
              "      <td>7</td>\n",
              "      <td>25</td>\n",
              "      <td>N767UW</td>\n",
              "      <td>ontime</td>\n",
              "      <td>(-0.001, 2.0]</td>\n",
              "    </tr>\n",
              "    <tr>\n",
              "      <th>1867</th>\n",
              "      <td>DH</td>\n",
              "      <td>1409</td>\n",
              "      <td>LGA</td>\n",
              "      <td>229</td>\n",
              "      <td>2004-01-27</td>\n",
              "      <td>7208</td>\n",
              "      <td>IAD</td>\n",
              "      <td>1</td>\n",
              "      <td>2</td>\n",
              "      <td>27</td>\n",
              "      <td>N661BR</td>\n",
              "      <td>delayed</td>\n",
              "      <td>(-0.001, 2.0]</td>\n",
              "    </tr>\n",
              "    <tr>\n",
              "      <th>456</th>\n",
              "      <td>DH</td>\n",
              "      <td>1725</td>\n",
              "      <td>EWR</td>\n",
              "      <td>213</td>\n",
              "      <td>2004-01-07</td>\n",
              "      <td>7302</td>\n",
              "      <td>IAD</td>\n",
              "      <td>0</td>\n",
              "      <td>3</td>\n",
              "      <td>7</td>\n",
              "      <td>N696BR</td>\n",
              "      <td>ontime</td>\n",
              "      <td>(-0.001, 2.0]</td>\n",
              "    </tr>\n",
              "    <tr>\n",
              "      <th>1657</th>\n",
              "      <td>US</td>\n",
              "      <td>2055</td>\n",
              "      <td>LGA</td>\n",
              "      <td>214</td>\n",
              "      <td>2004-01-23</td>\n",
              "      <td>2188</td>\n",
              "      <td>DCA</td>\n",
              "      <td>0</td>\n",
              "      <td>5</td>\n",
              "      <td>23</td>\n",
              "      <td>N768UW</td>\n",
              "      <td>ontime</td>\n",
              "      <td>(-0.001, 2.0]</td>\n",
              "    </tr>\n",
              "    <tr>\n",
              "      <th>1530</th>\n",
              "      <td>DH</td>\n",
              "      <td>1607</td>\n",
              "      <td>JFK</td>\n",
              "      <td>228</td>\n",
              "      <td>2004-01-22</td>\n",
              "      <td>7816</td>\n",
              "      <td>IAD</td>\n",
              "      <td>0</td>\n",
              "      <td>4</td>\n",
              "      <td>22</td>\n",
              "      <td>N324UE</td>\n",
              "      <td>ontime</td>\n",
              "      <td>(-0.001, 2.0]</td>\n",
              "    </tr>\n",
              "    <tr>\n",
              "      <th>...</th>\n",
              "      <td>...</td>\n",
              "      <td>...</td>\n",
              "      <td>...</td>\n",
              "      <td>...</td>\n",
              "      <td>...</td>\n",
              "      <td>...</td>\n",
              "      <td>...</td>\n",
              "      <td>...</td>\n",
              "      <td>...</td>\n",
              "      <td>...</td>\n",
              "      <td>...</td>\n",
              "      <td>...</td>\n",
              "      <td>...</td>\n",
              "    </tr>\n",
              "    <tr>\n",
              "      <th>2041</th>\n",
              "      <td>US</td>\n",
              "      <td>2055</td>\n",
              "      <td>LGA</td>\n",
              "      <td>214</td>\n",
              "      <td>2004-01-29</td>\n",
              "      <td>2188</td>\n",
              "      <td>DCA</td>\n",
              "      <td>0</td>\n",
              "      <td>4</td>\n",
              "      <td>29</td>\n",
              "      <td>N711UW</td>\n",
              "      <td>ontime</td>\n",
              "      <td>(-0.001, 2.0]</td>\n",
              "    </tr>\n",
              "    <tr>\n",
              "      <th>1508</th>\n",
              "      <td>RU</td>\n",
              "      <td>1648</td>\n",
              "      <td>EWR</td>\n",
              "      <td>199</td>\n",
              "      <td>2004-01-21</td>\n",
              "      <td>2181</td>\n",
              "      <td>DCA</td>\n",
              "      <td>0</td>\n",
              "      <td>3</td>\n",
              "      <td>21</td>\n",
              "      <td>N36915</td>\n",
              "      <td>delayed</td>\n",
              "      <td>(-0.001, 2.0]</td>\n",
              "    </tr>\n",
              "    <tr>\n",
              "      <th>778</th>\n",
              "      <td>DL</td>\n",
              "      <td>1028</td>\n",
              "      <td>LGA</td>\n",
              "      <td>214</td>\n",
              "      <td>2004-01-12</td>\n",
              "      <td>1748</td>\n",
              "      <td>DCA</td>\n",
              "      <td>0</td>\n",
              "      <td>1</td>\n",
              "      <td>12</td>\n",
              "      <td>N223DZ</td>\n",
              "      <td>ontime</td>\n",
              "      <td>(-0.001, 2.0]</td>\n",
              "    </tr>\n",
              "    <tr>\n",
              "      <th>1788</th>\n",
              "      <td>DH</td>\n",
              "      <td>1720</td>\n",
              "      <td>EWR</td>\n",
              "      <td>213</td>\n",
              "      <td>2004-01-25</td>\n",
              "      <td>7302</td>\n",
              "      <td>IAD</td>\n",
              "      <td>0</td>\n",
              "      <td>7</td>\n",
              "      <td>25</td>\n",
              "      <td>N671BR</td>\n",
              "      <td>ontime</td>\n",
              "      <td>(-0.001, 2.0]</td>\n",
              "    </tr>\n",
              "    <tr>\n",
              "      <th>2037</th>\n",
              "      <td>US</td>\n",
              "      <td>1659</td>\n",
              "      <td>LGA</td>\n",
              "      <td>214</td>\n",
              "      <td>2004-01-29</td>\n",
              "      <td>2180</td>\n",
              "      <td>DCA</td>\n",
              "      <td>0</td>\n",
              "      <td>4</td>\n",
              "      <td>29</td>\n",
              "      <td>N711UW</td>\n",
              "      <td>ontime</td>\n",
              "      <td>(-0.001, 2.0]</td>\n",
              "    </tr>\n",
              "  </tbody>\n",
              "</table>\n",
              "<p>441 rows × 13 columns</p>\n",
              "</div>"
            ],
            "text/plain": [
              "     CARRIER  DEP_TIME DEST  DISTANCE    FL_DATE  FL_NUM ORIGIN  Weather  \\\n",
              "1768      US       954  LGA       214 2004-01-25    2166    DCA        0   \n",
              "1867      DH      1409  LGA       229 2004-01-27    7208    IAD        1   \n",
              "456       DH      1725  EWR       213 2004-01-07    7302    IAD        0   \n",
              "1657      US      2055  LGA       214 2004-01-23    2188    DCA        0   \n",
              "1530      DH      1607  JFK       228 2004-01-22    7816    IAD        0   \n",
              "...      ...       ...  ...       ...        ...     ...    ...      ...   \n",
              "2041      US      2055  LGA       214 2004-01-29    2188    DCA        0   \n",
              "1508      RU      1648  EWR       199 2004-01-21    2181    DCA        0   \n",
              "778       DL      1028  LGA       214 2004-01-12    1748    DCA        0   \n",
              "1788      DH      1720  EWR       213 2004-01-25    7302    IAD        0   \n",
              "2037      US      1659  LGA       214 2004-01-29    2180    DCA        0   \n",
              "\n",
              "      DAY_WEEK  DAY_OF_MONTH TAIL_NUM   Target sched_dep_time  \n",
              "1768         7            25   N767UW   ontime  (-0.001, 2.0]  \n",
              "1867         2            27   N661BR  delayed  (-0.001, 2.0]  \n",
              "456          3             7   N696BR   ontime  (-0.001, 2.0]  \n",
              "1657         5            23   N768UW   ontime  (-0.001, 2.0]  \n",
              "1530         4            22   N324UE   ontime  (-0.001, 2.0]  \n",
              "...        ...           ...      ...      ...            ...  \n",
              "2041         4            29   N711UW   ontime  (-0.001, 2.0]  \n",
              "1508         3            21   N36915  delayed  (-0.001, 2.0]  \n",
              "778          1            12   N223DZ   ontime  (-0.001, 2.0]  \n",
              "1788         7            25   N671BR   ontime  (-0.001, 2.0]  \n",
              "2037         4            29   N711UW   ontime  (-0.001, 2.0]  \n",
              "\n",
              "[441 rows x 13 columns]"
            ]
          },
          "metadata": {
            "tags": []
          },
          "execution_count": 180
        }
      ]
    },
    {
      "cell_type": "markdown",
      "metadata": {
        "id": "sXjL11965eQs",
        "colab_type": "text"
      },
      "source": [
        "####4.Drop the variables DISTANCE and FL_DATE from the dataset. What would be the reasons to do so? Think and provide possible explanation\n",
        "\n",
        "\n",
        "I would think they are being dropped because they are not necessary for our prediction. I dropped the Tail_num which is the airplane number as well because i dont find it useful to my analysis and it is not suitable of for one-hot encoding "
      ]
    },
    {
      "cell_type": "code",
      "metadata": {
        "id": "K4rhDq4d42Ez",
        "colab_type": "code",
        "outputId": "be268038-7f48-4f0a-a7d8-8f2e6ac61a31",
        "colab": {
          "base_uri": "https://localhost:8080/",
          "height": 419
        }
      },
      "source": [
        "data2= data1.drop('DISTANCE', axis =1).drop('FL_DATE', axis =1).drop('TAIL_NUM', axis =1)\n",
        "data2"
      ],
      "execution_count": 0,
      "outputs": [
        {
          "output_type": "execute_result",
          "data": {
            "text/html": [
              "<div>\n",
              "<style scoped>\n",
              "    .dataframe tbody tr th:only-of-type {\n",
              "        vertical-align: middle;\n",
              "    }\n",
              "\n",
              "    .dataframe tbody tr th {\n",
              "        vertical-align: top;\n",
              "    }\n",
              "\n",
              "    .dataframe thead th {\n",
              "        text-align: right;\n",
              "    }\n",
              "</style>\n",
              "<table border=\"1\" class=\"dataframe\">\n",
              "  <thead>\n",
              "    <tr style=\"text-align: right;\">\n",
              "      <th></th>\n",
              "      <th>CARRIER</th>\n",
              "      <th>DEP_TIME</th>\n",
              "      <th>DEST</th>\n",
              "      <th>FL_NUM</th>\n",
              "      <th>ORIGIN</th>\n",
              "      <th>Weather</th>\n",
              "      <th>DAY_WEEK</th>\n",
              "      <th>DAY_OF_MONTH</th>\n",
              "      <th>Target</th>\n",
              "      <th>sched_dep_time</th>\n",
              "    </tr>\n",
              "  </thead>\n",
              "  <tbody>\n",
              "    <tr>\n",
              "      <th>1233</th>\n",
              "      <td>MQ</td>\n",
              "      <td>919</td>\n",
              "      <td>JFK</td>\n",
              "      <td>4771</td>\n",
              "      <td>DCA</td>\n",
              "      <td>0</td>\n",
              "      <td>7</td>\n",
              "      <td>18</td>\n",
              "      <td>ontime</td>\n",
              "      <td>(-0.001, 2.0]</td>\n",
              "    </tr>\n",
              "    <tr>\n",
              "      <th>992</th>\n",
              "      <td>CO</td>\n",
              "      <td>1915</td>\n",
              "      <td>EWR</td>\n",
              "      <td>816</td>\n",
              "      <td>DCA</td>\n",
              "      <td>0</td>\n",
              "      <td>3</td>\n",
              "      <td>14</td>\n",
              "      <td>ontime</td>\n",
              "      <td>(-0.001, 2.0]</td>\n",
              "    </tr>\n",
              "    <tr>\n",
              "      <th>1558</th>\n",
              "      <td>MQ</td>\n",
              "      <td>1652</td>\n",
              "      <td>LGA</td>\n",
              "      <td>4972</td>\n",
              "      <td>DCA</td>\n",
              "      <td>0</td>\n",
              "      <td>4</td>\n",
              "      <td>22</td>\n",
              "      <td>ontime</td>\n",
              "      <td>(-0.001, 2.0]</td>\n",
              "    </tr>\n",
              "    <tr>\n",
              "      <th>2009</th>\n",
              "      <td>DL</td>\n",
              "      <td>1629</td>\n",
              "      <td>LGA</td>\n",
              "      <td>1760</td>\n",
              "      <td>DCA</td>\n",
              "      <td>0</td>\n",
              "      <td>4</td>\n",
              "      <td>29</td>\n",
              "      <td>ontime</td>\n",
              "      <td>(-0.001, 2.0]</td>\n",
              "    </tr>\n",
              "    <tr>\n",
              "      <th>1486</th>\n",
              "      <td>US</td>\n",
              "      <td>1658</td>\n",
              "      <td>LGA</td>\n",
              "      <td>2180</td>\n",
              "      <td>DCA</td>\n",
              "      <td>0</td>\n",
              "      <td>3</td>\n",
              "      <td>21</td>\n",
              "      <td>ontime</td>\n",
              "      <td>(-0.001, 2.0]</td>\n",
              "    </tr>\n",
              "    <tr>\n",
              "      <th>...</th>\n",
              "      <td>...</td>\n",
              "      <td>...</td>\n",
              "      <td>...</td>\n",
              "      <td>...</td>\n",
              "      <td>...</td>\n",
              "      <td>...</td>\n",
              "      <td>...</td>\n",
              "      <td>...</td>\n",
              "      <td>...</td>\n",
              "      <td>...</td>\n",
              "    </tr>\n",
              "    <tr>\n",
              "      <th>145</th>\n",
              "      <td>RU</td>\n",
              "      <td>1714</td>\n",
              "      <td>EWR</td>\n",
              "      <td>2675</td>\n",
              "      <td>BWI</td>\n",
              "      <td>0</td>\n",
              "      <td>6</td>\n",
              "      <td>3</td>\n",
              "      <td>ontime</td>\n",
              "      <td>(-0.001, 2.0]</td>\n",
              "    </tr>\n",
              "    <tr>\n",
              "      <th>941</th>\n",
              "      <td>DH</td>\n",
              "      <td>1631</td>\n",
              "      <td>JFK</td>\n",
              "      <td>7816</td>\n",
              "      <td>IAD</td>\n",
              "      <td>0</td>\n",
              "      <td>3</td>\n",
              "      <td>14</td>\n",
              "      <td>ontime</td>\n",
              "      <td>(-0.001, 2.0]</td>\n",
              "    </tr>\n",
              "    <tr>\n",
              "      <th>1754</th>\n",
              "      <td>DL</td>\n",
              "      <td>1633</td>\n",
              "      <td>LGA</td>\n",
              "      <td>1760</td>\n",
              "      <td>DCA</td>\n",
              "      <td>0</td>\n",
              "      <td>7</td>\n",
              "      <td>25</td>\n",
              "      <td>ontime</td>\n",
              "      <td>(-0.001, 2.0]</td>\n",
              "    </tr>\n",
              "    <tr>\n",
              "      <th>1297</th>\n",
              "      <td>MQ</td>\n",
              "      <td>1100</td>\n",
              "      <td>LGA</td>\n",
              "      <td>4960</td>\n",
              "      <td>DCA</td>\n",
              "      <td>0</td>\n",
              "      <td>1</td>\n",
              "      <td>19</td>\n",
              "      <td>ontime</td>\n",
              "      <td>(-0.001, 2.0]</td>\n",
              "    </tr>\n",
              "    <tr>\n",
              "      <th>1081</th>\n",
              "      <td>OH</td>\n",
              "      <td>1455</td>\n",
              "      <td>JFK</td>\n",
              "      <td>5935</td>\n",
              "      <td>BWI</td>\n",
              "      <td>0</td>\n",
              "      <td>5</td>\n",
              "      <td>16</td>\n",
              "      <td>ontime</td>\n",
              "      <td>(-0.001, 2.0]</td>\n",
              "    </tr>\n",
              "  </tbody>\n",
              "</table>\n",
              "<p>1760 rows × 10 columns</p>\n",
              "</div>"
            ],
            "text/plain": [
              "     CARRIER  DEP_TIME DEST  FL_NUM ORIGIN  Weather  DAY_WEEK  DAY_OF_MONTH  \\\n",
              "1233      MQ       919  JFK    4771    DCA        0         7            18   \n",
              "992       CO      1915  EWR     816    DCA        0         3            14   \n",
              "1558      MQ      1652  LGA    4972    DCA        0         4            22   \n",
              "2009      DL      1629  LGA    1760    DCA        0         4            29   \n",
              "1486      US      1658  LGA    2180    DCA        0         3            21   \n",
              "...      ...       ...  ...     ...    ...      ...       ...           ...   \n",
              "145       RU      1714  EWR    2675    BWI        0         6             3   \n",
              "941       DH      1631  JFK    7816    IAD        0         3            14   \n",
              "1754      DL      1633  LGA    1760    DCA        0         7            25   \n",
              "1297      MQ      1100  LGA    4960    DCA        0         1            19   \n",
              "1081      OH      1455  JFK    5935    BWI        0         5            16   \n",
              "\n",
              "      Target sched_dep_time  \n",
              "1233  ontime  (-0.001, 2.0]  \n",
              "992   ontime  (-0.001, 2.0]  \n",
              "1558  ontime  (-0.001, 2.0]  \n",
              "2009  ontime  (-0.001, 2.0]  \n",
              "1486  ontime  (-0.001, 2.0]  \n",
              "...      ...            ...  \n",
              "145   ontime  (-0.001, 2.0]  \n",
              "941   ontime  (-0.001, 2.0]  \n",
              "1754  ontime  (-0.001, 2.0]  \n",
              "1297  ontime  (-0.001, 2.0]  \n",
              "1081  ontime  (-0.001, 2.0]  \n",
              "\n",
              "[1760 rows x 10 columns]"
            ]
          },
          "metadata": {
            "tags": []
          },
          "execution_count": 181
        }
      ]
    },
    {
      "cell_type": "code",
      "metadata": {
        "id": "0BONivjy8Htz",
        "colab_type": "code",
        "outputId": "55031711-e9c2-4a25-a796-763e6713d94f",
        "colab": {
          "base_uri": "https://localhost:8080/",
          "height": 439
        }
      },
      "source": [
        "test_data2= test_data1.drop('DISTANCE', axis =1).drop('FL_DATE', axis =1).drop('TAIL_NUM', axis =1)\n",
        "test_data2"
      ],
      "execution_count": 0,
      "outputs": [
        {
          "output_type": "execute_result",
          "data": {
            "text/html": [
              "<div>\n",
              "<style scoped>\n",
              "    .dataframe tbody tr th:only-of-type {\n",
              "        vertical-align: middle;\n",
              "    }\n",
              "\n",
              "    .dataframe tbody tr th {\n",
              "        vertical-align: top;\n",
              "    }\n",
              "\n",
              "    .dataframe thead th {\n",
              "        text-align: right;\n",
              "    }\n",
              "</style>\n",
              "<table border=\"1\" class=\"dataframe\">\n",
              "  <thead>\n",
              "    <tr style=\"text-align: right;\">\n",
              "      <th></th>\n",
              "      <th>CARRIER</th>\n",
              "      <th>DEP_TIME</th>\n",
              "      <th>DEST</th>\n",
              "      <th>FL_NUM</th>\n",
              "      <th>ORIGIN</th>\n",
              "      <th>Weather</th>\n",
              "      <th>DAY_WEEK</th>\n",
              "      <th>DAY_OF_MONTH</th>\n",
              "      <th>Target</th>\n",
              "      <th>sched_dep_time</th>\n",
              "    </tr>\n",
              "  </thead>\n",
              "  <tbody>\n",
              "    <tr>\n",
              "      <th>1768</th>\n",
              "      <td>US</td>\n",
              "      <td>954</td>\n",
              "      <td>LGA</td>\n",
              "      <td>2166</td>\n",
              "      <td>DCA</td>\n",
              "      <td>0</td>\n",
              "      <td>7</td>\n",
              "      <td>25</td>\n",
              "      <td>ontime</td>\n",
              "      <td>(-0.001, 2.0]</td>\n",
              "    </tr>\n",
              "    <tr>\n",
              "      <th>1867</th>\n",
              "      <td>DH</td>\n",
              "      <td>1409</td>\n",
              "      <td>LGA</td>\n",
              "      <td>7208</td>\n",
              "      <td>IAD</td>\n",
              "      <td>1</td>\n",
              "      <td>2</td>\n",
              "      <td>27</td>\n",
              "      <td>delayed</td>\n",
              "      <td>(-0.001, 2.0]</td>\n",
              "    </tr>\n",
              "    <tr>\n",
              "      <th>456</th>\n",
              "      <td>DH</td>\n",
              "      <td>1725</td>\n",
              "      <td>EWR</td>\n",
              "      <td>7302</td>\n",
              "      <td>IAD</td>\n",
              "      <td>0</td>\n",
              "      <td>3</td>\n",
              "      <td>7</td>\n",
              "      <td>ontime</td>\n",
              "      <td>(-0.001, 2.0]</td>\n",
              "    </tr>\n",
              "    <tr>\n",
              "      <th>1657</th>\n",
              "      <td>US</td>\n",
              "      <td>2055</td>\n",
              "      <td>LGA</td>\n",
              "      <td>2188</td>\n",
              "      <td>DCA</td>\n",
              "      <td>0</td>\n",
              "      <td>5</td>\n",
              "      <td>23</td>\n",
              "      <td>ontime</td>\n",
              "      <td>(-0.001, 2.0]</td>\n",
              "    </tr>\n",
              "    <tr>\n",
              "      <th>1530</th>\n",
              "      <td>DH</td>\n",
              "      <td>1607</td>\n",
              "      <td>JFK</td>\n",
              "      <td>7816</td>\n",
              "      <td>IAD</td>\n",
              "      <td>0</td>\n",
              "      <td>4</td>\n",
              "      <td>22</td>\n",
              "      <td>ontime</td>\n",
              "      <td>(-0.001, 2.0]</td>\n",
              "    </tr>\n",
              "    <tr>\n",
              "      <th>...</th>\n",
              "      <td>...</td>\n",
              "      <td>...</td>\n",
              "      <td>...</td>\n",
              "      <td>...</td>\n",
              "      <td>...</td>\n",
              "      <td>...</td>\n",
              "      <td>...</td>\n",
              "      <td>...</td>\n",
              "      <td>...</td>\n",
              "      <td>...</td>\n",
              "    </tr>\n",
              "    <tr>\n",
              "      <th>2041</th>\n",
              "      <td>US</td>\n",
              "      <td>2055</td>\n",
              "      <td>LGA</td>\n",
              "      <td>2188</td>\n",
              "      <td>DCA</td>\n",
              "      <td>0</td>\n",
              "      <td>4</td>\n",
              "      <td>29</td>\n",
              "      <td>ontime</td>\n",
              "      <td>(-0.001, 2.0]</td>\n",
              "    </tr>\n",
              "    <tr>\n",
              "      <th>1508</th>\n",
              "      <td>RU</td>\n",
              "      <td>1648</td>\n",
              "      <td>EWR</td>\n",
              "      <td>2181</td>\n",
              "      <td>DCA</td>\n",
              "      <td>0</td>\n",
              "      <td>3</td>\n",
              "      <td>21</td>\n",
              "      <td>delayed</td>\n",
              "      <td>(-0.001, 2.0]</td>\n",
              "    </tr>\n",
              "    <tr>\n",
              "      <th>778</th>\n",
              "      <td>DL</td>\n",
              "      <td>1028</td>\n",
              "      <td>LGA</td>\n",
              "      <td>1748</td>\n",
              "      <td>DCA</td>\n",
              "      <td>0</td>\n",
              "      <td>1</td>\n",
              "      <td>12</td>\n",
              "      <td>ontime</td>\n",
              "      <td>(-0.001, 2.0]</td>\n",
              "    </tr>\n",
              "    <tr>\n",
              "      <th>1788</th>\n",
              "      <td>DH</td>\n",
              "      <td>1720</td>\n",
              "      <td>EWR</td>\n",
              "      <td>7302</td>\n",
              "      <td>IAD</td>\n",
              "      <td>0</td>\n",
              "      <td>7</td>\n",
              "      <td>25</td>\n",
              "      <td>ontime</td>\n",
              "      <td>(-0.001, 2.0]</td>\n",
              "    </tr>\n",
              "    <tr>\n",
              "      <th>2037</th>\n",
              "      <td>US</td>\n",
              "      <td>1659</td>\n",
              "      <td>LGA</td>\n",
              "      <td>2180</td>\n",
              "      <td>DCA</td>\n",
              "      <td>0</td>\n",
              "      <td>4</td>\n",
              "      <td>29</td>\n",
              "      <td>ontime</td>\n",
              "      <td>(-0.001, 2.0]</td>\n",
              "    </tr>\n",
              "  </tbody>\n",
              "</table>\n",
              "<p>441 rows × 10 columns</p>\n",
              "</div>"
            ],
            "text/plain": [
              "     CARRIER  DEP_TIME DEST  FL_NUM ORIGIN  Weather  DAY_WEEK  DAY_OF_MONTH  \\\n",
              "1768      US       954  LGA    2166    DCA        0         7            25   \n",
              "1867      DH      1409  LGA    7208    IAD        1         2            27   \n",
              "456       DH      1725  EWR    7302    IAD        0         3             7   \n",
              "1657      US      2055  LGA    2188    DCA        0         5            23   \n",
              "1530      DH      1607  JFK    7816    IAD        0         4            22   \n",
              "...      ...       ...  ...     ...    ...      ...       ...           ...   \n",
              "2041      US      2055  LGA    2188    DCA        0         4            29   \n",
              "1508      RU      1648  EWR    2181    DCA        0         3            21   \n",
              "778       DL      1028  LGA    1748    DCA        0         1            12   \n",
              "1788      DH      1720  EWR    7302    IAD        0         7            25   \n",
              "2037      US      1659  LGA    2180    DCA        0         4            29   \n",
              "\n",
              "       Target sched_dep_time  \n",
              "1768   ontime  (-0.001, 2.0]  \n",
              "1867  delayed  (-0.001, 2.0]  \n",
              "456    ontime  (-0.001, 2.0]  \n",
              "1657   ontime  (-0.001, 2.0]  \n",
              "1530   ontime  (-0.001, 2.0]  \n",
              "...       ...            ...  \n",
              "2041   ontime  (-0.001, 2.0]  \n",
              "1508  delayed  (-0.001, 2.0]  \n",
              "778    ontime  (-0.001, 2.0]  \n",
              "1788   ontime  (-0.001, 2.0]  \n",
              "2037   ontime  (-0.001, 2.0]  \n",
              "\n",
              "[441 rows x 10 columns]"
            ]
          },
          "metadata": {
            "tags": []
          },
          "execution_count": 182
        }
      ]
    },
    {
      "cell_type": "markdown",
      "metadata": {
        "id": "LcmrbWcEpOw_",
        "colab_type": "text"
      },
      "source": [
        "Separate the predictors and the labels\n",
        "\n",
        "We need to setup the X (DataFrame) and y (series) appropriately for using `scikit-learn` API"
      ]
    },
    {
      "cell_type": "code",
      "metadata": {
        "id": "-Au0CDIi6GzG",
        "colab_type": "code",
        "colab": {}
      },
      "source": [
        "data = data2.drop('Target', axis=1) # drop labels for training set\n",
        "data_labels = data2['Target'].copy()"
      ],
      "execution_count": 0,
      "outputs": []
    },
    {
      "cell_type": "code",
      "metadata": {
        "id": "izFSq8vjoaJC",
        "colab_type": "code",
        "outputId": "c86fb139-9f26-4ca4-faaf-620e9807e7f5",
        "colab": {
          "base_uri": "https://localhost:8080/",
          "height": 204
        }
      },
      "source": [
        "data.head()"
      ],
      "execution_count": 0,
      "outputs": [
        {
          "output_type": "execute_result",
          "data": {
            "text/html": [
              "<div>\n",
              "<style scoped>\n",
              "    .dataframe tbody tr th:only-of-type {\n",
              "        vertical-align: middle;\n",
              "    }\n",
              "\n",
              "    .dataframe tbody tr th {\n",
              "        vertical-align: top;\n",
              "    }\n",
              "\n",
              "    .dataframe thead th {\n",
              "        text-align: right;\n",
              "    }\n",
              "</style>\n",
              "<table border=\"1\" class=\"dataframe\">\n",
              "  <thead>\n",
              "    <tr style=\"text-align: right;\">\n",
              "      <th></th>\n",
              "      <th>CARRIER</th>\n",
              "      <th>DEP_TIME</th>\n",
              "      <th>DEST</th>\n",
              "      <th>FL_NUM</th>\n",
              "      <th>ORIGIN</th>\n",
              "      <th>Weather</th>\n",
              "      <th>DAY_WEEK</th>\n",
              "      <th>DAY_OF_MONTH</th>\n",
              "      <th>sched_dep_time</th>\n",
              "    </tr>\n",
              "  </thead>\n",
              "  <tbody>\n",
              "    <tr>\n",
              "      <th>1233</th>\n",
              "      <td>MQ</td>\n",
              "      <td>919</td>\n",
              "      <td>JFK</td>\n",
              "      <td>4771</td>\n",
              "      <td>DCA</td>\n",
              "      <td>0</td>\n",
              "      <td>7</td>\n",
              "      <td>18</td>\n",
              "      <td>(-0.001, 2.0]</td>\n",
              "    </tr>\n",
              "    <tr>\n",
              "      <th>992</th>\n",
              "      <td>CO</td>\n",
              "      <td>1915</td>\n",
              "      <td>EWR</td>\n",
              "      <td>816</td>\n",
              "      <td>DCA</td>\n",
              "      <td>0</td>\n",
              "      <td>3</td>\n",
              "      <td>14</td>\n",
              "      <td>(-0.001, 2.0]</td>\n",
              "    </tr>\n",
              "    <tr>\n",
              "      <th>1558</th>\n",
              "      <td>MQ</td>\n",
              "      <td>1652</td>\n",
              "      <td>LGA</td>\n",
              "      <td>4972</td>\n",
              "      <td>DCA</td>\n",
              "      <td>0</td>\n",
              "      <td>4</td>\n",
              "      <td>22</td>\n",
              "      <td>(-0.001, 2.0]</td>\n",
              "    </tr>\n",
              "    <tr>\n",
              "      <th>2009</th>\n",
              "      <td>DL</td>\n",
              "      <td>1629</td>\n",
              "      <td>LGA</td>\n",
              "      <td>1760</td>\n",
              "      <td>DCA</td>\n",
              "      <td>0</td>\n",
              "      <td>4</td>\n",
              "      <td>29</td>\n",
              "      <td>(-0.001, 2.0]</td>\n",
              "    </tr>\n",
              "    <tr>\n",
              "      <th>1486</th>\n",
              "      <td>US</td>\n",
              "      <td>1658</td>\n",
              "      <td>LGA</td>\n",
              "      <td>2180</td>\n",
              "      <td>DCA</td>\n",
              "      <td>0</td>\n",
              "      <td>3</td>\n",
              "      <td>21</td>\n",
              "      <td>(-0.001, 2.0]</td>\n",
              "    </tr>\n",
              "  </tbody>\n",
              "</table>\n",
              "</div>"
            ],
            "text/plain": [
              "     CARRIER  DEP_TIME DEST  FL_NUM ORIGIN  Weather  DAY_WEEK  DAY_OF_MONTH  \\\n",
              "1233      MQ       919  JFK    4771    DCA        0         7            18   \n",
              "992       CO      1915  EWR     816    DCA        0         3            14   \n",
              "1558      MQ      1652  LGA    4972    DCA        0         4            22   \n",
              "2009      DL      1629  LGA    1760    DCA        0         4            29   \n",
              "1486      US      1658  LGA    2180    DCA        0         3            21   \n",
              "\n",
              "     sched_dep_time  \n",
              "1233  (-0.001, 2.0]  \n",
              "992   (-0.001, 2.0]  \n",
              "1558  (-0.001, 2.0]  \n",
              "2009  (-0.001, 2.0]  \n",
              "1486  (-0.001, 2.0]  "
            ]
          },
          "metadata": {
            "tags": []
          },
          "execution_count": 184
        }
      ]
    },
    {
      "cell_type": "code",
      "metadata": {
        "id": "o7zHH3D2o9vS",
        "colab_type": "code",
        "outputId": "1d9a3cd3-5b32-443d-a3d0-6a34a17d95ea",
        "colab": {
          "base_uri": "https://localhost:8080/",
          "height": 153
        }
      },
      "source": [
        "data_labels.head(7)"
      ],
      "execution_count": 0,
      "outputs": [
        {
          "output_type": "execute_result",
          "data": {
            "text/plain": [
              "1233     ontime\n",
              "992      ontime\n",
              "1558     ontime\n",
              "2009     ontime\n",
              "1486     ontime\n",
              "1590     ontime\n",
              "1737    delayed\n",
              "Name: Target, dtype: object"
            ]
          },
          "metadata": {
            "tags": []
          },
          "execution_count": 185
        }
      ]
    },
    {
      "cell_type": "code",
      "metadata": {
        "id": "JjJQwsbxpB47",
        "colab_type": "code",
        "outputId": "c55daf20-eec7-4e2c-ea3a-7c7741be7b56",
        "colab": {
          "base_uri": "https://localhost:8080/",
          "height": 255
        }
      },
      "source": [
        "data.info()"
      ],
      "execution_count": 0,
      "outputs": [
        {
          "output_type": "stream",
          "text": [
            "<class 'pandas.core.frame.DataFrame'>\n",
            "Int64Index: 1760 entries, 1233 to 1081\n",
            "Data columns (total 9 columns):\n",
            "CARRIER           1760 non-null object\n",
            "DEP_TIME          1760 non-null int64\n",
            "DEST              1760 non-null object\n",
            "FL_NUM            1760 non-null int64\n",
            "ORIGIN            1760 non-null object\n",
            "Weather           1760 non-null int64\n",
            "DAY_WEEK          1760 non-null int64\n",
            "DAY_OF_MONTH      1760 non-null int64\n",
            "sched_dep_time    1760 non-null category\n",
            "dtypes: category(1), int64(5), object(3)\n",
            "memory usage: 206.0+ KB\n"
          ],
          "name": "stdout"
        }
      ]
    },
    {
      "cell_type": "code",
      "metadata": {
        "id": "poudg9WIpsCf",
        "colab_type": "code",
        "colab": {}
      },
      "source": [
        "test_data = test_data2.drop('Target', axis=1) # drop labels for test set\n",
        "test_data_labels = test_data2['Target'].copy()"
      ],
      "execution_count": 0,
      "outputs": []
    },
    {
      "cell_type": "code",
      "metadata": {
        "id": "QLRfNO4AqEXZ",
        "colab_type": "code",
        "outputId": "4aaa5f41-4df5-478f-f643-37ab2ea52309",
        "colab": {
          "base_uri": "https://localhost:8080/",
          "height": 204
        }
      },
      "source": [
        "test_data.head()"
      ],
      "execution_count": 0,
      "outputs": [
        {
          "output_type": "execute_result",
          "data": {
            "text/html": [
              "<div>\n",
              "<style scoped>\n",
              "    .dataframe tbody tr th:only-of-type {\n",
              "        vertical-align: middle;\n",
              "    }\n",
              "\n",
              "    .dataframe tbody tr th {\n",
              "        vertical-align: top;\n",
              "    }\n",
              "\n",
              "    .dataframe thead th {\n",
              "        text-align: right;\n",
              "    }\n",
              "</style>\n",
              "<table border=\"1\" class=\"dataframe\">\n",
              "  <thead>\n",
              "    <tr style=\"text-align: right;\">\n",
              "      <th></th>\n",
              "      <th>CARRIER</th>\n",
              "      <th>DEP_TIME</th>\n",
              "      <th>DEST</th>\n",
              "      <th>FL_NUM</th>\n",
              "      <th>ORIGIN</th>\n",
              "      <th>Weather</th>\n",
              "      <th>DAY_WEEK</th>\n",
              "      <th>DAY_OF_MONTH</th>\n",
              "      <th>sched_dep_time</th>\n",
              "    </tr>\n",
              "  </thead>\n",
              "  <tbody>\n",
              "    <tr>\n",
              "      <th>1768</th>\n",
              "      <td>US</td>\n",
              "      <td>954</td>\n",
              "      <td>LGA</td>\n",
              "      <td>2166</td>\n",
              "      <td>DCA</td>\n",
              "      <td>0</td>\n",
              "      <td>7</td>\n",
              "      <td>25</td>\n",
              "      <td>(-0.001, 2.0]</td>\n",
              "    </tr>\n",
              "    <tr>\n",
              "      <th>1867</th>\n",
              "      <td>DH</td>\n",
              "      <td>1409</td>\n",
              "      <td>LGA</td>\n",
              "      <td>7208</td>\n",
              "      <td>IAD</td>\n",
              "      <td>1</td>\n",
              "      <td>2</td>\n",
              "      <td>27</td>\n",
              "      <td>(-0.001, 2.0]</td>\n",
              "    </tr>\n",
              "    <tr>\n",
              "      <th>456</th>\n",
              "      <td>DH</td>\n",
              "      <td>1725</td>\n",
              "      <td>EWR</td>\n",
              "      <td>7302</td>\n",
              "      <td>IAD</td>\n",
              "      <td>0</td>\n",
              "      <td>3</td>\n",
              "      <td>7</td>\n",
              "      <td>(-0.001, 2.0]</td>\n",
              "    </tr>\n",
              "    <tr>\n",
              "      <th>1657</th>\n",
              "      <td>US</td>\n",
              "      <td>2055</td>\n",
              "      <td>LGA</td>\n",
              "      <td>2188</td>\n",
              "      <td>DCA</td>\n",
              "      <td>0</td>\n",
              "      <td>5</td>\n",
              "      <td>23</td>\n",
              "      <td>(-0.001, 2.0]</td>\n",
              "    </tr>\n",
              "    <tr>\n",
              "      <th>1530</th>\n",
              "      <td>DH</td>\n",
              "      <td>1607</td>\n",
              "      <td>JFK</td>\n",
              "      <td>7816</td>\n",
              "      <td>IAD</td>\n",
              "      <td>0</td>\n",
              "      <td>4</td>\n",
              "      <td>22</td>\n",
              "      <td>(-0.001, 2.0]</td>\n",
              "    </tr>\n",
              "  </tbody>\n",
              "</table>\n",
              "</div>"
            ],
            "text/plain": [
              "     CARRIER  DEP_TIME DEST  FL_NUM ORIGIN  Weather  DAY_WEEK  DAY_OF_MONTH  \\\n",
              "1768      US       954  LGA    2166    DCA        0         7            25   \n",
              "1867      DH      1409  LGA    7208    IAD        1         2            27   \n",
              "456       DH      1725  EWR    7302    IAD        0         3             7   \n",
              "1657      US      2055  LGA    2188    DCA        0         5            23   \n",
              "1530      DH      1607  JFK    7816    IAD        0         4            22   \n",
              "\n",
              "     sched_dep_time  \n",
              "1768  (-0.001, 2.0]  \n",
              "1867  (-0.001, 2.0]  \n",
              "456   (-0.001, 2.0]  \n",
              "1657  (-0.001, 2.0]  \n",
              "1530  (-0.001, 2.0]  "
            ]
          },
          "metadata": {
            "tags": []
          },
          "execution_count": 43
        }
      ]
    },
    {
      "cell_type": "code",
      "metadata": {
        "id": "MohHj7vAqN2k",
        "colab_type": "code",
        "outputId": "73c29cff-27ca-44c0-bb86-919ffc28f679",
        "colab": {
          "base_uri": "https://localhost:8080/",
          "height": 119
        }
      },
      "source": [
        "test_data_labels.head()"
      ],
      "execution_count": 0,
      "outputs": [
        {
          "output_type": "execute_result",
          "data": {
            "text/plain": [
              "1768     ontime\n",
              "1867    delayed\n",
              "456      ontime\n",
              "1657     ontime\n",
              "1530     ontime\n",
              "Name: Target, dtype: object"
            ]
          },
          "metadata": {
            "tags": []
          },
          "execution_count": 188
        }
      ]
    },
    {
      "cell_type": "code",
      "metadata": {
        "id": "4p1ZJDJ8tQr7",
        "colab_type": "code",
        "outputId": "4ebc24ea-f2fb-464c-ebd2-b5cf19f6a012",
        "colab": {
          "base_uri": "https://localhost:8080/",
          "height": 255
        }
      },
      "source": [
        "test_data.info()"
      ],
      "execution_count": 0,
      "outputs": [
        {
          "output_type": "stream",
          "text": [
            "<class 'pandas.core.frame.DataFrame'>\n",
            "Int64Index: 441 entries, 1768 to 2037\n",
            "Data columns (total 9 columns):\n",
            "CARRIER           441 non-null object\n",
            "DEP_TIME          441 non-null int64\n",
            "DEST              441 non-null object\n",
            "FL_NUM            441 non-null int64\n",
            "ORIGIN            441 non-null object\n",
            "Weather           441 non-null int64\n",
            "DAY_WEEK          441 non-null int64\n",
            "DAY_OF_MONTH      441 non-null int64\n",
            "sched_dep_time    441 non-null category\n",
            "dtypes: category(1), int64(5), object(3)\n",
            "memory usage: 31.9+ KB\n"
          ],
          "name": "stdout"
        }
      ]
    },
    {
      "cell_type": "markdown",
      "metadata": {
        "id": "WKn-rLsLtp1P",
        "colab_type": "text"
      },
      "source": [
        "##3C\n",
        "\n",
        "Handle the following categorical variables in the data using the one-hot encoding approach.\n",
        "How many new variables would you get as a result of this one-hot encoding? Explain.\n",
        "\n",
        "\n",
        "**Answer**: One hot encoding is a process by which categorical variables are converted into a form that could be provided to ML algorithms to do a better job in prediction. After pocessing my categorical data using one-hot encoding my variables increased to 19. I dropped the Tail_num which is the airplane number because i dont find it useful to my analysis and it is not suitable of for one-hot encoding "
      ]
    },
    {
      "cell_type": "code",
      "metadata": {
        "id": "IPqegMl8tipG",
        "colab_type": "code",
        "outputId": "cb5381b2-3340-4f56-d9ff-7838e6491482",
        "colab": {
          "base_uri": "https://localhost:8080/",
          "height": 68
        }
      },
      "source": [
        "all_features = data.columns\n",
        "all_features"
      ],
      "execution_count": 0,
      "outputs": [
        {
          "output_type": "execute_result",
          "data": {
            "text/plain": [
              "Index(['CARRIER', 'DEP_TIME', 'DEST', 'FL_NUM', 'ORIGIN', 'Weather',\n",
              "       'DAY_WEEK', 'DAY_OF_MONTH', 'sched_dep_time'],\n",
              "      dtype='object')"
            ]
          },
          "metadata": {
            "tags": []
          },
          "execution_count": 190
        }
      ]
    },
    {
      "cell_type": "markdown",
      "metadata": {
        "id": "yHnyVC3bwNbu",
        "colab_type": "text"
      },
      "source": [
        "#### Selecting categorical features"
      ]
    },
    {
      "cell_type": "code",
      "metadata": {
        "id": "m7jwtQjzwOHj",
        "colab_type": "code",
        "colab": {}
      },
      "source": [
        "cat_attribs = list(data.select_dtypes(include=['category', 'object']).columns) "
      ],
      "execution_count": 0,
      "outputs": []
    },
    {
      "cell_type": "markdown",
      "metadata": {
        "id": "5uPygUIlvmGQ",
        "colab_type": "text"
      },
      "source": [
        "#### Data with only the selected categorical attributes"
      ]
    },
    {
      "cell_type": "code",
      "metadata": {
        "id": "i2AROmDKvCJ9",
        "colab_type": "code",
        "outputId": "09ef08e0-2c5a-4830-8b3f-935fe92406c5",
        "colab": {
          "base_uri": "https://localhost:8080/",
          "height": 204
        }
      },
      "source": [
        "data_cat = data[cat_attribs]\n",
        "data_cat.head()"
      ],
      "execution_count": 0,
      "outputs": [
        {
          "output_type": "execute_result",
          "data": {
            "text/html": [
              "<div>\n",
              "<style scoped>\n",
              "    .dataframe tbody tr th:only-of-type {\n",
              "        vertical-align: middle;\n",
              "    }\n",
              "\n",
              "    .dataframe tbody tr th {\n",
              "        vertical-align: top;\n",
              "    }\n",
              "\n",
              "    .dataframe thead th {\n",
              "        text-align: right;\n",
              "    }\n",
              "</style>\n",
              "<table border=\"1\" class=\"dataframe\">\n",
              "  <thead>\n",
              "    <tr style=\"text-align: right;\">\n",
              "      <th></th>\n",
              "      <th>CARRIER</th>\n",
              "      <th>DEST</th>\n",
              "      <th>ORIGIN</th>\n",
              "      <th>sched_dep_time</th>\n",
              "    </tr>\n",
              "  </thead>\n",
              "  <tbody>\n",
              "    <tr>\n",
              "      <th>1233</th>\n",
              "      <td>MQ</td>\n",
              "      <td>JFK</td>\n",
              "      <td>DCA</td>\n",
              "      <td>(-0.001, 2.0]</td>\n",
              "    </tr>\n",
              "    <tr>\n",
              "      <th>992</th>\n",
              "      <td>CO</td>\n",
              "      <td>EWR</td>\n",
              "      <td>DCA</td>\n",
              "      <td>(-0.001, 2.0]</td>\n",
              "    </tr>\n",
              "    <tr>\n",
              "      <th>1558</th>\n",
              "      <td>MQ</td>\n",
              "      <td>LGA</td>\n",
              "      <td>DCA</td>\n",
              "      <td>(-0.001, 2.0]</td>\n",
              "    </tr>\n",
              "    <tr>\n",
              "      <th>2009</th>\n",
              "      <td>DL</td>\n",
              "      <td>LGA</td>\n",
              "      <td>DCA</td>\n",
              "      <td>(-0.001, 2.0]</td>\n",
              "    </tr>\n",
              "    <tr>\n",
              "      <th>1486</th>\n",
              "      <td>US</td>\n",
              "      <td>LGA</td>\n",
              "      <td>DCA</td>\n",
              "      <td>(-0.001, 2.0]</td>\n",
              "    </tr>\n",
              "  </tbody>\n",
              "</table>\n",
              "</div>"
            ],
            "text/plain": [
              "     CARRIER DEST ORIGIN sched_dep_time\n",
              "1233      MQ  JFK    DCA  (-0.001, 2.0]\n",
              "992       CO  EWR    DCA  (-0.001, 2.0]\n",
              "1558      MQ  LGA    DCA  (-0.001, 2.0]\n",
              "2009      DL  LGA    DCA  (-0.001, 2.0]\n",
              "1486      US  LGA    DCA  (-0.001, 2.0]"
            ]
          },
          "metadata": {
            "tags": []
          },
          "execution_count": 192
        }
      ]
    },
    {
      "cell_type": "code",
      "metadata": {
        "id": "-IjS6R4dvoni",
        "colab_type": "code",
        "outputId": "ae839428-fbc1-4394-e988-299f06567e3f",
        "colab": {
          "base_uri": "https://localhost:8080/",
          "height": 884
        }
      },
      "source": [
        "from sklearn.preprocessing import OneHotEncoder\n",
        "ohe = OneHotEncoder(categories='auto', sparse=True)\n",
        "print(ohe.fit_transform(data_cat)) # converts all the columns (string and integer) to one-hot encoded columns"
      ],
      "execution_count": 0,
      "outputs": [
        {
          "output_type": "stream",
          "text": [
            "  (0, 3)\t1.0\n",
            "  (0, 9)\t1.0\n",
            "  (0, 12)\t1.0\n",
            "  (0, 14)\t1.0\n",
            "  (1, 0)\t1.0\n",
            "  (1, 8)\t1.0\n",
            "  (1, 12)\t1.0\n",
            "  (1, 14)\t1.0\n",
            "  (2, 3)\t1.0\n",
            "  (2, 10)\t1.0\n",
            "  (2, 12)\t1.0\n",
            "  (2, 14)\t1.0\n",
            "  (3, 2)\t1.0\n",
            "  (3, 10)\t1.0\n",
            "  (3, 12)\t1.0\n",
            "  (3, 14)\t1.0\n",
            "  (4, 7)\t1.0\n",
            "  (4, 10)\t1.0\n",
            "  (4, 12)\t1.0\n",
            "  (4, 14)\t1.0\n",
            "  (5, 1)\t1.0\n",
            "  (5, 8)\t1.0\n",
            "  (5, 13)\t1.0\n",
            "  (5, 14)\t1.0\n",
            "  (6, 1)\t1.0\n",
            "  :\t:\n",
            "  (1753, 14)\t1.0\n",
            "  (1754, 0)\t1.0\n",
            "  (1754, 8)\t1.0\n",
            "  (1754, 12)\t1.0\n",
            "  (1754, 14)\t1.0\n",
            "  (1755, 5)\t1.0\n",
            "  (1755, 8)\t1.0\n",
            "  (1755, 11)\t1.0\n",
            "  (1755, 14)\t1.0\n",
            "  (1756, 1)\t1.0\n",
            "  (1756, 9)\t1.0\n",
            "  (1756, 13)\t1.0\n",
            "  (1756, 14)\t1.0\n",
            "  (1757, 2)\t1.0\n",
            "  (1757, 10)\t1.0\n",
            "  (1757, 12)\t1.0\n",
            "  (1757, 14)\t1.0\n",
            "  (1758, 3)\t1.0\n",
            "  (1758, 10)\t1.0\n",
            "  (1758, 12)\t1.0\n",
            "  (1758, 14)\t1.0\n",
            "  (1759, 4)\t1.0\n",
            "  (1759, 9)\t1.0\n",
            "  (1759, 11)\t1.0\n",
            "  (1759, 14)\t1.0\n"
          ],
          "name": "stdout"
        }
      ]
    },
    {
      "cell_type": "code",
      "metadata": {
        "id": "3d2GHHxLwvYo",
        "colab_type": "code",
        "outputId": "81642292-a689-4bb5-8037-f22144fe033c",
        "colab": {
          "base_uri": "https://localhost:8080/",
          "height": 34
        }
      },
      "source": [
        "all_features = data.columns\n",
        "print(\"Total Number of Columns: {}\".format(len(list(all_features))))"
      ],
      "execution_count": 0,
      "outputs": [
        {
          "output_type": "stream",
          "text": [
            "Total Number of Columns: 9\n"
          ],
          "name": "stdout"
        }
      ]
    },
    {
      "cell_type": "markdown",
      "metadata": {
        "id": "RTdmxSdq1g9F",
        "colab_type": "text"
      },
      "source": [
        "##3D \n",
        "Weather is coded as 1 if there was a weather-delay. Would you need to use one-hot encoding\n",
        "for this variable? Why or why not? Explain and take the appropriate action.\n",
        "\n",
        "**Answer**:\n",
        "Weather is binary, therefore columnTransformer would be used to handle ordinal variables not one-hot encoder\n"
      ]
    },
    {
      "cell_type": "code",
      "metadata": {
        "id": "yW7QW0ym2L0d",
        "colab_type": "code",
        "outputId": "28935d7a-85e5-4fe8-a4bc-b55d80373a18",
        "colab": {
          "base_uri": "https://localhost:8080/",
          "height": 34
        }
      },
      "source": [
        "ord_attribs = ['Weather'] \n",
        "ord_attribs"
      ],
      "execution_count": 0,
      "outputs": [
        {
          "output_type": "execute_result",
          "data": {
            "text/plain": [
              "['Weather']"
            ]
          },
          "metadata": {
            "tags": []
          },
          "execution_count": 195
        }
      ]
    },
    {
      "cell_type": "code",
      "metadata": {
        "id": "td17dYqF24sM",
        "colab_type": "code",
        "outputId": "76a9917b-3510-4a94-b9fc-db3509f7ce67",
        "colab": {
          "base_uri": "https://localhost:8080/",
          "height": 204
        }
      },
      "source": [
        "data_ord = data[ord_attribs]\n",
        "data_ord.head()"
      ],
      "execution_count": 0,
      "outputs": [
        {
          "output_type": "execute_result",
          "data": {
            "text/html": [
              "<div>\n",
              "<style scoped>\n",
              "    .dataframe tbody tr th:only-of-type {\n",
              "        vertical-align: middle;\n",
              "    }\n",
              "\n",
              "    .dataframe tbody tr th {\n",
              "        vertical-align: top;\n",
              "    }\n",
              "\n",
              "    .dataframe thead th {\n",
              "        text-align: right;\n",
              "    }\n",
              "</style>\n",
              "<table border=\"1\" class=\"dataframe\">\n",
              "  <thead>\n",
              "    <tr style=\"text-align: right;\">\n",
              "      <th></th>\n",
              "      <th>Weather</th>\n",
              "    </tr>\n",
              "  </thead>\n",
              "  <tbody>\n",
              "    <tr>\n",
              "      <th>1233</th>\n",
              "      <td>0</td>\n",
              "    </tr>\n",
              "    <tr>\n",
              "      <th>992</th>\n",
              "      <td>0</td>\n",
              "    </tr>\n",
              "    <tr>\n",
              "      <th>1558</th>\n",
              "      <td>0</td>\n",
              "    </tr>\n",
              "    <tr>\n",
              "      <th>2009</th>\n",
              "      <td>0</td>\n",
              "    </tr>\n",
              "    <tr>\n",
              "      <th>1486</th>\n",
              "      <td>0</td>\n",
              "    </tr>\n",
              "  </tbody>\n",
              "</table>\n",
              "</div>"
            ],
            "text/plain": [
              "      Weather\n",
              "1233        0\n",
              "992         0\n",
              "1558        0\n",
              "2009        0\n",
              "1486        0"
            ]
          },
          "metadata": {
            "tags": []
          },
          "execution_count": 196
        }
      ]
    },
    {
      "cell_type": "code",
      "metadata": {
        "id": "N5uukmul28Jc",
        "colab_type": "code",
        "outputId": "3b4ef3c4-7d39-4c98-8225-8f2c96f9656d",
        "colab": {
          "base_uri": "https://localhost:8080/",
          "height": 85
        }
      },
      "source": [
        "for c in data_ord.columns:\n",
        "    print(\"---- {0} ---\".format(c))\n",
        "    print(data_ord[c].value_counts())"
      ],
      "execution_count": 0,
      "outputs": [
        {
          "output_type": "stream",
          "text": [
            "---- Weather ---\n",
            "0    1738\n",
            "1      22\n",
            "Name: Weather, dtype: int64\n"
          ],
          "name": "stdout"
        }
      ]
    },
    {
      "cell_type": "code",
      "metadata": {
        "id": "6GA6Pcwb3LDe",
        "colab_type": "code",
        "colab": {}
      },
      "source": [
        "ord_attrib_Weather = ['Weather']\n",
        "\n",
        "data_ord_attrib_Weather = data[ord_attrib_Weather]"
      ],
      "execution_count": 0,
      "outputs": []
    },
    {
      "cell_type": "code",
      "metadata": {
        "id": "OlLzBiaf3yex",
        "colab_type": "code",
        "outputId": "796f1c58-4c7d-4926-9154-b2fb218b1b99",
        "colab": {
          "base_uri": "https://localhost:8080/",
          "height": 204
        }
      },
      "source": [
        "data_ord_attrib_Weather.head()"
      ],
      "execution_count": 0,
      "outputs": [
        {
          "output_type": "execute_result",
          "data": {
            "text/html": [
              "<div>\n",
              "<style scoped>\n",
              "    .dataframe tbody tr th:only-of-type {\n",
              "        vertical-align: middle;\n",
              "    }\n",
              "\n",
              "    .dataframe tbody tr th {\n",
              "        vertical-align: top;\n",
              "    }\n",
              "\n",
              "    .dataframe thead th {\n",
              "        text-align: right;\n",
              "    }\n",
              "</style>\n",
              "<table border=\"1\" class=\"dataframe\">\n",
              "  <thead>\n",
              "    <tr style=\"text-align: right;\">\n",
              "      <th></th>\n",
              "      <th>Weather</th>\n",
              "    </tr>\n",
              "  </thead>\n",
              "  <tbody>\n",
              "    <tr>\n",
              "      <th>1233</th>\n",
              "      <td>0</td>\n",
              "    </tr>\n",
              "    <tr>\n",
              "      <th>992</th>\n",
              "      <td>0</td>\n",
              "    </tr>\n",
              "    <tr>\n",
              "      <th>1558</th>\n",
              "      <td>0</td>\n",
              "    </tr>\n",
              "    <tr>\n",
              "      <th>2009</th>\n",
              "      <td>0</td>\n",
              "    </tr>\n",
              "    <tr>\n",
              "      <th>1486</th>\n",
              "      <td>0</td>\n",
              "    </tr>\n",
              "  </tbody>\n",
              "</table>\n",
              "</div>"
            ],
            "text/plain": [
              "      Weather\n",
              "1233        0\n",
              "992         0\n",
              "1558        0\n",
              "2009        0\n",
              "1486        0"
            ]
          },
          "metadata": {
            "tags": []
          },
          "execution_count": 199
        }
      ]
    },
    {
      "cell_type": "markdown",
      "metadata": {
        "id": "KOl_rWzz6qxE",
        "colab_type": "text"
      },
      "source": [
        "#### Selecting numerical features"
      ]
    },
    {
      "cell_type": "code",
      "metadata": {
        "id": "prV93SG66qdM",
        "colab_type": "code",
        "colab": {}
      },
      "source": [
        "num_attribs = list(data.select_dtypes(include='number').columns)"
      ],
      "execution_count": 0,
      "outputs": []
    },
    {
      "cell_type": "code",
      "metadata": {
        "id": "SBk8qa8B4Ah6",
        "colab_type": "code",
        "outputId": "b392e2cc-b0fa-4c55-880d-e7c9d22d6d73",
        "colab": {
          "base_uri": "https://localhost:8080/",
          "height": 34
        }
      },
      "source": [
        "num_attribs = ['FL_NUM', 'DAY_WEEK', 'DAY_OF_MONTH']\n",
        "num_attribs"
      ],
      "execution_count": 0,
      "outputs": [
        {
          "output_type": "execute_result",
          "data": {
            "text/plain": [
              "['FL_NUM', 'DAY_WEEK', 'DAY_OF_MONTH']"
            ]
          },
          "metadata": {
            "tags": []
          },
          "execution_count": 201
        }
      ]
    },
    {
      "cell_type": "code",
      "metadata": {
        "id": "nJWg2CVi9GRJ",
        "colab_type": "code",
        "outputId": "97f25811-53a6-45d8-970e-2c74244841ca",
        "colab": {
          "base_uri": "https://localhost:8080/",
          "height": 204
        }
      },
      "source": [
        "data_num = data[num_attribs]\n",
        "data_num.head()"
      ],
      "execution_count": 0,
      "outputs": [
        {
          "output_type": "execute_result",
          "data": {
            "text/html": [
              "<div>\n",
              "<style scoped>\n",
              "    .dataframe tbody tr th:only-of-type {\n",
              "        vertical-align: middle;\n",
              "    }\n",
              "\n",
              "    .dataframe tbody tr th {\n",
              "        vertical-align: top;\n",
              "    }\n",
              "\n",
              "    .dataframe thead th {\n",
              "        text-align: right;\n",
              "    }\n",
              "</style>\n",
              "<table border=\"1\" class=\"dataframe\">\n",
              "  <thead>\n",
              "    <tr style=\"text-align: right;\">\n",
              "      <th></th>\n",
              "      <th>FL_NUM</th>\n",
              "      <th>DAY_WEEK</th>\n",
              "      <th>DAY_OF_MONTH</th>\n",
              "    </tr>\n",
              "  </thead>\n",
              "  <tbody>\n",
              "    <tr>\n",
              "      <th>1233</th>\n",
              "      <td>4771</td>\n",
              "      <td>7</td>\n",
              "      <td>18</td>\n",
              "    </tr>\n",
              "    <tr>\n",
              "      <th>992</th>\n",
              "      <td>816</td>\n",
              "      <td>3</td>\n",
              "      <td>14</td>\n",
              "    </tr>\n",
              "    <tr>\n",
              "      <th>1558</th>\n",
              "      <td>4972</td>\n",
              "      <td>4</td>\n",
              "      <td>22</td>\n",
              "    </tr>\n",
              "    <tr>\n",
              "      <th>2009</th>\n",
              "      <td>1760</td>\n",
              "      <td>4</td>\n",
              "      <td>29</td>\n",
              "    </tr>\n",
              "    <tr>\n",
              "      <th>1486</th>\n",
              "      <td>2180</td>\n",
              "      <td>3</td>\n",
              "      <td>21</td>\n",
              "    </tr>\n",
              "  </tbody>\n",
              "</table>\n",
              "</div>"
            ],
            "text/plain": [
              "      FL_NUM  DAY_WEEK  DAY_OF_MONTH\n",
              "1233    4771         7            18\n",
              "992      816         3            14\n",
              "1558    4972         4            22\n",
              "2009    1760         4            29\n",
              "1486    2180         3            21"
            ]
          },
          "metadata": {
            "tags": []
          },
          "execution_count": 202
        }
      ]
    },
    {
      "cell_type": "code",
      "metadata": {
        "id": "dcL1iyrs9KH6",
        "colab_type": "code",
        "outputId": "d676214b-6f4c-42a7-819b-a45dfcbe3984",
        "colab": {
          "base_uri": "https://localhost:8080/",
          "height": 136
        }
      },
      "source": [
        "from sklearn.preprocessing import MinMaxScaler\n",
        "mms = MinMaxScaler(feature_range=(0, 1))\n",
        "print(mms.fit_transform(data_num))"
      ],
      "execution_count": 0,
      "outputs": [
        {
          "output_type": "stream",
          "text": [
            "[[0.561 1.000 0.567]\n",
            " [0.010 0.333 0.433]\n",
            " [0.589 0.500 0.700]\n",
            " ...\n",
            " [0.141 1.000 0.800]\n",
            " [0.587 0.000 0.600]\n",
            " [0.723 0.667 0.500]]\n"
          ],
          "name": "stdout"
        }
      ]
    },
    {
      "cell_type": "code",
      "metadata": {
        "id": "ztK6TH2E-J0f",
        "colab_type": "code",
        "outputId": "c33a6a57-85b9-4667-e091-0d35a7a5de07",
        "colab": {
          "base_uri": "https://localhost:8080/",
          "height": 136
        }
      },
      "source": [
        "# demonstrating how StandardScaler would work\n",
        "\n",
        "from sklearn.preprocessing import StandardScaler\n",
        "ss = StandardScaler()\n",
        "print(ss.fit_transform(data_num))"
      ],
      "execution_count": 0,
      "outputs": [
        {
          "output_type": "stream",
          "text": [
            "[[0.402 1.592 0.254]\n",
            " [-1.244 -0.491 -0.204]\n",
            " [0.485 0.030 0.713]\n",
            " ...\n",
            " [-0.851 1.592 1.056]\n",
            " [0.480 -1.533 0.369]\n",
            " [0.886 0.550 0.025]]\n"
          ],
          "name": "stdout"
        }
      ]
    },
    {
      "cell_type": "markdown",
      "metadata": {
        "id": "q_cwkLOx-hNx",
        "colab_type": "text"
      },
      "source": [
        "## Setting up the pipeline"
      ]
    },
    {
      "cell_type": "markdown",
      "metadata": {
        "id": "qsDAN9Fb-jwJ",
        "colab_type": "text"
      },
      "source": [
        "#### Pipeline for numerical attributes"
      ]
    },
    {
      "cell_type": "code",
      "metadata": {
        "id": "9_C0VSis-az4",
        "colab_type": "code",
        "colab": {}
      },
      "source": [
        "from sklearn.pipeline import Pipeline\n",
        "from sklearn.impute import SimpleImputer\n",
        "from sklearn.preprocessing import StandardScaler\n",
        "\n",
        "# Our training data does not have any missing values, but it is a good idea to incorporate missing value imputation strategy\n",
        "# in the pipeline, in case the unseen data has any missing values.\n",
        "# Also, we can create two versions of this pipeline, one with scaling and another without scaling, to use different ones with different models.\n",
        "\n",
        "num_pipe_scaled = Pipeline([\n",
        "    ('num_imputer', SimpleImputer(strategy=\"median\")), # missing value strategy is based on median values.\n",
        "    ('num_std_scaler', StandardScaler()),\n",
        "])\n",
        "\n",
        "num_pipe_notscaled = Pipeline([\n",
        "    ('num_imputer', SimpleImputer(strategy=\"median\")), # missing value strategy is based on median values.\n",
        "])"
      ],
      "execution_count": 0,
      "outputs": []
    },
    {
      "cell_type": "markdown",
      "metadata": {
        "id": "OkmHAP7s_BOy",
        "colab_type": "text"
      },
      "source": [
        "##### Pipeline for ordinal attributes (includes binary numerical (0/1) attributes)"
      ]
    },
    {
      "cell_type": "code",
      "metadata": {
        "id": "UQ83kkvH-wsd",
        "colab_type": "code",
        "colab": {}
      },
      "source": [
        "from sklearn.pipeline import Pipeline\n",
        "from sklearn.impute import SimpleImputer\n",
        "from sklearn.preprocessing import OrdinalEncoder\n",
        "\n",
        "ord_pipe_Weather = Pipeline([\n",
        "    ('cat_ord_imp_Weather', SimpleImputer(strategy=\"most_frequent\")),\n",
        "    ('cat_ord_enc_Weather', OrdinalEncoder(categories=[['0', '1']]))\n",
        "])\n",
        "\n"
      ],
      "execution_count": 0,
      "outputs": []
    },
    {
      "cell_type": "markdown",
      "metadata": {
        "id": "12fPnVjdAXes",
        "colab_type": "text"
      },
      "source": [
        "##### Pipeline for categorical attributes "
      ]
    },
    {
      "cell_type": "code",
      "metadata": {
        "id": "yRsYihRi_EQ9",
        "colab_type": "code",
        "colab": {}
      },
      "source": [
        "from sklearn.pipeline import Pipeline\n",
        "from sklearn.impute import SimpleImputer\n",
        "from sklearn.preprocessing import OneHotEncoder\n",
        "\n",
        "cat_pipe = Pipeline([\n",
        "    ('cat_imputer', SimpleImputer(strategy=\"most_frequent\")),\n",
        "    ('cat_onehot_encoder', OneHotEncoder())\n",
        "    ])"
      ],
      "execution_count": 0,
      "outputs": []
    },
    {
      "cell_type": "code",
      "metadata": {
        "id": "SoDmfwBXBedF",
        "colab_type": "code",
        "colab": {}
      },
      "source": [
        "from sklearn.compose import ColumnTransformer\n",
        "\n",
        "prep_pipe_scaled = ColumnTransformer([\n",
        "    (\"num_scaling\", num_pipe_scaled, num_attribs), # numerical attributes with scaling\n",
        "    (\"ord_Weather\", ord_pipe_Weather, ord_attrib_Weather),\n",
        "    (\"cat\", cat_pipe, cat_attribs),\n",
        "])"
      ],
      "execution_count": 0,
      "outputs": []
    },
    {
      "cell_type": "markdown",
      "metadata": {
        "id": "5BOscGiZCbuk",
        "colab_type": "text"
      },
      "source": [
        "We could also create another pipeline without scaling numerical attributes, say while using tree-based models."
      ]
    },
    {
      "cell_type": "code",
      "metadata": {
        "id": "1oGAgXbeCFzH",
        "colab_type": "code",
        "colab": {}
      },
      "source": [
        "from sklearn.compose import ColumnTransformer\n",
        "\n",
        "prep_pipe_notscaled = ColumnTransformer([\n",
        "    (\"num_noscaling\", num_pipe_notscaled, num_attribs), # numerical attributes without scaling\n",
        "    (\"ord_Weather\", ord_pipe_Weather, ord_attrib_Weather),\n",
        "    (\"cat\", cat_pipe, cat_attribs),\n",
        "])"
      ],
      "execution_count": 0,
      "outputs": []
    },
    {
      "cell_type": "code",
      "metadata": {
        "id": "xTSsUyCsCpQB",
        "colab_type": "code",
        "colab": {}
      },
      "source": [
        "data_prepared = prep_pipe_scaled.fit_transform(data)"
      ],
      "execution_count": 0,
      "outputs": []
    },
    {
      "cell_type": "code",
      "metadata": {
        "id": "CYw7KZdBCsqx",
        "colab_type": "code",
        "outputId": "b5474ff1-7d3b-4d1f-e2e6-51f2a953d464",
        "colab": {
          "base_uri": "https://localhost:8080/",
          "height": 34
        }
      },
      "source": [
        "data_prepared.shape"
      ],
      "execution_count": 0,
      "outputs": [
        {
          "output_type": "execute_result",
          "data": {
            "text/plain": [
              "(1760, 19)"
            ]
          },
          "metadata": {
            "tags": []
          },
          "execution_count": 211
        }
      ]
    },
    {
      "cell_type": "code",
      "metadata": {
        "id": "O5-MA3cRC60L",
        "colab_type": "code",
        "outputId": "e7fef2a1-c454-4aa1-c8a3-16ce7bdc7a46",
        "colab": {
          "base_uri": "https://localhost:8080/",
          "height": 510
        }
      },
      "source": [
        "prep_pipe_scaled.transformers_"
      ],
      "execution_count": 0,
      "outputs": [
        {
          "output_type": "execute_result",
          "data": {
            "text/plain": [
              "[('num_scaling', Pipeline(memory=None,\n",
              "           steps=[('num_imputer',\n",
              "                   SimpleImputer(add_indicator=False, copy=True, fill_value=None,\n",
              "                                 missing_values=nan, strategy='median',\n",
              "                                 verbose=0)),\n",
              "                  ('num_std_scaler',\n",
              "                   StandardScaler(copy=True, with_mean=True, with_std=True))],\n",
              "           verbose=False), ['FL_NUM', 'DAY_WEEK', 'DAY_OF_MONTH']),\n",
              " ('ord_Weather', Pipeline(memory=None,\n",
              "           steps=[('cat_ord_imp_Weather',\n",
              "                   SimpleImputer(add_indicator=False, copy=True, fill_value=None,\n",
              "                                 missing_values=nan, strategy='most_frequent',\n",
              "                                 verbose=0)),\n",
              "                  ('cat_ord_enc_Weather',\n",
              "                   OrdinalEncoder(categories=[['0', '1']],\n",
              "                                  dtype=<class 'numpy.float64'>))],\n",
              "           verbose=False), ['Weather']),\n",
              " ('cat', Pipeline(memory=None,\n",
              "           steps=[('cat_imputer',\n",
              "                   SimpleImputer(add_indicator=False, copy=True, fill_value=None,\n",
              "                                 missing_values=nan, strategy='most_frequent',\n",
              "                                 verbose=0)),\n",
              "                  ('cat_onehot_encoder',\n",
              "                   OneHotEncoder(categorical_features=None, categories=None,\n",
              "                                 drop=None, dtype=<class 'numpy.float64'>,\n",
              "                                 handle_unknown='error', n_values=None,\n",
              "                                 sparse=True))],\n",
              "           verbose=False), ['CARRIER', 'DEST', 'ORIGIN', 'sched_dep_time']),\n",
              " ('remainder', 'drop', [1])]"
            ]
          },
          "metadata": {
            "tags": []
          },
          "execution_count": 212
        }
      ]
    },
    {
      "cell_type": "code",
      "metadata": {
        "id": "ooRzAycNGo4t",
        "colab_type": "code",
        "outputId": "d48de18f-5312-463b-8c76-d17bbd03a5ae",
        "colab": {
          "base_uri": "https://localhost:8080/",
          "height": 272
        }
      },
      "source": [
        "data_prepared[:5,:]"
      ],
      "execution_count": 0,
      "outputs": [
        {
          "output_type": "execute_result",
          "data": {
            "text/plain": [
              "array([[0.402, 1.592, 0.254, 0.000, 0.000, 0.000, 0.000, 1.000, 0.000,\n",
              "        0.000, 0.000, 0.000, 0.000, 1.000, 0.000, 0.000, 1.000, 0.000,\n",
              "        1.000],\n",
              "       [-1.244, -0.491, -0.204, 0.000, 1.000, 0.000, 0.000, 0.000, 0.000,\n",
              "        0.000, 0.000, 0.000, 1.000, 0.000, 0.000, 0.000, 1.000, 0.000,\n",
              "        1.000],\n",
              "       [0.485, 0.030, 0.713, 0.000, 0.000, 0.000, 0.000, 1.000, 0.000,\n",
              "        0.000, 0.000, 0.000, 0.000, 0.000, 1.000, 0.000, 1.000, 0.000,\n",
              "        1.000],\n",
              "       [-0.851, 0.030, 1.515, 0.000, 0.000, 0.000, 1.000, 0.000, 0.000,\n",
              "        0.000, 0.000, 0.000, 0.000, 0.000, 1.000, 0.000, 1.000, 0.000,\n",
              "        1.000],\n",
              "       [-0.676, -0.491, 0.598, 0.000, 0.000, 0.000, 0.000, 0.000, 0.000,\n",
              "        0.000, 0.000, 1.000, 0.000, 0.000, 1.000, 0.000, 1.000, 0.000,\n",
              "        1.000]])"
            ]
          },
          "metadata": {
            "tags": []
          },
          "execution_count": 213
        }
      ]
    },
    {
      "cell_type": "markdown",
      "metadata": {
        "id": "MidDtLGQG2_Z",
        "colab_type": "text"
      },
      "source": [
        "####Binarize Labels (Target) and Specify Negative and Positive Classes"
      ]
    },
    {
      "cell_type": "code",
      "metadata": {
        "id": "BSEWjy9sHBcw",
        "colab_type": "code",
        "outputId": "ddb8d976-88ba-44ca-8aa0-6eb29871bedc",
        "colab": {
          "base_uri": "https://localhost:8080/",
          "height": 221
        }
      },
      "source": [
        "data_labels"
      ],
      "execution_count": 0,
      "outputs": [
        {
          "output_type": "execute_result",
          "data": {
            "text/plain": [
              "1233    ontime\n",
              "992     ontime\n",
              "1558    ontime\n",
              "2009    ontime\n",
              "1486    ontime\n",
              "         ...  \n",
              "145     ontime\n",
              "941     ontime\n",
              "1754    ontime\n",
              "1297    ontime\n",
              "1081    ontime\n",
              "Name: Target, Length: 1760, dtype: object"
            ]
          },
          "metadata": {
            "tags": []
          },
          "execution_count": 214
        }
      ]
    },
    {
      "cell_type": "code",
      "metadata": {
        "id": "RtIkM1XOGrcq",
        "colab_type": "code",
        "outputId": "aa118754-a931-4b60-8215-ca91728d94bf",
        "colab": {
          "base_uri": "https://localhost:8080/",
          "height": 153
        }
      },
      "source": [
        "from sklearn.preprocessing import label_binarize\n",
        "\n",
        "data_labels_arr = label_binarize(data_labels, classes=['ontime', 'delayed'])\n",
        "data_labels_arr[:8]"
      ],
      "execution_count": 0,
      "outputs": [
        {
          "output_type": "execute_result",
          "data": {
            "text/plain": [
              "array([[0],\n",
              "       [0],\n",
              "       [0],\n",
              "       [0],\n",
              "       [0],\n",
              "       [0],\n",
              "       [1],\n",
              "       [0]])"
            ]
          },
          "metadata": {
            "tags": []
          },
          "execution_count": 215
        }
      ]
    },
    {
      "cell_type": "code",
      "metadata": {
        "id": "zL27qgHlHbz9",
        "colab_type": "code",
        "outputId": "c133a2fd-4419-4c9e-c823-80d73d9bae91",
        "colab": {
          "base_uri": "https://localhost:8080/",
          "height": 153
        }
      },
      "source": [
        "data_labels.head(7)"
      ],
      "execution_count": 0,
      "outputs": [
        {
          "output_type": "execute_result",
          "data": {
            "text/plain": [
              "1233     ontime\n",
              "992      ontime\n",
              "1558     ontime\n",
              "2009     ontime\n",
              "1486     ontime\n",
              "1590     ontime\n",
              "1737    delayed\n",
              "Name: Target, dtype: object"
            ]
          },
          "metadata": {
            "tags": []
          },
          "execution_count": 216
        }
      ]
    },
    {
      "cell_type": "code",
      "metadata": {
        "id": "Rf8OgG2qH9LQ",
        "colab_type": "code",
        "outputId": "4f91d40d-4258-449a-9fa6-0c4952f696ed",
        "colab": {
          "base_uri": "https://localhost:8080/",
          "height": 102
        }
      },
      "source": [
        "test_data_labels_arr = label_binarize(test_data_labels, classes=['ontime', 'delayed'])\n",
        "test_data_labels_arr[:5]"
      ],
      "execution_count": 0,
      "outputs": [
        {
          "output_type": "execute_result",
          "data": {
            "text/plain": [
              "array([[0],\n",
              "       [1],\n",
              "       [0],\n",
              "       [0],\n",
              "       [0]])"
            ]
          },
          "metadata": {
            "tags": []
          },
          "execution_count": 217
        }
      ]
    },
    {
      "cell_type": "code",
      "metadata": {
        "id": "QMLgrWoVII_C",
        "colab_type": "code",
        "outputId": "efb25701-1d50-4d08-ae49-26fd5e9a792a",
        "colab": {
          "base_uri": "https://localhost:8080/",
          "height": 119
        }
      },
      "source": [
        "test_data_labels.head()"
      ],
      "execution_count": 0,
      "outputs": [
        {
          "output_type": "execute_result",
          "data": {
            "text/plain": [
              "1768     ontime\n",
              "1867    delayed\n",
              "456      ontime\n",
              "1657     ontime\n",
              "1530     ontime\n",
              "Name: Target, dtype: object"
            ]
          },
          "metadata": {
            "tags": []
          },
          "execution_count": 218
        }
      ]
    },
    {
      "cell_type": "markdown",
      "metadata": {
        "id": "dGUxB9OpIbu-",
        "colab_type": "text"
      },
      "source": [
        " we can assemble all the transformers together."
      ]
    },
    {
      "cell_type": "code",
      "metadata": {
        "id": "XOfQApg5IO1q",
        "colab_type": "code",
        "outputId": "ee44016a-5308-43bc-f28b-f80db6ed5976",
        "colab": {
          "base_uri": "https://localhost:8080/",
          "height": 221
        }
      },
      "source": [
        "from sklearn.pipeline import Pipeline\n",
        "from sklearn.impute import SimpleImputer\n",
        "from sklearn.preprocessing import StandardScaler\n",
        "from sklearn.preprocessing import OrdinalEncoder\n",
        "from sklearn.preprocessing import OneHotEncoder\n",
        "from sklearn.compose import ColumnTransformer\n",
        "\n",
        "\n",
        "\n",
        "num_pipe_scaled = Pipeline([\n",
        "    ('num_imputer', SimpleImputer(strategy=\"median\")), # missing value strategy is based on median values.\n",
        "    ('num_std_scaler', StandardScaler()),\n",
        "])\n",
        "\n",
        "num_pipe_notscaled = Pipeline([\n",
        "    ('num_imputer', SimpleImputer(strategy=\"median\")), # missing value strategy is based on median values.\n",
        "])\n",
        "\n",
        "ord_pipe_Weather = Pipeline([\n",
        "    ('cat_ord_imp_Weather', SimpleImputer(strategy=\"most_frequent\")),\n",
        "    ('cat_ord_enc_Weather', OrdinalEncoder(categories=[['0', '1']]))\n",
        "])\n",
        "\n",
        "cat_pipe = Pipeline([\n",
        "    ('cat_imputer', SimpleImputer(strategy=\"most_frequent\")),\n",
        "    ('cat_onehot_encoder', OneHotEncoder())\n",
        "    ])\n",
        "\n",
        "prep_pipe_scaled = ColumnTransformer([\n",
        "    (\"num_scaling\", num_pipe_scaled, num_attribs), # numerical attributes with scaling\n",
        "    (\"ord_Weather\", ord_pipe_Weather, ord_attrib_Weather),\n",
        "    (\"cat\", cat_pipe, cat_attribs),\n",
        "])\n",
        "\n",
        "prep_pipe_notscaled = ColumnTransformer([\n",
        "    (\"num_noscaling\", num_pipe_notscaled, num_attribs), # numerical attributes without scaling\n",
        "    (\"ord_Weather\", ord_pipe_Weather, ord_attrib_Weather),\n",
        "    (\"cat\", cat_pipe, cat_attribs),\n",
        "])\n",
        "\n",
        "data_prepared = prep_pipe_scaled.fit_transform(data)\n",
        "\n",
        "data_prepared[:4, :]"
      ],
      "execution_count": 0,
      "outputs": [
        {
          "output_type": "execute_result",
          "data": {
            "text/plain": [
              "array([[0.402, 1.592, 0.254, 0.000, 0.000, 0.000, 0.000, 1.000, 0.000,\n",
              "        0.000, 0.000, 0.000, 0.000, 1.000, 0.000, 0.000, 1.000, 0.000,\n",
              "        1.000],\n",
              "       [-1.244, -0.491, -0.204, 0.000, 1.000, 0.000, 0.000, 0.000, 0.000,\n",
              "        0.000, 0.000, 0.000, 1.000, 0.000, 0.000, 0.000, 1.000, 0.000,\n",
              "        1.000],\n",
              "       [0.485, 0.030, 0.713, 0.000, 0.000, 0.000, 0.000, 1.000, 0.000,\n",
              "        0.000, 0.000, 0.000, 0.000, 0.000, 1.000, 0.000, 1.000, 0.000,\n",
              "        1.000],\n",
              "       [-0.851, 0.030, 1.515, 0.000, 0.000, 0.000, 1.000, 0.000, 0.000,\n",
              "        0.000, 0.000, 0.000, 0.000, 0.000, 1.000, 0.000, 1.000, 0.000,\n",
              "        1.000]])"
            ]
          },
          "metadata": {
            "tags": []
          },
          "execution_count": 219
        }
      ]
    },
    {
      "cell_type": "markdown",
      "metadata": {
        "id": "42uG96XBKKl2",
        "colab_type": "text"
      },
      "source": [
        "#Question 5 \n",
        "\n",
        "####Model Training and Validation\n",
        "\n",
        "Select any two classification algorithms listed in Q6 below and demonstrate how to find\n",
        "the “best” hyperparameters for each of these two models with grid search using 5-fold cross-validation\n",
        "experimenting with 1-2 parameters in each case.  "
      ]
    },
    {
      "cell_type": "markdown",
      "metadata": {
        "id": "ihjKBJmhQQUV",
        "colab_type": "text"
      },
      "source": [
        "###Model Selection along with Grid Search with Cross-Validation\n",
        "\n",
        "- Here, we will select among **Random Forest classifier** and **Gradient Boosting classifier** and **tune the best algorithm** in a single step."
      ]
    },
    {
      "cell_type": "code",
      "metadata": {
        "id": "XCi4UVhgKSoj",
        "colab_type": "code",
        "colab": {}
      },
      "source": [
        "from sklearn.ensemble import RandomForestClassifier\n",
        "from sklearn.ensemble import GradientBoostingClassifier\n",
        "\n",
        "# start with the Random Forest Classifier pipeline but we will modify this later with the parameter grid\n",
        "pipe = Pipeline([\n",
        "        (\"preprocessor\", prep_pipe_scaled),\n",
        "        (\"classifier\", RandomForestClassifier())\n",
        "    ])\n",
        "\n",
        "\n",
        "param_grid = [\n",
        "    {'preprocessor': [prep_pipe_scaled, prep_pipe_notscaled], # check whether it is better to scale or not\n",
        "     'classifier': [RandomForestClassifier()],\n",
        "     'classifier__max_features': ['sqrt', 'log2'],\n",
        "     'classifier__n_estimators': [100, 200, 500],\n",
        "     'classifier__max_depth': [3, 5, None],\n",
        "    },\n",
        "    {'preprocessor': [prep_pipe_scaled, prep_pipe_notscaled], # check whether it is better to scale or not\n",
        "     'classifier': [GradientBoostingClassifier()],\n",
        "     'classifier__n_estimators': [100, 200, 300],\n",
        "     'classifier__max_depth': [3, 5, 10],\n",
        "    }]"
      ],
      "execution_count": 0,
      "outputs": []
    },
    {
      "cell_type": "code",
      "metadata": {
        "id": "5lQId9oeP_4V",
        "colab_type": "code",
        "outputId": "b07cd48b-a00a-4f0e-ba5e-41827620e295",
        "colab": {
          "base_uri": "https://localhost:8080/",
          "height": 153
        }
      },
      "source": [
        "from sklearn.model_selection import GridSearchCV\n",
        "\n",
        "grid = GridSearchCV(estimator=pipe, param_grid=param_grid, cv=5,\n",
        "                    scoring='accuracy',\n",
        "                    iid=False, n_jobs=-1, verbose=1)\n",
        "\n",
        "%time grid.fit(data, data_labels)\n",
        "print(\"Best cross-validation score: {:.2f}\".format(grid.best_score_))"
      ],
      "execution_count": 0,
      "outputs": [
        {
          "output_type": "stream",
          "text": [
            "Fitting 5 folds for each of 54 candidates, totalling 270 fits\n"
          ],
          "name": "stdout"
        },
        {
          "output_type": "stream",
          "text": [
            "[Parallel(n_jobs=-1)]: Using backend LokyBackend with 2 concurrent workers.\n",
            "[Parallel(n_jobs=-1)]: Done  46 tasks      | elapsed:   21.5s\n",
            "[Parallel(n_jobs=-1)]: Done 196 tasks      | elapsed:  1.7min\n",
            "[Parallel(n_jobs=-1)]: Done 270 out of 270 | elapsed:  3.1min finished\n"
          ],
          "name": "stderr"
        },
        {
          "output_type": "stream",
          "text": [
            "CPU times: user 4.46 s, sys: 121 ms, total: 4.58 s\n",
            "Wall time: 3min 9s\n",
            "Best cross-validation score: 0.82\n"
          ],
          "name": "stdout"
        }
      ]
    },
    {
      "cell_type": "code",
      "metadata": {
        "id": "5vVJNzM1Vhfb",
        "colab_type": "code",
        "outputId": "3998b212-6b74-466e-e901-8f2c68e6b11f",
        "colab": {
          "base_uri": "https://localhost:8080/",
          "height": 850
        }
      },
      "source": [
        "print(\"\\n\".join(\"{}:{}\\n\".format(k, v) for k, v in grid.best_params_.items()))"
      ],
      "execution_count": 0,
      "outputs": [
        {
          "output_type": "stream",
          "text": [
            "classifier:GradientBoostingClassifier(criterion='friedman_mse', init=None,\n",
            "                           learning_rate=0.1, loss='deviance', max_depth=3,\n",
            "                           max_features=None, max_leaf_nodes=None,\n",
            "                           min_impurity_decrease=0.0, min_impurity_split=None,\n",
            "                           min_samples_leaf=1, min_samples_split=2,\n",
            "                           min_weight_fraction_leaf=0.0, n_estimators=300,\n",
            "                           n_iter_no_change=None, presort='auto',\n",
            "                           random_state=None, subsample=1.0, tol=0.0001,\n",
            "                           validation_fraction=0.1, verbose=0,\n",
            "                           warm_start=False)\n",
            "\n",
            "classifier__max_depth:3\n",
            "\n",
            "classifier__n_estimators:300\n",
            "\n",
            "preprocessor:ColumnTransformer(n_jobs=None, remainder='drop', sparse_threshold=0.3,\n",
            "                  transformer_weights=None,\n",
            "                  transformers=[('num_noscaling',\n",
            "                                 Pipeline(memory=None,\n",
            "                                          steps=[('num_imputer',\n",
            "                                                  SimpleImputer(add_indicator=False,\n",
            "                                                                copy=True,\n",
            "                                                                fill_value=None,\n",
            "                                                                missing_values=nan,\n",
            "                                                                strategy='median',\n",
            "                                                                verbose=0))],\n",
            "                                          verbose=False),\n",
            "                                 ['FL_NUM', 'DAY_WEEK', 'DAY_OF_MONTH']),\n",
            "                                ('ord_Weather',\n",
            "                                 Pipel...\n",
            "                                                  SimpleImputer(add_indicator=False,\n",
            "                                                                copy=True,\n",
            "                                                                fill_value=None,\n",
            "                                                                missing_values=nan,\n",
            "                                                                strategy='most_frequent',\n",
            "                                                                verbose=0)),\n",
            "                                                 ('cat_onehot_encoder',\n",
            "                                                  OneHotEncoder(categorical_features=None,\n",
            "                                                                categories=None,\n",
            "                                                                drop=None,\n",
            "                                                                dtype=<class 'numpy.float64'>,\n",
            "                                                                handle_unknown='error',\n",
            "                                                                n_values=None,\n",
            "                                                                sparse=True))],\n",
            "                                          verbose=False),\n",
            "                                 ['CARRIER', 'DEST', 'ORIGIN',\n",
            "                                  'sched_dep_time'])],\n",
            "                  verbose=False)\n",
            "\n"
          ],
          "name": "stdout"
        }
      ]
    },
    {
      "cell_type": "code",
      "metadata": {
        "id": "UfiEq4kmWBiF",
        "colab_type": "code",
        "outputId": "4021fb26-7b1b-412e-ff80-487074ca6847",
        "colab": {
          "base_uri": "https://localhost:8080/",
          "height": 833
        }
      },
      "source": [
        "# extract the best estimator found\n",
        "print(\"Best estimator::\")\n",
        "print(\"\\n\".join(\"{}:\\n{}\\n\".format(k, v) for k, v in grid.best_estimator_.steps))"
      ],
      "execution_count": 0,
      "outputs": [
        {
          "output_type": "stream",
          "text": [
            "Best estimator::\n",
            "preprocessor:\n",
            "ColumnTransformer(n_jobs=None, remainder='drop', sparse_threshold=0.3,\n",
            "                  transformer_weights=None,\n",
            "                  transformers=[('num_noscaling',\n",
            "                                 Pipeline(memory=None,\n",
            "                                          steps=[('num_imputer',\n",
            "                                                  SimpleImputer(add_indicator=False,\n",
            "                                                                copy=True,\n",
            "                                                                fill_value=None,\n",
            "                                                                missing_values=nan,\n",
            "                                                                strategy='median',\n",
            "                                                                verbose=0))],\n",
            "                                          verbose=False),\n",
            "                                 ['FL_NUM', 'DAY_WEEK', 'DAY_OF_MONTH']),\n",
            "                                ('ord_Weather',\n",
            "                                 Pipel...\n",
            "                                                  SimpleImputer(add_indicator=False,\n",
            "                                                                copy=True,\n",
            "                                                                fill_value=None,\n",
            "                                                                missing_values=nan,\n",
            "                                                                strategy='most_frequent',\n",
            "                                                                verbose=0)),\n",
            "                                                 ('cat_onehot_encoder',\n",
            "                                                  OneHotEncoder(categorical_features=None,\n",
            "                                                                categories=None,\n",
            "                                                                drop=None,\n",
            "                                                                dtype=<class 'numpy.float64'>,\n",
            "                                                                handle_unknown='error',\n",
            "                                                                n_values=None,\n",
            "                                                                sparse=True))],\n",
            "                                          verbose=False),\n",
            "                                 ['CARRIER', 'DEST', 'ORIGIN',\n",
            "                                  'sched_dep_time'])],\n",
            "                  verbose=False)\n",
            "\n",
            "classifier:\n",
            "GradientBoostingClassifier(criterion='friedman_mse', init=None,\n",
            "                           learning_rate=0.1, loss='deviance', max_depth=3,\n",
            "                           max_features=None, max_leaf_nodes=None,\n",
            "                           min_impurity_decrease=0.0, min_impurity_split=None,\n",
            "                           min_samples_leaf=1, min_samples_split=2,\n",
            "                           min_weight_fraction_leaf=0.0, n_estimators=300,\n",
            "                           n_iter_no_change=None, presort='auto',\n",
            "                           random_state=None, subsample=1.0, tol=0.0001,\n",
            "                           validation_fraction=0.1, verbose=0,\n",
            "                           warm_start=False)\n",
            "\n"
          ],
          "name": "stdout"
        }
      ]
    },
    {
      "cell_type": "code",
      "metadata": {
        "id": "gLp9W8bmWD5E",
        "colab_type": "code",
        "outputId": "1d11dc40-c0dc-43ab-d009-dcbaa859a36b",
        "colab": {
          "base_uri": "https://localhost:8080/",
          "height": 459
        }
      },
      "source": [
        "grid.best_estimator_.named_steps['preprocessor'].transformers"
      ],
      "execution_count": 0,
      "outputs": [
        {
          "output_type": "execute_result",
          "data": {
            "text/plain": [
              "[('num_noscaling', Pipeline(memory=None,\n",
              "           steps=[('num_imputer',\n",
              "                   SimpleImputer(add_indicator=False, copy=True, fill_value=None,\n",
              "                                 missing_values=nan, strategy='median',\n",
              "                                 verbose=0))],\n",
              "           verbose=False), ['FL_NUM', 'DAY_WEEK', 'DAY_OF_MONTH']),\n",
              " ('ord_Weather', Pipeline(memory=None,\n",
              "           steps=[('cat_ord_imp_Weather',\n",
              "                   SimpleImputer(add_indicator=False, copy=True, fill_value=None,\n",
              "                                 missing_values=nan, strategy='most_frequent',\n",
              "                                 verbose=0)),\n",
              "                  ('cat_ord_enc_Weather',\n",
              "                   OrdinalEncoder(categories=[['0', '1']],\n",
              "                                  dtype=<class 'numpy.float64'>))],\n",
              "           verbose=False), ['Weather']),\n",
              " ('cat', Pipeline(memory=None,\n",
              "           steps=[('cat_imputer',\n",
              "                   SimpleImputer(add_indicator=False, copy=True, fill_value=None,\n",
              "                                 missing_values=nan, strategy='most_frequent',\n",
              "                                 verbose=0)),\n",
              "                  ('cat_onehot_encoder',\n",
              "                   OneHotEncoder(categorical_features=None, categories=None,\n",
              "                                 drop=None, dtype=<class 'numpy.float64'>,\n",
              "                                 handle_unknown='error', n_values=None,\n",
              "                                 sparse=True))],\n",
              "           verbose=False), ['CARRIER', 'DEST', 'ORIGIN', 'sched_dep_time'])]"
            ]
          },
          "metadata": {
            "tags": []
          },
          "execution_count": 224
        }
      ]
    },
    {
      "cell_type": "code",
      "metadata": {
        "id": "pNd1EUyfWGd4",
        "colab_type": "code",
        "outputId": "ba970148-8664-475f-8917-534d33cbbc48",
        "colab": {
          "base_uri": "https://localhost:8080/",
          "height": 187
        }
      },
      "source": [
        "grid.best_estimator_.named_steps['classifier']"
      ],
      "execution_count": 0,
      "outputs": [
        {
          "output_type": "execute_result",
          "data": {
            "text/plain": [
              "GradientBoostingClassifier(criterion='friedman_mse', init=None,\n",
              "                           learning_rate=0.1, loss='deviance', max_depth=3,\n",
              "                           max_features=None, max_leaf_nodes=None,\n",
              "                           min_impurity_decrease=0.0, min_impurity_split=None,\n",
              "                           min_samples_leaf=1, min_samples_split=2,\n",
              "                           min_weight_fraction_leaf=0.0, n_estimators=300,\n",
              "                           n_iter_no_change=None, presort='auto',\n",
              "                           random_state=None, subsample=1.0, tol=0.0001,\n",
              "                           validation_fraction=0.1, verbose=0,\n",
              "                           warm_start=False)"
            ]
          },
          "metadata": {
            "tags": []
          },
          "execution_count": 225
        }
      ]
    },
    {
      "cell_type": "markdown",
      "metadata": {
        "id": "ZgMvuhzdXJ68",
        "colab_type": "text"
      },
      "source": [
        "Observation:\n",
        "Best estimator is GradientBoostingClassifier with hyper parameters defined above."
      ]
    },
    {
      "cell_type": "markdown",
      "metadata": {
        "id": "-QnW6CzgYDq1",
        "colab_type": "text"
      },
      "source": [
        "#Question 6\n",
        "\n",
        " Run a 5-fold cross-validation using the following algorithms. For the two algorithms used\n",
        "in Q5, use the “best” hyperparameter configuration obtained. You can specify any other model\n",
        "parameters appropriately.\n",
        "A. Logistic Regression\n",
        "B. Decision Tree\n",
        "C. Support Vector Machine\n",
        "D. Random Forest (ensemble of decision trees)\n",
        "E. Ensemble (be creative on what kind of ensemble would you use)"
      ]
    },
    {
      "cell_type": "markdown",
      "metadata": {
        "id": "Nk20MJc9dqa0",
        "colab_type": "text"
      },
      "source": [
        "### 1. Decision Tree Classifier"
      ]
    },
    {
      "cell_type": "code",
      "metadata": {
        "id": "iil9XZZOWIUM",
        "colab_type": "code",
        "outputId": "cb4b0330-1f3b-480b-d110-6d7e711f5163",
        "colab": {
          "base_uri": "https://localhost:8080/",
          "height": 119
        }
      },
      "source": [
        "from sklearn.tree import DecisionTreeClassifier\n",
        "\n",
        "\n",
        "tree_pipe = Pipeline([\n",
        "    (\"prep\", prep_pipe_notscaled),\n",
        "    (\"tree\", DecisionTreeClassifier(max_depth = 5)),\n",
        "])\n",
        "\n",
        "scoring = {'accuracy': 'accuracy', 'precision': 'precision', 'recall': 'recall', 'f1_score': 'f1', 'roc_auc': 'roc_auc'}\n",
        "\n",
        "from sklearn.model_selection import cross_validate\n",
        "\n",
        "scores = cross_validate(estimator=tree_pipe, \n",
        "                        X=data, y=data_labels_arr, \n",
        "                        cv=5, n_jobs=-1,\n",
        "                        scoring=scoring)\n",
        "\n",
        "#print(\"\\n\".join(\"{}:\\n{}\\n\".format(k, v) for k, v in scores.items()))\n",
        "\n",
        "print(\"Number of cv iterations: {0}\".format(len(scores['test_accuracy'])))\n",
        "print('Accuracy from 5-fold Cross-validation: {0:.3f} ± {1:.3f}'.format(scores['test_accuracy'].mean(), stats.sem(scores['test_accuracy'])))\n",
        "print('Precision from 5-fold Cross-validation: {0:.3f} ± {1:.3f}'.format(scores['test_precision'].mean(), stats.sem(scores['test_precision'])))\n",
        "print('Recall from 5-fold Cross-validation: {0:.3f} ± {1:.3f}'.format(scores['test_recall'].mean(), stats.sem(scores['test_recall'])))\n",
        "print('F1 Score from 5-fold Cross-validation: {0:.3f} ± {1:.3f}'.format(scores['test_f1_score'].mean(), stats.sem(scores['test_f1_score'])))\n",
        "print('AUC Score from 5-fold Cross-validation: {0:.3f} ± {1:.3f}'.format(scores['test_roc_auc'].mean(), stats.sem(scores['test_roc_auc'])))\n"
      ],
      "execution_count": 0,
      "outputs": [
        {
          "output_type": "stream",
          "text": [
            "Number of cv iterations: 5\n",
            "Accuracy from 5-fold Cross-validation: 0.815 ± 0.006\n",
            "Precision from 5-fold Cross-validation: 0.696 ± 0.103\n",
            "Recall from 5-fold Cross-validation: 0.102 ± 0.018\n",
            "F1 Score from 5-fold Cross-validation: 0.175 ± 0.029\n",
            "AUC Score from 5-fold Cross-validation: 0.675 ± 0.022\n"
          ],
          "name": "stdout"
        }
      ]
    },
    {
      "cell_type": "code",
      "metadata": {
        "id": "j1NH7hnaaiPz",
        "colab_type": "code",
        "colab": {}
      },
      "source": [
        "from sklearn.model_selection import cross_val_predict\n",
        "from sklearn.metrics import confusion_matrix\n",
        "y_pred = cross_val_predict(clf, x, y, cv=10)\n",
        "conf_mat = confusion_matrix(y, y_pred)"
      ],
      "execution_count": 0,
      "outputs": []
    },
    {
      "cell_type": "markdown",
      "metadata": {
        "id": "TP3Q42o4d10P",
        "colab_type": "text"
      },
      "source": [
        "### 2. Logistic Regression Classifier"
      ]
    },
    {
      "cell_type": "code",
      "metadata": {
        "id": "ydOAXNvMdv8N",
        "colab_type": "code",
        "outputId": "ac69aa47-74b7-462a-e865-13928494c9cb",
        "colab": {
          "base_uri": "https://localhost:8080/",
          "height": 119
        }
      },
      "source": [
        "from sklearn.linear_model import LogisticRegression\n",
        "\n",
        "logreg_pipe = Pipeline([\n",
        "    (\"prep\", prep_pipe_scaled),\n",
        "    (\"logreg\", LogisticRegression(solver='liblinear', C=10)),\n",
        "])\n",
        "\n",
        "scoring = {'accuracy': 'accuracy', 'precision': 'precision', 'recall': 'recall', 'f1_score': 'f1', 'roc_auc': 'roc_auc'}\n",
        "\n",
        "from sklearn.model_selection import cross_validate\n",
        "scores = cross_validate(estimator=logreg_pipe, \n",
        "                        X=data, y=data_labels_arr, \n",
        "                        cv=5, n_jobs=-1,\n",
        "                        scoring=scoring)\n",
        "\n",
        "# uncomment to see all scores\n",
        "#print(\"\\n\".join(\"{}:\\n{}\\n\".format(k, v) for k, v in scores.items()))\n",
        "\n",
        "print(\"Number of cv iterations: {0}\".format(len(scores['test_accuracy'])))\n",
        "print('Accuracy from 5-fold Cross-validation: {0:.3f} ± {1:.3f}'.format(scores['test_accuracy'].mean(), stats.sem(scores['test_accuracy'])))\n",
        "print('Precision from 5-fold Cross-validation: {0:.3f} ± {1:.3f}'.format(scores['test_precision'].mean(), stats.sem(scores['test_precision'])))\n",
        "print('Recall from 5-fold Cross-validation: {0:.3f} ± {1:.3f}'.format(scores['test_recall'].mean(), stats.sem(scores['test_recall'])))\n",
        "print('F1 Score from 5-fold Cross-validation: {0:.3f} ± {1:.3f}'.format(scores['test_f1_score'].mean(), stats.sem(scores['test_f1_score'])))\n",
        "print('AUC Score from 5-fold Cross-validation: {0:.3f} ± {1:.3f}'.format(scores['test_roc_auc'].mean(), stats.sem(scores['test_roc_auc'])))\n"
      ],
      "execution_count": 0,
      "outputs": [
        {
          "output_type": "stream",
          "text": [
            "Number of cv iterations: 5\n",
            "Accuracy from 5-fold Cross-validation: 0.818 ± 0.003\n",
            "Precision from 5-fold Cross-validation: 1.000 ± 0.000\n",
            "Recall from 5-fold Cross-validation: 0.064 ± 0.014\n",
            "F1 Score from 5-fold Cross-validation: 0.120 ± 0.024\n",
            "AUC Score from 5-fold Cross-validation: 0.649 ± 0.021\n"
          ],
          "name": "stdout"
        }
      ]
    },
    {
      "cell_type": "markdown",
      "metadata": {
        "id": "SV9Z_zSdelP6",
        "colab_type": "text"
      },
      "source": [
        "### 3. Kernelized Support Vector Machine (SVM) Classifier"
      ]
    },
    {
      "cell_type": "code",
      "metadata": {
        "id": "EdQ3O8B8ehvB",
        "colab_type": "code",
        "outputId": "782d4cee-4467-47b5-c074-7845dd539c94",
        "colab": {
          "base_uri": "https://localhost:8080/",
          "height": 119
        }
      },
      "source": [
        "from sklearn.svm import SVC\n",
        "\n",
        "svm_pipe = Pipeline([\n",
        "    (\"prep\", prep_pipe_scaled),\n",
        "    (\"svm\", SVC(kernel='rbf', gamma='auto')),\n",
        "])\n",
        "\n",
        "scoring = {'accuracy': 'accuracy', 'precision': 'precision', 'recall': 'recall', 'f1_score': 'f1', 'roc_auc': 'roc_auc'}\n",
        "\n",
        "from sklearn.model_selection import cross_validate\n",
        "scores = cross_validate(estimator=svm_pipe, \n",
        "                        X=data, y=data_labels_arr, \n",
        "                        cv=5, n_jobs=-1,\n",
        "                        scoring=scoring)\n",
        "\n",
        "# uncomment to see all scores\n",
        "#print(\"\\n\".join(\"{}:\\n{}\\n\".format(k, v) for k, v in scores.items()))\n",
        "\n",
        "print(\"Number of cv iterations: {0}\".format(len(scores['test_accuracy'])))\n",
        "print('Accuracy from 5-fold Cross-validation: {0:.3f} ± {1:.3f}'.format(scores['test_accuracy'].mean(), stats.sem(scores['test_accuracy'])))\n",
        "print('Precision from 5-fold Cross-validation: {0:.3f} ± {1:.3f}'.format(scores['test_precision'].mean(), stats.sem(scores['test_precision'])))\n",
        "print('Recall from 5-fold Cross-validation: {0:.3f} ± {1:.3f}'.format(scores['test_recall'].mean(), stats.sem(scores['test_recall'])))\n",
        "print('F1 Score from 5-fold Cross-validation: {0:.3f} ± {1:.3f}'.format(scores['test_f1_score'].mean(), stats.sem(scores['test_f1_score'])))\n",
        "print('AUC Score from 5-fold Cross-validation: {0:.3f} ± {1:.3f}'.format(scores['test_roc_auc'].mean(), stats.sem(scores['test_roc_auc'])))\n"
      ],
      "execution_count": 0,
      "outputs": [
        {
          "output_type": "stream",
          "text": [
            "Number of cv iterations: 5\n",
            "Accuracy from 5-fold Cross-validation: 0.817 ± 0.002\n",
            "Precision from 5-fold Cross-validation: 1.000 ± 0.000\n",
            "Recall from 5-fold Cross-validation: 0.059 ± 0.010\n",
            "F1 Score from 5-fold Cross-validation: 0.110 ± 0.019\n",
            "AUC Score from 5-fold Cross-validation: 0.669 ± 0.021\n"
          ],
          "name": "stdout"
        }
      ]
    },
    {
      "cell_type": "markdown",
      "metadata": {
        "id": "uAZG_iRmfCq-",
        "colab_type": "text"
      },
      "source": [
        "### 4. Random Forest Classifier"
      ]
    },
    {
      "cell_type": "code",
      "metadata": {
        "id": "IGtdHxQ0e5v7",
        "colab_type": "code",
        "outputId": "837ec8eb-34c2-479a-fd14-32f23a19c54e",
        "colab": {
          "base_uri": "https://localhost:8080/",
          "height": 119
        }
      },
      "source": [
        "from sklearn.ensemble import RandomForestClassifier\n",
        "\n",
        "rf_pipe = Pipeline([\n",
        "    (\"prep\", prep_pipe_notscaled),\n",
        "    (\"rf\", RandomForestClassifier(n_estimators=200)),\n",
        "])\n",
        "\n",
        "scoring = {'accuracy': 'accuracy', 'precision': 'precision', 'recall': 'recall', 'f1_score': 'f1', 'roc_auc': 'roc_auc'}\n",
        "\n",
        "from sklearn.model_selection import cross_validate\n",
        "scores = cross_validate(estimator=rf_pipe, \n",
        "                        X=data, y=data_labels_arr, \n",
        "                        cv=5, n_jobs=-1,\n",
        "                        scoring=scoring)\n",
        "\n",
        "# uncomment to see all scores\n",
        "#print(\"\\n\".join(\"{}:\\n{}\\n\".format(k, v) for k, v in scores.items()))\n",
        "\n",
        "print(\"Number of cv iterations: {0}\".format(len(scores['test_accuracy'])))\n",
        "print('Accuracy from 5-fold Cross-validation: {0:.3f} ± {1:.3f}'.format(scores['test_accuracy'].mean(), stats.sem(scores['test_accuracy'])))\n",
        "print('Precision from 5-fold Cross-validation: {0:.3f} ± {1:.3f}'.format(scores['test_precision'].mean(), stats.sem(scores['test_precision'])))\n",
        "print('Recall from 5-fold Cross-validation: {0:.3f} ± {1:.3f}'.format(scores['test_recall'].mean(), stats.sem(scores['test_recall'])))\n",
        "print('F1 Score from 5-fold Cross-validation: {0:.3f} ± {1:.3f}'.format(scores['test_f1_score'].mean(), stats.sem(scores['test_f1_score'])))\n",
        "print('AUC Score from 5-fold Cross-validation: {0:.3f} ± {1:.3f}'.format(scores['test_roc_auc'].mean(), stats.sem(scores['test_roc_auc'])))\n"
      ],
      "execution_count": 0,
      "outputs": [
        {
          "output_type": "stream",
          "text": [
            "Number of cv iterations: 5\n",
            "Accuracy from 5-fold Cross-validation: 0.803 ± 0.003\n",
            "Precision from 5-fold Cross-validation: 0.490 ± 0.013\n",
            "Recall from 5-fold Cross-validation: 0.286 ± 0.012\n",
            "F1 Score from 5-fold Cross-validation: 0.361 ± 0.012\n",
            "AUC Score from 5-fold Cross-validation: 0.718 ± 0.015\n"
          ],
          "name": "stdout"
        }
      ]
    },
    {
      "cell_type": "markdown",
      "metadata": {
        "id": "KF_Kz5p2f5EY",
        "colab_type": "text"
      },
      "source": [
        "### 5. Gradient Boosting Classifier"
      ]
    },
    {
      "cell_type": "code",
      "metadata": {
        "id": "oNZPqv78fSOF",
        "colab_type": "code",
        "outputId": "ff7f36e9-c307-4e57-eec8-8002ca71d97a",
        "colab": {
          "base_uri": "https://localhost:8080/",
          "height": 119
        }
      },
      "source": [
        "from sklearn.ensemble import GradientBoostingClassifier\n",
        "\n",
        "gbc_pipe = Pipeline([\n",
        "    (\"prep\", prep_pipe_notscaled),\n",
        "    (\"gbc\", GradientBoostingClassifier(n_estimators=200, max_depth=3)),\n",
        "])\n",
        "\n",
        "scoring = {'accuracy': 'accuracy', 'precision': 'precision', 'recall': 'recall', 'f1_score': 'f1', 'roc_auc': 'roc_auc'}\n",
        "\n",
        "from sklearn.model_selection import cross_validate\n",
        "scores = cross_validate(estimator=gbc_pipe, \n",
        "                        X=data, y=data_labels_arr, \n",
        "                        cv=5, n_jobs=-1,\n",
        "                        scoring=scoring)\n",
        "\n",
        "# uncomment to see all scores\n",
        "#print(\"\\n\".join(\"{}:\\n{}\\n\".format(k, v) for k, v in scores.items()))\n",
        "\n",
        "print(\"Number of cv iterations: {0}\".format(len(scores['test_accuracy'])))\n",
        "print('Accuracy from 10-fold Cross-validation: {0:.3f} ± {1:.3f}'.format(scores['test_accuracy'].mean(), stats.sem(scores['test_accuracy'])))\n",
        "print('Precision from 10-fold Cross-validation: {0:.3f} ± {1:.3f}'.format(scores['test_precision'].mean(), stats.sem(scores['test_precision'])))\n",
        "print('Recall from 10-fold Cross-validation: {0:.3f} ± {1:.3f}'.format(scores['test_recall'].mean(), stats.sem(scores['test_recall'])))\n",
        "print('F1 Score from 10-fold Cross-validation: {0:.3f} ± {1:.3f}'.format(scores['test_f1_score'].mean(), stats.sem(scores['test_f1_score'])))\n",
        "print('AUC Score from 10-fold Cross-validation: {0:.3f} ± {1:.3f}'.format(scores['test_roc_auc'].mean(), stats.sem(scores['test_roc_auc'])))\n"
      ],
      "execution_count": 0,
      "outputs": [
        {
          "output_type": "stream",
          "text": [
            "Number of cv iterations: 5\n",
            "Accuracy from 10-fold Cross-validation: 0.821 ± 0.009\n",
            "Precision from 10-fold Cross-validation: 0.587 ± 0.044\n",
            "Recall from 10-fold Cross-validation: 0.281 ± 0.031\n",
            "F1 Score from 10-fold Cross-validation: 0.377 ± 0.034\n",
            "AUC Score from 10-fold Cross-validation: 0.756 ± 0.009\n"
          ],
          "name": "stdout"
        }
      ]
    },
    {
      "cell_type": "markdown",
      "metadata": {
        "id": "eA5PWW89hPsn",
        "colab_type": "text"
      },
      "source": [
        "\n",
        "### Observation:\n",
        "- Based on the model evaluation with 5-fold cross-validation, we see that Gradient Boosting Classifier performs the best. \n",
        "- We can now apply this selected model on the test data before model deployment."
      ]
    },
    {
      "cell_type": "markdown",
      "metadata": {
        "id": "LjpFhVPKhjcZ",
        "colab_type": "text"
      },
      "source": [
        "#QUESTION 7\n",
        "\n",
        "Run the “best model” found on the test partition, validating it one more time prior to\n",
        "model deployment. Comment on the results."
      ]
    },
    {
      "cell_type": "markdown",
      "metadata": {
        "id": "JA0s3yYoh_5F",
        "colab_type": "text"
      },
      "source": [
        "## Test the Best Model with the Test Data (Holdout Data)"
      ]
    },
    {
      "cell_type": "code",
      "metadata": {
        "id": "r280s2LFi3H6",
        "colab_type": "code",
        "outputId": "f7199fe4-e232-4698-ac7c-b96e7f3c845b",
        "colab": {
          "base_uri": "https://localhost:8080/",
          "height": 765
        }
      },
      "source": [
        "gbc_pipe.steps"
      ],
      "execution_count": 0,
      "outputs": [
        {
          "output_type": "execute_result",
          "data": {
            "text/plain": [
              "[('prep',\n",
              "  ColumnTransformer(n_jobs=None, remainder='drop', sparse_threshold=0.3,\n",
              "                    transformer_weights=None,\n",
              "                    transformers=[('num_noscaling',\n",
              "                                   Pipeline(memory=None,\n",
              "                                            steps=[('num_imputer',\n",
              "                                                    SimpleImputer(add_indicator=False,\n",
              "                                                                  copy=True,\n",
              "                                                                  fill_value=None,\n",
              "                                                                  missing_values=nan,\n",
              "                                                                  strategy='median',\n",
              "                                                                  verbose=0))],\n",
              "                                            verbose=False),\n",
              "                                   ['FL_NUM', 'DAY_WEEK', 'DAY_OF_MONTH']),\n",
              "                                  ('ord_Weather',\n",
              "                                   Pipel...\n",
              "                                                    SimpleImputer(add_indicator=False,\n",
              "                                                                  copy=True,\n",
              "                                                                  fill_value=None,\n",
              "                                                                  missing_values=nan,\n",
              "                                                                  strategy='most_frequent',\n",
              "                                                                  verbose=0)),\n",
              "                                                   ('cat_onehot_encoder',\n",
              "                                                    OneHotEncoder(categorical_features=None,\n",
              "                                                                  categories=None,\n",
              "                                                                  drop=None,\n",
              "                                                                  dtype=<class 'numpy.float64'>,\n",
              "                                                                  handle_unknown='error',\n",
              "                                                                  n_values=None,\n",
              "                                                                  sparse=True))],\n",
              "                                            verbose=False),\n",
              "                                   ['CARRIER', 'DEST', 'ORIGIN',\n",
              "                                    'sched_dep_time'])],\n",
              "                    verbose=False)),\n",
              " ('gbc', GradientBoostingClassifier(criterion='friedman_mse', init=None,\n",
              "                             learning_rate=0.1, loss='deviance', max_depth=3,\n",
              "                             max_features=None, max_leaf_nodes=None,\n",
              "                             min_impurity_decrease=0.0, min_impurity_split=None,\n",
              "                             min_samples_leaf=1, min_samples_split=2,\n",
              "                             min_weight_fraction_leaf=0.0, n_estimators=200,\n",
              "                             n_iter_no_change=None, presort='auto',\n",
              "                             random_state=None, subsample=1.0, tol=0.0001,\n",
              "                             validation_fraction=0.1, verbose=0,\n",
              "                             warm_start=False))]"
            ]
          },
          "metadata": {
            "tags": []
          },
          "execution_count": 109
        }
      ]
    },
    {
      "cell_type": "code",
      "metadata": {
        "id": "pSUOIMK-jDPF",
        "colab_type": "code",
        "outputId": "52ceeff2-57e5-4f99-fd05-6d7fee3feb63",
        "colab": {
          "base_uri": "https://localhost:8080/",
          "height": 187
        }
      },
      "source": [
        "gbc_pipe.steps[1][1]"
      ],
      "execution_count": 0,
      "outputs": [
        {
          "output_type": "execute_result",
          "data": {
            "text/plain": [
              "GradientBoostingClassifier(criterion='friedman_mse', init=None,\n",
              "                           learning_rate=0.1, loss='deviance', max_depth=3,\n",
              "                           max_features=None, max_leaf_nodes=None,\n",
              "                           min_impurity_decrease=0.0, min_impurity_split=None,\n",
              "                           min_samples_leaf=1, min_samples_split=2,\n",
              "                           min_weight_fraction_leaf=0.0, n_estimators=200,\n",
              "                           n_iter_no_change=None, presort='auto',\n",
              "                           random_state=None, subsample=1.0, tol=0.0001,\n",
              "                           validation_fraction=0.1, verbose=0,\n",
              "                           warm_start=False)"
            ]
          },
          "metadata": {
            "tags": []
          },
          "execution_count": 110
        }
      ]
    },
    {
      "cell_type": "code",
      "metadata": {
        "id": "qMSspFgtjF0U",
        "colab_type": "code",
        "outputId": "43f8998f-9ba8-47b5-d246-0c82fd5d946c",
        "colab": {
          "base_uri": "https://localhost:8080/",
          "height": 34
        }
      },
      "source": [
        "type(gbc_pipe.steps[1][1])"
      ],
      "execution_count": 0,
      "outputs": [
        {
          "output_type": "execute_result",
          "data": {
            "text/plain": [
              "sklearn.ensemble.gradient_boosting.GradientBoostingClassifier"
            ]
          },
          "metadata": {
            "tags": []
          },
          "execution_count": 111
        }
      ]
    },
    {
      "cell_type": "markdown",
      "metadata": {
        "id": "ti_-kKLtjKrb",
        "colab_type": "text"
      },
      "source": [
        "Before testing the selected model with the test data, let's fit it on the entire training data."
      ]
    },
    {
      "cell_type": "code",
      "metadata": {
        "id": "B29_X8AbjNEm",
        "colab_type": "code",
        "colab": {}
      },
      "source": [
        "best_model = gbc_pipe"
      ],
      "execution_count": 0,
      "outputs": []
    },
    {
      "cell_type": "code",
      "metadata": {
        "id": "ephgqCYojQ3W",
        "colab_type": "code",
        "outputId": "6da3c970-d441-4aac-c83c-cddca5b9a150",
        "colab": {
          "base_uri": "https://localhost:8080/",
          "height": 561
        }
      },
      "source": [
        "best_model.fit(data, data_labels_arr.ravel())"
      ],
      "execution_count": 0,
      "outputs": [
        {
          "output_type": "execute_result",
          "data": {
            "text/plain": [
              "Pipeline(memory=None,\n",
              "         steps=[('prep',\n",
              "                 ColumnTransformer(n_jobs=None, remainder='drop',\n",
              "                                   sparse_threshold=0.3,\n",
              "                                   transformer_weights=None,\n",
              "                                   transformers=[('num_noscaling',\n",
              "                                                  Pipeline(memory=None,\n",
              "                                                           steps=[('num_imputer',\n",
              "                                                                   SimpleImputer(add_indicator=False,\n",
              "                                                                                 copy=True,\n",
              "                                                                                 fill_value=None,\n",
              "                                                                                 missing_values=nan,\n",
              "                                                                                 strategy='median',\n",
              "                                                                                 verbose=0))],\n",
              "                                                           verbose=False),\n",
              "                                                  ['FL_NUM', 'DAY_WEEK',\n",
              "                                                   '...\n",
              "                                            learning_rate=0.1, loss='deviance',\n",
              "                                            max_depth=3, max_features=None,\n",
              "                                            max_leaf_nodes=None,\n",
              "                                            min_impurity_decrease=0.0,\n",
              "                                            min_impurity_split=None,\n",
              "                                            min_samples_leaf=1,\n",
              "                                            min_samples_split=2,\n",
              "                                            min_weight_fraction_leaf=0.0,\n",
              "                                            n_estimators=200,\n",
              "                                            n_iter_no_change=None,\n",
              "                                            presort='auto', random_state=None,\n",
              "                                            subsample=1.0, tol=0.0001,\n",
              "                                            validation_fraction=0.1, verbose=0,\n",
              "                                            warm_start=False))],\n",
              "         verbose=False)"
            ]
          },
          "metadata": {
            "tags": []
          },
          "execution_count": 113
        }
      ]
    },
    {
      "cell_type": "markdown",
      "metadata": {
        "id": "oYJB0HYPjega",
        "colab_type": "text"
      },
      "source": [
        "- We can also analyze the feature importances for this model."
      ]
    },
    {
      "cell_type": "code",
      "metadata": {
        "id": "6ul8Ezm8jiLg",
        "colab_type": "code",
        "outputId": "768e9f36-9769-4765-e909-2021966d3da9",
        "colab": {
          "base_uri": "https://localhost:8080/",
          "height": 68
        }
      },
      "source": [
        "best_model.steps[1][1].feature_importances_"
      ],
      "execution_count": 0,
      "outputs": [
        {
          "output_type": "execute_result",
          "data": {
            "text/plain": [
              "array([0.310, 0.122, 0.270, 0.133, 0.002, 0.001, 0.003, 0.007, 0.006,\n",
              "       0.016, 0.001, 0.000, 0.032, 0.028, 0.049, 0.009, 0.008, 0.001,\n",
              "       0.000])"
            ]
          },
          "metadata": {
            "tags": []
          },
          "execution_count": 114
        }
      ]
    },
    {
      "cell_type": "code",
      "metadata": {
        "id": "Y-IA_P31jkTg",
        "colab_type": "code",
        "outputId": "c7c2d0a8-b500-48b5-9540-8d930e7b4894",
        "colab": {
          "base_uri": "https://localhost:8080/",
          "height": 68
        }
      },
      "source": [
        "data.columns"
      ],
      "execution_count": 0,
      "outputs": [
        {
          "output_type": "execute_result",
          "data": {
            "text/plain": [
              "Index(['CARRIER', 'DEP_TIME', 'DEST', 'FL_NUM', 'ORIGIN', 'Weather',\n",
              "       'DAY_WEEK', 'DAY_OF_MONTH', 'sched_dep_time'],\n",
              "      dtype='object')"
            ]
          },
          "metadata": {
            "tags": []
          },
          "execution_count": 115
        }
      ]
    },
    {
      "cell_type": "code",
      "metadata": {
        "id": "qyw2vm8sih82",
        "colab_type": "code",
        "colab": {}
      },
      "source": [
        "test_data_pred = best_model.predict(test_data)"
      ],
      "execution_count": 0,
      "outputs": []
    },
    {
      "cell_type": "code",
      "metadata": {
        "id": "viZtDNpqimCo",
        "colab_type": "code",
        "outputId": "0f5acc43-da59-4a63-dd98-ffa4ac5f5e8a",
        "colab": {
          "base_uri": "https://localhost:8080/",
          "height": 187
        }
      },
      "source": [
        "from sklearn.metrics import accuracy_score, precision_score, recall_score, roc_auc_score, f1_score\n",
        "\n",
        "print(\"Accuracy for the holdout data is: {:.3f}\\n\".format(accuracy_score(test_data_labels_arr.ravel(), test_data_pred)))\n",
        "print(\"Precision for the holdout data is: {:.3f}\\n\".format(precision_score(test_data_labels_arr.ravel(), test_data_pred)))\n",
        "print(\"Recall for the holdout data is: {:.3f}\\n\".format(recall_score(test_data_labels_arr.ravel(), test_data_pred)))\n",
        "print(\"F1-score for the holdout data is: {:.3f}\\n\".format(f1_score(test_data_labels_arr.ravel(), test_data_pred)))\n",
        "print(\"AUC for the holdout data is: {:.3f}\\n\".format(roc_auc_score(test_data_labels_arr.ravel(), test_data_pred)))"
      ],
      "execution_count": 0,
      "outputs": [
        {
          "output_type": "stream",
          "text": [
            "Accuracy for the holdout data is: 0.844\n",
            "\n",
            "Precision for the holdout data is: 0.707\n",
            "\n",
            "Recall for the holdout data is: 0.337\n",
            "\n",
            "F1-score for the holdout data is: 0.457\n",
            "\n",
            "AUC for the holdout data is: 0.652\n",
            "\n"
          ],
          "name": "stdout"
        }
      ]
    },
    {
      "cell_type": "markdown",
      "metadata": {
        "id": "hMJ7RscKUlMV",
        "colab_type": "text"
      },
      "source": [
        "#Extra Credit\n",
        "\n",
        "##Modeling Using Deep Learning"
      ]
    },
    {
      "cell_type": "code",
      "metadata": {
        "id": "rJxJsRwsNRDX",
        "colab_type": "code",
        "colab": {}
      },
      "source": [
        "import tensorflow as tf\n",
        "from tensorflow import keras"
      ],
      "execution_count": 0,
      "outputs": []
    },
    {
      "cell_type": "code",
      "metadata": {
        "id": "j_0V_LbrUBcr",
        "colab_type": "code",
        "colab": {}
      },
      "source": [
        "from sklearn.model_selection import train_test_split\n",
        "#split the entire set into train-test\n",
        "X_train_full, X_test, y_train_full, y_test = train_test_split(data_prepared, data_labels_arr, random_state=42)\n",
        "\n",
        "#split the training data into train-validation\n",
        "X_train, X_valid, y_train, y_valid = train_test_split(X_train_full, y_train_full, random_state=42)"
      ],
      "execution_count": 0,
      "outputs": []
    },
    {
      "cell_type": "code",
      "metadata": {
        "id": "EoEwAglJfQ_Y",
        "colab_type": "code",
        "colab": {}
      },
      "source": [
        "from sklearn.preprocessing import StandardScaler\n",
        "#perform standardization\n",
        "scaler = StandardScaler()\n",
        "X_train = scaler.fit_transform(X_train)\n",
        "X_valid = scaler.transform(X_valid)\n",
        "X_test = scaler.transform(X_test)"
      ],
      "execution_count": 0,
      "outputs": []
    },
    {
      "cell_type": "code",
      "metadata": {
        "id": "d3w33fNWVenx",
        "colab_type": "code",
        "outputId": "7937b776-c1eb-45cf-d6f5-0594232dcb10",
        "colab": {
          "base_uri": "https://localhost:8080/",
          "height": 34
        }
      },
      "source": [
        "X_train.shape"
      ],
      "execution_count": 0,
      "outputs": [
        {
          "output_type": "execute_result",
          "data": {
            "text/plain": [
              "(990, 19)"
            ]
          },
          "metadata": {
            "tags": []
          },
          "execution_count": 261
        }
      ]
    },
    {
      "cell_type": "code",
      "metadata": {
        "id": "VRFCGYKeVzgS",
        "colab_type": "code",
        "outputId": "c1e1dbcf-0da8-4431-a78f-4740723fc912",
        "colab": {
          "base_uri": "https://localhost:8080/",
          "height": 34
        }
      },
      "source": [
        "X_train.shape[1:]"
      ],
      "execution_count": 0,
      "outputs": [
        {
          "output_type": "execute_result",
          "data": {
            "text/plain": [
              "(19,)"
            ]
          },
          "metadata": {
            "tags": []
          },
          "execution_count": 262
        }
      ]
    },
    {
      "cell_type": "code",
      "metadata": {
        "id": "-e4Cm8_tV2T7",
        "colab_type": "code",
        "colab": {}
      },
      "source": [
        "model = keras.models.Sequential()\n",
        "model.add(keras.layers.Dense(30, activation=\"relu\", input_shape=X_train.shape[1:]))\n",
        "model.add(keras.layers.Dense(1))"
      ],
      "execution_count": 0,
      "outputs": []
    },
    {
      "cell_type": "code",
      "metadata": {
        "id": "Q_EcwitfV5ET",
        "colab_type": "code",
        "colab": {}
      },
      "source": [
        "keras.backend.clear_session()\n",
        "np.random.seed(42)"
      ],
      "execution_count": 0,
      "outputs": []
    },
    {
      "cell_type": "code",
      "metadata": {
        "id": "1KQ6vI5jV-tz",
        "colab_type": "code",
        "colab": {}
      },
      "source": [
        "model = keras.models.Sequential([\n",
        "    keras.layers.Dense(30, activation=\"relu\", input_shape=X_train.shape[1:]),\n",
        "    keras.layers.Dense(1)\n",
        "])"
      ],
      "execution_count": 0,
      "outputs": []
    },
    {
      "cell_type": "code",
      "metadata": {
        "id": "lVPfIo_lWGBz",
        "colab_type": "code",
        "outputId": "85c91cd5-69ff-4334-b2c3-527f43bfd2eb",
        "colab": {
          "base_uri": "https://localhost:8080/",
          "height": 221
        }
      },
      "source": [
        "model.summary()"
      ],
      "execution_count": 0,
      "outputs": [
        {
          "output_type": "stream",
          "text": [
            "Model: \"sequential\"\n",
            "_________________________________________________________________\n",
            "Layer (type)                 Output Shape              Param #   \n",
            "=================================================================\n",
            "dense (Dense)                (None, 30)                600       \n",
            "_________________________________________________________________\n",
            "dense_1 (Dense)              (None, 1)                 31        \n",
            "=================================================================\n",
            "Total params: 631\n",
            "Trainable params: 631\n",
            "Non-trainable params: 0\n",
            "_________________________________________________________________\n"
          ],
          "name": "stdout"
        }
      ]
    },
    {
      "cell_type": "code",
      "metadata": {
        "id": "ybzQWEH2WGf9",
        "colab_type": "code",
        "outputId": "21b41f5c-039f-4550-dd4a-9d65d18b6344",
        "colab": {
          "base_uri": "https://localhost:8080/",
          "height": 51
        }
      },
      "source": [
        "model.layers"
      ],
      "execution_count": 0,
      "outputs": [
        {
          "output_type": "execute_result",
          "data": {
            "text/plain": [
              "[<tensorflow.python.keras.layers.core.Dense at 0x7f705e086e48>,\n",
              " <tensorflow.python.keras.layers.core.Dense at 0x7f705e046d68>]"
            ]
          },
          "metadata": {
            "tags": []
          },
          "execution_count": 267
        }
      ]
    },
    {
      "cell_type": "code",
      "metadata": {
        "id": "CwPht5z1WI_c",
        "colab_type": "code",
        "outputId": "0b154bec-c9d6-41e7-e741-14636ae03d97",
        "colab": {
          "base_uri": "https://localhost:8080/",
          "height": 34
        }
      },
      "source": [
        "hidden1 = model.layers[0]\n",
        "hidden1.name"
      ],
      "execution_count": 0,
      "outputs": [
        {
          "output_type": "execute_result",
          "data": {
            "text/plain": [
              "'dense'"
            ]
          },
          "metadata": {
            "tags": []
          },
          "execution_count": 268
        }
      ]
    },
    {
      "cell_type": "code",
      "metadata": {
        "id": "DGVBOc6oWK0q",
        "colab_type": "code",
        "colab": {}
      },
      "source": [
        "weights, biases = hidden1.get_weights()"
      ],
      "execution_count": 0,
      "outputs": []
    },
    {
      "cell_type": "code",
      "metadata": {
        "id": "i0f_5fHKWQTM",
        "colab_type": "code",
        "outputId": "250e565c-4aae-4eaf-8c20-4fb9f2519107",
        "colab": {
          "base_uri": "https://localhost:8080/",
          "height": 34
        }
      },
      "source": [
        "weights.shape"
      ],
      "execution_count": 0,
      "outputs": [
        {
          "output_type": "execute_result",
          "data": {
            "text/plain": [
              "(19, 30)"
            ]
          },
          "metadata": {
            "tags": []
          },
          "execution_count": 270
        }
      ]
    },
    {
      "cell_type": "code",
      "metadata": {
        "id": "m3hehH6RWR9C",
        "colab_type": "code",
        "outputId": "720fa551-b179-4766-ac95-2a24ab6fcbb7",
        "colab": {
          "base_uri": "https://localhost:8080/",
          "height": 34
        }
      },
      "source": [
        "biases.shape"
      ],
      "execution_count": 0,
      "outputs": [
        {
          "output_type": "execute_result",
          "data": {
            "text/plain": [
              "(30,)"
            ]
          },
          "metadata": {
            "tags": []
          },
          "execution_count": 271
        }
      ]
    },
    {
      "cell_type": "code",
      "metadata": {
        "id": "z5b-YmbkWT6B",
        "colab_type": "code",
        "colab": {}
      },
      "source": [
        "from tensorflow.keras import backend"
      ],
      "execution_count": 0,
      "outputs": []
    },
    {
      "cell_type": "code",
      "metadata": {
        "id": "-bfbEaoSaTSD",
        "colab_type": "code",
        "colab": {}
      },
      "source": [
        "model.compile(loss=\"sparse_categorical_crossentropy\",\n",
        " optimizer=\"sgd\",\n",
        " metrics=[\"accuracy\"])\n"
      ],
      "execution_count": 0,
      "outputs": []
    },
    {
      "cell_type": "code",
      "metadata": {
        "id": "MKHy6oKIhE8P",
        "colab_type": "code",
        "colab": {}
      },
      "source": [
        "model.compile(loss=keras.losses.sparse_categorical_crossentropy,\n",
        " optimizer=keras.optimizers.SGD(),\n",
        " metrics=[keras.metrics.sparse_categorical_accuracy])"
      ],
      "execution_count": 0,
      "outputs": []
    },
    {
      "cell_type": "code",
      "metadata": {
        "id": "WVDZr_qmacXE",
        "colab_type": "code",
        "colab": {}
      },
      "source": [
        "%time history = model.fit(X_train, y_train, epochs=20, validation_data=(X_valid, y_valid))"
      ],
      "execution_count": 0,
      "outputs": []
    },
    {
      "cell_type": "code",
      "metadata": {
        "id": "O7z5bz1qa1TK",
        "colab_type": "code",
        "outputId": "9f8d4484-5b93-4a1a-f835-a036102b9e9f",
        "colab": {
          "base_uri": "https://localhost:8080/",
          "height": 68
        }
      },
      "source": [
        "X_new = X_test[:3]\n",
        "y_pred = model.predict(X_new)\n",
        "y_pred"
      ],
      "execution_count": 0,
      "outputs": [
        {
          "output_type": "execute_result",
          "data": {
            "text/plain": [
              "array([[-1.413],\n",
              "       [0.239],\n",
              "       [-1.070]], dtype=float32)"
            ]
          },
          "metadata": {
            "tags": []
          },
          "execution_count": 278
        }
      ]
    }
  ]
}